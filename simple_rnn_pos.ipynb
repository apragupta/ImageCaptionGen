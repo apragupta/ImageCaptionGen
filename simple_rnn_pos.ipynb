{
 "cells": [
  {
   "cell_type": "markdown",
   "metadata": {
    "collapsed": true
   },
   "source": [
    "# Building and training a very simple RNN from scratch"
   ]
  },
  {
   "cell_type": "markdown",
   "metadata": {},
   "source": [
    "Sources:\n",
    " - [Show, Attend and Tell Paper](https://arxiv.org/pdf/1502.03044.pdf)\n",
    " - [Andrej Karapthy's Dissertation](https://cs.stanford.edu/people/karpathy/main.pdf) (See section 4.2)\n",
    " - [TF Tutorial](https://www.tensorflow.org/tutorials/text/image_captioning)"
   ]
  },
  {
   "cell_type": "markdown",
   "metadata": {},
   "source": [
    "## Load Training Dataset:\n",
    "\n",
    "We will use a sample of 30k image caption pairs as training data, leaving a large random sample of untouched 10k image caption pairs for testing"
   ]
  },
  {
   "cell_type": "code",
   "execution_count": 1,
   "metadata": {
    "ExecuteTime": {
     "end_time": "2021-04-21T16:46:09.802474Z",
     "start_time": "2021-04-21T16:46:06.791042Z"
    },
    "pycharm": {
     "is_executing": true
    }
   },
   "outputs": [
    {
     "name": "stdout",
     "output_type": "stream",
     "text": [
      "2.4.1\n"
     ]
    }
   ],
   "source": [
    "import pandas as pd \n",
    "import numpy as np\n",
    "import tensorflow as tf\n",
    "import os\n",
    "from tqdm import tqdm\n",
    "import time\n",
    "#initialization code required to make tensorflow work on my systemabs\n",
    "config = tf.compat.v1.ConfigProto()\n",
    "config.gpu_options.allow_growth = True\n",
    "session = tf.compat.v1.Session(config=config)\n",
    "print(tf.__version__)"
   ]
  },
  {
   "cell_type": "code",
   "execution_count": null,
   "metadata": {
    "ExecuteTime": {
     "end_time": "2021-04-21T16:25:20.757449Z",
     "start_time": "2021-04-21T16:25:20.746920Z"
    }
   },
   "outputs": [],
   "source": []
  },
  {
   "cell_type": "code",
   "execution_count": 2,
   "metadata": {
    "ExecuteTime": {
     "end_time": "2021-04-21T16:46:10.213350Z",
     "start_time": "2021-04-21T16:46:09.805489Z"
    }
   },
   "outputs": [],
   "source": [
    "data_df = pd.read_csv('data/30k_sample/sent_added')"
   ]
  },
  {
   "cell_type": "code",
   "execution_count": 3,
   "metadata": {
    "ExecuteTime": {
     "end_time": "2021-04-21T16:46:10.243090Z",
     "start_time": "2021-04-21T16:46:10.216338Z"
    },
    "scrolled": true
   },
   "outputs": [
    {
     "data": {
      "text/html": [
       "<div>\n",
       "<style scoped>\n",
       "    .dataframe tbody tr th:only-of-type {\n",
       "        vertical-align: middle;\n",
       "    }\n",
       "\n",
       "    .dataframe tbody tr th {\n",
       "        vertical-align: top;\n",
       "    }\n",
       "\n",
       "    .dataframe thead th {\n",
       "        text-align: right;\n",
       "    }\n",
       "</style>\n",
       "<table border=\"1\" class=\"dataframe\">\n",
       "  <thead>\n",
       "    <tr style=\"text-align: right;\">\n",
       "      <th></th>\n",
       "      <th>global_index</th>\n",
       "      <th>caption</th>\n",
       "      <th>link</th>\n",
       "      <th>objects</th>\n",
       "      <th>mid</th>\n",
       "      <th>object_confidences</th>\n",
       "      <th>image_path</th>\n",
       "      <th>size</th>\n",
       "      <th>height</th>\n",
       "      <th>width</th>\n",
       "      <th>aspect_ratio</th>\n",
       "      <th>num_obj</th>\n",
       "      <th>nltk_sent_polarity</th>\n",
       "      <th>nltk_sent</th>\n",
       "      <th>nltk_sent_pos_neg</th>\n",
       "      <th>nltk_sent_pos_neg_conf</th>\n",
       "      <th>hf_sent</th>\n",
       "      <th>hf_sent_class</th>\n",
       "      <th>hf_sent_conf</th>\n",
       "    </tr>\n",
       "  </thead>\n",
       "  <tbody>\n",
       "    <tr>\n",
       "      <th>0</th>\n",
       "      <td>552309</td>\n",
       "      <td>drum and drumsticks pattern repeat seamless in...</td>\n",
       "      <td>https://thumb7.shutterstock.com/display_pic_wi...</td>\n",
       "      <td>font,line,black-and-white,pattern,design,illus...</td>\n",
       "      <td>/m/03gq5hm,/m/03scnj,/m/01g6gs,/m/0hwky,/m/02c...</td>\n",
       "      <td>0.920914888381958,0.8690993189811707,0.7811979...</td>\n",
       "      <td>data\\30k_sample\\images\\552309.png</td>\n",
       "      <td>(450, 470)</td>\n",
       "      <td>470</td>\n",
       "      <td>450</td>\n",
       "      <td>0.957447</td>\n",
       "      <td>11</td>\n",
       "      <td>{'neg': 0.0, 'neu': 1.0, 'pos': 0.0, 'compound...</td>\n",
       "      <td>neu</td>\n",
       "      <td>pos</td>\n",
       "      <td>0.000</td>\n",
       "      <td>[{'label': 'NEGATIVE', 'score': 0.921588003635...</td>\n",
       "      <td>NEGATIVE</td>\n",
       "      <td>0.921588</td>\n",
       "    </tr>\n",
       "    <tr>\n",
       "      <th>1</th>\n",
       "      <td>225955</td>\n",
       "      <td>abstract image with bright triangles on a whit...</td>\n",
       "      <td>https://thumb7.shutterstock.com/display_pic_wi...</td>\n",
       "      <td>orange,yellow,text,line,graphic design,font,ma...</td>\n",
       "      <td>/m/0jc_p,/m/088fh,/m/07s6nbt,/m/03scnj,/m/03c3...</td>\n",
       "      <td>0.952930212020874,0.9477446675300598,0.9396671...</td>\n",
       "      <td>data\\30k_sample\\images\\225955.png</td>\n",
       "      <td>(450, 470)</td>\n",
       "      <td>470</td>\n",
       "      <td>450</td>\n",
       "      <td>0.957447</td>\n",
       "      <td>10</td>\n",
       "      <td>{'neg': 0.0, 'neu': 0.707, 'pos': 0.293, 'comp...</td>\n",
       "      <td>neu</td>\n",
       "      <td>pos</td>\n",
       "      <td>0.293</td>\n",
       "      <td>[{'label': 'POSITIVE', 'score': 0.990414261817...</td>\n",
       "      <td>POSITIVE</td>\n",
       "      <td>0.990414</td>\n",
       "    </tr>\n",
       "    <tr>\n",
       "      <th>2</th>\n",
       "      <td>1415488</td>\n",
       "      <td>digital art selected for the #</td>\n",
       "      <td>http://33.media.tumblr.com/22eb1f56c2492784192...</td>\n",
       "      <td>poster,movie,comedy,advertising,album cover,co...</td>\n",
       "      <td>/m/01n5jq,/m/02vxn,/g/12gh3rj_8,/m/011s0,/m/06...</td>\n",
       "      <td>0.9679052233695984,0.9337120056152344,0.663505...</td>\n",
       "      <td>data\\30k_sample\\images\\1415488.png</td>\n",
       "      <td>(1000, 1415)</td>\n",
       "      <td>1415</td>\n",
       "      <td>1000</td>\n",
       "      <td>0.706714</td>\n",
       "      <td>8</td>\n",
       "      <td>{'neg': 0.0, 'neu': 1.0, 'pos': 0.0, 'compound...</td>\n",
       "      <td>neu</td>\n",
       "      <td>pos</td>\n",
       "      <td>0.000</td>\n",
       "      <td>[{'label': 'POSITIVE', 'score': 0.992724180221...</td>\n",
       "      <td>POSITIVE</td>\n",
       "      <td>0.992724</td>\n",
       "    </tr>\n",
       "    <tr>\n",
       "      <th>3</th>\n",
       "      <td>1158867</td>\n",
       "      <td>girl at the computer prints royalty free stock...</td>\n",
       "      <td>https://static9.depositphotos.com/1000372/1077...</td>\n",
       "      <td>silhouette,cartoon,sitting,desk,illustration,t...</td>\n",
       "      <td>/m/03thgk,/m/0215n,/m/015c4z,/m/01y9k5,/m/01kr...</td>\n",
       "      <td>0.9242428541183472,0.9118318557739258,0.881848...</td>\n",
       "      <td>data\\30k_sample\\images\\1158867.png</td>\n",
       "      <td>(600, 600)</td>\n",
       "      <td>600</td>\n",
       "      <td>600</td>\n",
       "      <td>1.000000</td>\n",
       "      <td>12</td>\n",
       "      <td>{'neg': 0.0, 'neu': 0.708, 'pos': 0.292, 'comp...</td>\n",
       "      <td>neu</td>\n",
       "      <td>pos</td>\n",
       "      <td>0.292</td>\n",
       "      <td>[{'label': 'NEGATIVE', 'score': 0.995157957077...</td>\n",
       "      <td>NEGATIVE</td>\n",
       "      <td>0.995158</td>\n",
       "    </tr>\n",
       "    <tr>\n",
       "      <th>4</th>\n",
       "      <td>218113</td>\n",
       "      <td>roadside home and tree , along the road .</td>\n",
       "      <td>https://dfkotz.files.wordpress.com/2016/10/201...</td>\n",
       "      <td>tree,leaf,sky,nature,autumn,natural landscape,...</td>\n",
       "      <td>/m/07j7r,/m/09t49,/m/01bqvp,/m/05h0n,/m/0134l,...</td>\n",
       "      <td>0.9876532554626465,0.9692031741142273,0.964882...</td>\n",
       "      <td>data\\30k_sample\\images\\218113.png</td>\n",
       "      <td>(667, 1000)</td>\n",
       "      <td>1000</td>\n",
       "      <td>667</td>\n",
       "      <td>0.667000</td>\n",
       "      <td>15</td>\n",
       "      <td>{'neg': 0.0, 'neu': 1.0, 'pos': 0.0, 'compound...</td>\n",
       "      <td>neu</td>\n",
       "      <td>pos</td>\n",
       "      <td>0.000</td>\n",
       "      <td>[{'label': 'POSITIVE', 'score': 0.988865137100...</td>\n",
       "      <td>POSITIVE</td>\n",
       "      <td>0.988865</td>\n",
       "    </tr>\n",
       "    <tr>\n",
       "      <th>...</th>\n",
       "      <td>...</td>\n",
       "      <td>...</td>\n",
       "      <td>...</td>\n",
       "      <td>...</td>\n",
       "      <td>...</td>\n",
       "      <td>...</td>\n",
       "      <td>...</td>\n",
       "      <td>...</td>\n",
       "      <td>...</td>\n",
       "      <td>...</td>\n",
       "      <td>...</td>\n",
       "      <td>...</td>\n",
       "      <td>...</td>\n",
       "      <td>...</td>\n",
       "      <td>...</td>\n",
       "      <td>...</td>\n",
       "      <td>...</td>\n",
       "      <td>...</td>\n",
       "      <td>...</td>\n",
       "    </tr>\n",
       "    <tr>\n",
       "      <th>29923</th>\n",
       "      <td>471205</td>\n",
       "      <td>the house of deity : mosaics</td>\n",
       "      <td>https://media-cdn.tripadvisor.com/media/photo-...</td>\n",
       "      <td>art,banknote,paper,mosaic,history,ancient hist...</td>\n",
       "      <td>/m/0jjw,/m/01dl3j,/m/0641k,/m/0gmk4,/m/03g3w,/...</td>\n",
       "      <td>0.8178251385688782,0.7246490716934204,0.702492...</td>\n",
       "      <td>data\\30k_sample\\images\\471205.png</td>\n",
       "      <td>(550, 412)</td>\n",
       "      <td>412</td>\n",
       "      <td>550</td>\n",
       "      <td>1.334951</td>\n",
       "      <td>8</td>\n",
       "      <td>{'neg': 0.0, 'neu': 1.0, 'pos': 0.0, 'compound...</td>\n",
       "      <td>neu</td>\n",
       "      <td>pos</td>\n",
       "      <td>0.000</td>\n",
       "      <td>[{'label': 'POSITIVE', 'score': 0.989008367061...</td>\n",
       "      <td>POSITIVE</td>\n",
       "      <td>0.989008</td>\n",
       "    </tr>\n",
       "    <tr>\n",
       "      <th>29924</th>\n",
       "      <td>593566</td>\n",
       "      <td>actor at a fashion event</td>\n",
       "      <td>https://media.gettyimages.com/photos/monica-be...</td>\n",
       "      <td>stage,performance,fashion,singer,event,fashion...</td>\n",
       "      <td>/m/04_5hy,/m/01gq53,/m/032tl,/m/09l65,/m/081pk...</td>\n",
       "      <td>0.9543529152870178,0.9349019527435303,0.909356...</td>\n",
       "      <td>data\\30k_sample\\images\\593566.png</td>\n",
       "      <td>(468, 612)</td>\n",
       "      <td>612</td>\n",
       "      <td>468</td>\n",
       "      <td>0.764706</td>\n",
       "      <td>15</td>\n",
       "      <td>{'neg': 0.0, 'neu': 1.0, 'pos': 0.0, 'compound...</td>\n",
       "      <td>neu</td>\n",
       "      <td>pos</td>\n",
       "      <td>0.000</td>\n",
       "      <td>[{'label': 'POSITIVE', 'score': 0.960797250270...</td>\n",
       "      <td>POSITIVE</td>\n",
       "      <td>0.960797</td>\n",
       "    </tr>\n",
       "    <tr>\n",
       "      <th>29925</th>\n",
       "      <td>1098702</td>\n",
       "      <td>man conducted the service for person</td>\n",
       "      <td>https://i2.wp.com/i.dailymail.co.uk/i/pix/2015...</td>\n",
       "      <td>rite,religious institute,bishop,ceremony,event...</td>\n",
       "      <td>/m/01rhcg,/m/0h64tv6,/m/027k49j,/m/016c4t,/m/0...</td>\n",
       "      <td>0.9725196361541748,0.9299913644790649,0.912284...</td>\n",
       "      <td>data\\30k_sample\\images\\1098702.png</td>\n",
       "      <td>(634, 500)</td>\n",
       "      <td>500</td>\n",
       "      <td>634</td>\n",
       "      <td>1.268000</td>\n",
       "      <td>15</td>\n",
       "      <td>{'neg': 0.0, 'neu': 1.0, 'pos': 0.0, 'compound...</td>\n",
       "      <td>neu</td>\n",
       "      <td>pos</td>\n",
       "      <td>0.000</td>\n",
       "      <td>[{'label': 'POSITIVE', 'score': 0.997708082199...</td>\n",
       "      <td>POSITIVE</td>\n",
       "      <td>0.997708</td>\n",
       "    </tr>\n",
       "    <tr>\n",
       "      <th>29926</th>\n",
       "      <td>790196</td>\n",
       "      <td>supermodel is photographed at a portrait shoot .</td>\n",
       "      <td>https://media.gettyimages.com/photos/model-adr...</td>\n",
       "      <td>beauty,abdomen,arm,photo shoot,sitting,photogr...</td>\n",
       "      <td>/m/01f43,/m/08y7p8,/m/0dzf4,/m/02qbl1m,/m/015c...</td>\n",
       "      <td>0.8674901723861694,0.8470026850700378,0.828364...</td>\n",
       "      <td>data\\30k_sample\\images\\790196.png</td>\n",
       "      <td>(681, 1024)</td>\n",
       "      <td>1024</td>\n",
       "      <td>681</td>\n",
       "      <td>0.665039</td>\n",
       "      <td>15</td>\n",
       "      <td>{'neg': 0.324, 'neu': 0.676, 'pos': 0.0, 'comp...</td>\n",
       "      <td>neu</td>\n",
       "      <td>neg</td>\n",
       "      <td>0.324</td>\n",
       "      <td>[{'label': 'POSITIVE', 'score': 0.977244794368...</td>\n",
       "      <td>POSITIVE</td>\n",
       "      <td>0.977245</td>\n",
       "    </tr>\n",
       "    <tr>\n",
       "      <th>29927</th>\n",
       "      <td>1435814</td>\n",
       "      <td>character dressed in the traditional way .</td>\n",
       "      <td>https://us.123rf.com/450wm/asantosg/asantosg16...</td>\n",
       "      <td>cartoon,illustration,arm,sitting,clip art,hand...</td>\n",
       "      <td>/m/0215n,/m/01kr8f,/m/0dzf4,/m/015c4z,/m/03g09...</td>\n",
       "      <td>0.9820742011070251,0.8951396942138672,0.756043...</td>\n",
       "      <td>data\\30k_sample\\images\\1435814.png</td>\n",
       "      <td>(450, 450)</td>\n",
       "      <td>450</td>\n",
       "      <td>450</td>\n",
       "      <td>1.000000</td>\n",
       "      <td>12</td>\n",
       "      <td>{'neg': 0.0, 'neu': 1.0, 'pos': 0.0, 'compound...</td>\n",
       "      <td>neu</td>\n",
       "      <td>pos</td>\n",
       "      <td>0.000</td>\n",
       "      <td>[{'label': 'POSITIVE', 'score': 0.984811305999...</td>\n",
       "      <td>POSITIVE</td>\n",
       "      <td>0.984811</td>\n",
       "    </tr>\n",
       "  </tbody>\n",
       "</table>\n",
       "<p>29928 rows × 19 columns</p>\n",
       "</div>"
      ],
      "text/plain": [
       "       global_index                                            caption  \\\n",
       "0            552309  drum and drumsticks pattern repeat seamless in...   \n",
       "1            225955  abstract image with bright triangles on a whit...   \n",
       "2           1415488                     digital art selected for the #   \n",
       "3           1158867  girl at the computer prints royalty free stock...   \n",
       "4            218113          roadside home and tree , along the road .   \n",
       "...             ...                                                ...   \n",
       "29923        471205                       the house of deity : mosaics   \n",
       "29924        593566                           actor at a fashion event   \n",
       "29925       1098702               man conducted the service for person   \n",
       "29926        790196   supermodel is photographed at a portrait shoot .   \n",
       "29927       1435814         character dressed in the traditional way .   \n",
       "\n",
       "                                                    link  \\\n",
       "0      https://thumb7.shutterstock.com/display_pic_wi...   \n",
       "1      https://thumb7.shutterstock.com/display_pic_wi...   \n",
       "2      http://33.media.tumblr.com/22eb1f56c2492784192...   \n",
       "3      https://static9.depositphotos.com/1000372/1077...   \n",
       "4      https://dfkotz.files.wordpress.com/2016/10/201...   \n",
       "...                                                  ...   \n",
       "29923  https://media-cdn.tripadvisor.com/media/photo-...   \n",
       "29924  https://media.gettyimages.com/photos/monica-be...   \n",
       "29925  https://i2.wp.com/i.dailymail.co.uk/i/pix/2015...   \n",
       "29926  https://media.gettyimages.com/photos/model-adr...   \n",
       "29927  https://us.123rf.com/450wm/asantosg/asantosg16...   \n",
       "\n",
       "                                                 objects  \\\n",
       "0      font,line,black-and-white,pattern,design,illus...   \n",
       "1      orange,yellow,text,line,graphic design,font,ma...   \n",
       "2      poster,movie,comedy,advertising,album cover,co...   \n",
       "3      silhouette,cartoon,sitting,desk,illustration,t...   \n",
       "4      tree,leaf,sky,nature,autumn,natural landscape,...   \n",
       "...                                                  ...   \n",
       "29923  art,banknote,paper,mosaic,history,ancient hist...   \n",
       "29924  stage,performance,fashion,singer,event,fashion...   \n",
       "29925  rite,religious institute,bishop,ceremony,event...   \n",
       "29926  beauty,abdomen,arm,photo shoot,sitting,photogr...   \n",
       "29927  cartoon,illustration,arm,sitting,clip art,hand...   \n",
       "\n",
       "                                                     mid  \\\n",
       "0      /m/03gq5hm,/m/03scnj,/m/01g6gs,/m/0hwky,/m/02c...   \n",
       "1      /m/0jc_p,/m/088fh,/m/07s6nbt,/m/03scnj,/m/03c3...   \n",
       "2      /m/01n5jq,/m/02vxn,/g/12gh3rj_8,/m/011s0,/m/06...   \n",
       "3      /m/03thgk,/m/0215n,/m/015c4z,/m/01y9k5,/m/01kr...   \n",
       "4      /m/07j7r,/m/09t49,/m/01bqvp,/m/05h0n,/m/0134l,...   \n",
       "...                                                  ...   \n",
       "29923  /m/0jjw,/m/01dl3j,/m/0641k,/m/0gmk4,/m/03g3w,/...   \n",
       "29924  /m/04_5hy,/m/01gq53,/m/032tl,/m/09l65,/m/081pk...   \n",
       "29925  /m/01rhcg,/m/0h64tv6,/m/027k49j,/m/016c4t,/m/0...   \n",
       "29926  /m/01f43,/m/08y7p8,/m/0dzf4,/m/02qbl1m,/m/015c...   \n",
       "29927  /m/0215n,/m/01kr8f,/m/0dzf4,/m/015c4z,/m/03g09...   \n",
       "\n",
       "                                      object_confidences  \\\n",
       "0      0.920914888381958,0.8690993189811707,0.7811979...   \n",
       "1      0.952930212020874,0.9477446675300598,0.9396671...   \n",
       "2      0.9679052233695984,0.9337120056152344,0.663505...   \n",
       "3      0.9242428541183472,0.9118318557739258,0.881848...   \n",
       "4      0.9876532554626465,0.9692031741142273,0.964882...   \n",
       "...                                                  ...   \n",
       "29923  0.8178251385688782,0.7246490716934204,0.702492...   \n",
       "29924  0.9543529152870178,0.9349019527435303,0.909356...   \n",
       "29925  0.9725196361541748,0.9299913644790649,0.912284...   \n",
       "29926  0.8674901723861694,0.8470026850700378,0.828364...   \n",
       "29927  0.9820742011070251,0.8951396942138672,0.756043...   \n",
       "\n",
       "                               image_path          size  height  width  \\\n",
       "0       data\\30k_sample\\images\\552309.png    (450, 470)     470    450   \n",
       "1       data\\30k_sample\\images\\225955.png    (450, 470)     470    450   \n",
       "2      data\\30k_sample\\images\\1415488.png  (1000, 1415)    1415   1000   \n",
       "3      data\\30k_sample\\images\\1158867.png    (600, 600)     600    600   \n",
       "4       data\\30k_sample\\images\\218113.png   (667, 1000)    1000    667   \n",
       "...                                   ...           ...     ...    ...   \n",
       "29923   data\\30k_sample\\images\\471205.png    (550, 412)     412    550   \n",
       "29924   data\\30k_sample\\images\\593566.png    (468, 612)     612    468   \n",
       "29925  data\\30k_sample\\images\\1098702.png    (634, 500)     500    634   \n",
       "29926   data\\30k_sample\\images\\790196.png   (681, 1024)    1024    681   \n",
       "29927  data\\30k_sample\\images\\1435814.png    (450, 450)     450    450   \n",
       "\n",
       "       aspect_ratio  num_obj  \\\n",
       "0          0.957447       11   \n",
       "1          0.957447       10   \n",
       "2          0.706714        8   \n",
       "3          1.000000       12   \n",
       "4          0.667000       15   \n",
       "...             ...      ...   \n",
       "29923      1.334951        8   \n",
       "29924      0.764706       15   \n",
       "29925      1.268000       15   \n",
       "29926      0.665039       15   \n",
       "29927      1.000000       12   \n",
       "\n",
       "                                      nltk_sent_polarity nltk_sent  \\\n",
       "0      {'neg': 0.0, 'neu': 1.0, 'pos': 0.0, 'compound...       neu   \n",
       "1      {'neg': 0.0, 'neu': 0.707, 'pos': 0.293, 'comp...       neu   \n",
       "2      {'neg': 0.0, 'neu': 1.0, 'pos': 0.0, 'compound...       neu   \n",
       "3      {'neg': 0.0, 'neu': 0.708, 'pos': 0.292, 'comp...       neu   \n",
       "4      {'neg': 0.0, 'neu': 1.0, 'pos': 0.0, 'compound...       neu   \n",
       "...                                                  ...       ...   \n",
       "29923  {'neg': 0.0, 'neu': 1.0, 'pos': 0.0, 'compound...       neu   \n",
       "29924  {'neg': 0.0, 'neu': 1.0, 'pos': 0.0, 'compound...       neu   \n",
       "29925  {'neg': 0.0, 'neu': 1.0, 'pos': 0.0, 'compound...       neu   \n",
       "29926  {'neg': 0.324, 'neu': 0.676, 'pos': 0.0, 'comp...       neu   \n",
       "29927  {'neg': 0.0, 'neu': 1.0, 'pos': 0.0, 'compound...       neu   \n",
       "\n",
       "      nltk_sent_pos_neg  nltk_sent_pos_neg_conf  \\\n",
       "0                   pos                   0.000   \n",
       "1                   pos                   0.293   \n",
       "2                   pos                   0.000   \n",
       "3                   pos                   0.292   \n",
       "4                   pos                   0.000   \n",
       "...                 ...                     ...   \n",
       "29923               pos                   0.000   \n",
       "29924               pos                   0.000   \n",
       "29925               pos                   0.000   \n",
       "29926               neg                   0.324   \n",
       "29927               pos                   0.000   \n",
       "\n",
       "                                                 hf_sent hf_sent_class  \\\n",
       "0      [{'label': 'NEGATIVE', 'score': 0.921588003635...      NEGATIVE   \n",
       "1      [{'label': 'POSITIVE', 'score': 0.990414261817...      POSITIVE   \n",
       "2      [{'label': 'POSITIVE', 'score': 0.992724180221...      POSITIVE   \n",
       "3      [{'label': 'NEGATIVE', 'score': 0.995157957077...      NEGATIVE   \n",
       "4      [{'label': 'POSITIVE', 'score': 0.988865137100...      POSITIVE   \n",
       "...                                                  ...           ...   \n",
       "29923  [{'label': 'POSITIVE', 'score': 0.989008367061...      POSITIVE   \n",
       "29924  [{'label': 'POSITIVE', 'score': 0.960797250270...      POSITIVE   \n",
       "29925  [{'label': 'POSITIVE', 'score': 0.997708082199...      POSITIVE   \n",
       "29926  [{'label': 'POSITIVE', 'score': 0.977244794368...      POSITIVE   \n",
       "29927  [{'label': 'POSITIVE', 'score': 0.984811305999...      POSITIVE   \n",
       "\n",
       "       hf_sent_conf  \n",
       "0          0.921588  \n",
       "1          0.990414  \n",
       "2          0.992724  \n",
       "3          0.995158  \n",
       "4          0.988865  \n",
       "...             ...  \n",
       "29923      0.989008  \n",
       "29924      0.960797  \n",
       "29925      0.997708  \n",
       "29926      0.977245  \n",
       "29927      0.984811  \n",
       "\n",
       "[29928 rows x 19 columns]"
      ]
     },
     "execution_count": 3,
     "metadata": {},
     "output_type": "execute_result"
    }
   ],
   "source": [
    "data_df"
   ]
  },
  {
   "cell_type": "code",
   "execution_count": 4,
   "metadata": {
    "ExecuteTime": {
     "end_time": "2021-04-21T16:46:10.270103Z",
     "start_time": "2021-04-21T16:46:10.244093Z"
    }
   },
   "outputs": [],
   "source": [
    "#filter out only to include positive sentiment captions\n",
    "data_df.drop(data_df.loc[data_df['hf_sent_class']==\"NEGATIVE\"].index, inplace=True)\n",
    "data_df.reset_index(inplace=True)"
   ]
  },
  {
   "cell_type": "code",
   "execution_count": 5,
   "metadata": {
    "ExecuteTime": {
     "end_time": "2021-04-21T16:46:10.274105Z",
     "start_time": "2021-04-21T16:46:10.271089Z"
    }
   },
   "outputs": [
    {
     "data": {
      "text/plain": [
       "21016"
      ]
     },
     "execution_count": 5,
     "metadata": {},
     "output_type": "execute_result"
    }
   ],
   "source": [
    "len(data_df)"
   ]
  },
  {
   "cell_type": "markdown",
   "metadata": {
    "ExecuteTime": {
     "end_time": "2021-04-20T23:46:35.655027Z",
     "start_time": "2021-04-20T23:46:35.639038Z"
    }
   },
   "source": [
    "### Preprocess and tokenize captions"
   ]
  },
  {
   "cell_type": "code",
   "execution_count": 6,
   "metadata": {
    "ExecuteTime": {
     "end_time": "2021-04-21T16:46:10.289101Z",
     "start_time": "2021-04-21T16:46:10.275091Z"
    }
   },
   "outputs": [],
   "source": [
    "#preprocess captions tpo include start and end tokens\n",
    "data_df['captions_processed'] = data_df['caption'].apply(lambda x: '<start> ' + x + ' <end>')"
   ]
  },
  {
   "cell_type": "code",
   "execution_count": 7,
   "metadata": {
    "ExecuteTime": {
     "end_time": "2021-04-21T16:46:10.527153Z",
     "start_time": "2021-04-21T16:46:10.292105Z"
    }
   },
   "outputs": [],
   "source": [
    "\n",
    "tokenizer = tf.keras.preprocessing.text.Tokenizer(oov_token=\"<unk>\",\n",
    "                                                  filters='!\"#$%&()*+.,-/:;=?@[\\]^_`{|}~ ')\n",
    "tokenizer.fit_on_texts(data_df['captions_processed'])"
   ]
  },
  {
   "cell_type": "code",
   "execution_count": 8,
   "metadata": {
    "ExecuteTime": {
     "end_time": "2021-04-21T16:46:10.532151Z",
     "start_time": "2021-04-21T16:46:10.528152Z"
    }
   },
   "outputs": [],
   "source": [
    "tokenizer.word_index['<pad>'] = 0\n",
    "tokenizer.index_word[0] = '<pad>'"
   ]
  },
  {
   "cell_type": "code",
   "execution_count": 9,
   "metadata": {
    "ExecuteTime": {
     "end_time": "2021-04-21T16:46:10.539152Z",
     "start_time": "2021-04-21T16:46:10.533151Z"
    }
   },
   "outputs": [
    {
     "data": {
      "text/plain": [
       "0        <start> abstract image with bright triangles o...\n",
       "1             <start> digital art selected for the # <end>\n",
       "2        <start> roadside home and tree , along the roa...\n",
       "3        <start> person , wearing a peach floral dress ...\n",
       "4        <start> an alphabet with cute animals , letter...\n",
       "                               ...                        \n",
       "21011           <start> the house of deity : mosaics <end>\n",
       "21012               <start> actor at a fashion event <end>\n",
       "21013    <start> man conducted the service for person <...\n",
       "21014    <start> supermodel is photographed at a portra...\n",
       "21015    <start> character dressed in the traditional w...\n",
       "Name: captions_processed, Length: 21016, dtype: object"
      ]
     },
     "execution_count": 9,
     "metadata": {},
     "output_type": "execute_result"
    }
   ],
   "source": [
    "data_df['captions_processed']"
   ]
  },
  {
   "cell_type": "code",
   "execution_count": 10,
   "metadata": {
    "ExecuteTime": {
     "end_time": "2021-04-21T16:46:10.721947Z",
     "start_time": "2021-04-21T16:46:10.540152Z"
    }
   },
   "outputs": [],
   "source": [
    "data_df['captions_tokenized'] = tokenizer.texts_to_sequences(data_df['captions_processed'])"
   ]
  },
  {
   "cell_type": "code",
   "execution_count": 11,
   "metadata": {
    "ExecuteTime": {
     "end_time": "2021-04-21T16:46:10.729937Z",
     "start_time": "2021-04-21T16:46:10.722947Z"
    }
   },
   "outputs": [
    {
     "data": {
      "text/plain": [
       "0            [2, 152, 148, 10, 255, 1730, 9, 5, 25, 20, 3]\n",
       "1                              [2, 323, 74, 409, 15, 4, 3]\n",
       "2                     [2, 6461, 77, 8, 89, 263, 4, 226, 3]\n",
       "3        [2, 13, 305, 5, 2952, 272, 107, 8, 1120, 480, ...\n",
       "4        [2, 24, 2158, 10, 112, 391, 1635, 4855, 14, 33...\n",
       "                               ...                        \n",
       "21011                          [2, 4, 83, 6, 746, 4286, 3]\n",
       "21012                            [2, 17, 11, 5, 35, 59, 3]\n",
       "21013                    [2, 65, 3855, 4, 1309, 15, 13, 3]\n",
       "21014               [2, 1731, 18, 566, 11, 5, 66, 1503, 3]\n",
       "21015                     [2, 161, 853, 7, 4, 269, 261, 3]\n",
       "Name: captions_tokenized, Length: 21016, dtype: object"
      ]
     },
     "execution_count": 11,
     "metadata": {},
     "output_type": "execute_result"
    }
   ],
   "source": [
    "data_df['captions_tokenized'] "
   ]
  },
  {
   "cell_type": "code",
   "execution_count": null,
   "metadata": {},
   "outputs": [],
   "source": []
  },
  {
   "cell_type": "code",
   "execution_count": 12,
   "metadata": {
    "ExecuteTime": {
     "end_time": "2021-04-21T16:46:10.742935Z",
     "start_time": "2021-04-21T16:46:10.731930Z"
    }
   },
   "outputs": [
    {
     "name": "stdout",
     "output_type": "stream",
     "text": [
      "0        11\n",
      "1         7\n",
      "2         9\n",
      "3        23\n",
      "4        12\n",
      "         ..\n",
      "21011     7\n",
      "21012     7\n",
      "21013     8\n",
      "21014     9\n",
      "21015     8\n",
      "Name: captions_tokenized, Length: 21016, dtype: int64\n"
     ]
    }
   ],
   "source": [
    "#sannity check number of words should be same as number of tokens\n",
    "print(data_df['captions_tokenized'].apply(lambda x: len(x)))\n"
   ]
  },
  {
   "cell_type": "code",
   "execution_count": 13,
   "metadata": {
    "ExecuteTime": {
     "end_time": "2021-04-21T16:46:10.754936Z",
     "start_time": "2021-04-21T16:46:10.744936Z"
    }
   },
   "outputs": [],
   "source": [
    "max_len = data_df['captions_tokenized'].apply(lambda x: len(x))"
   ]
  },
  {
   "cell_type": "code",
   "execution_count": 14,
   "metadata": {
    "ExecuteTime": {
     "end_time": "2021-04-21T16:46:10.777943Z",
     "start_time": "2021-04-21T16:46:10.756938Z"
    }
   },
   "outputs": [
    {
     "name": "stdout",
     "output_type": "stream",
     "text": [
      "0        12\n",
      "1         8\n",
      "2        11\n",
      "3        25\n",
      "4        14\n",
      "         ..\n",
      "21011     8\n",
      "21012     7\n",
      "21013     8\n",
      "21014    10\n",
      "21015     9\n",
      "Name: captions_processed, Length: 21016, dtype: int64\n"
     ]
    }
   ],
   "source": [
    "print(data_df['captions_processed'].apply(lambda x: len(x.split())))"
   ]
  },
  {
   "cell_type": "code",
   "execution_count": 15,
   "metadata": {
    "ExecuteTime": {
     "end_time": "2021-04-21T16:46:10.783943Z",
     "start_time": "2021-04-21T16:46:10.778941Z"
    }
   },
   "outputs": [],
   "source": [
    "#We will now pad the sequences \n",
    "list_of_tokenized_captions = data_df['captions_tokenized'].tolist()"
   ]
  },
  {
   "cell_type": "code",
   "execution_count": 16,
   "metadata": {
    "ExecuteTime": {
     "end_time": "2021-04-21T16:46:10.958567Z",
     "start_time": "2021-04-21T16:46:10.785945Z"
    }
   },
   "outputs": [
    {
     "name": "stdout",
     "output_type": "stream",
     "text": [
      "50\n"
     ]
    }
   ],
   "source": [
    "padded_tok_captions = tf.keras.preprocessing.sequence.pad_sequences(list_of_tokenized_captions, padding='post')\n",
    "padded_tok_captions = padded_tok_captions.tolist()\n",
    "print(len(padded_tok_captions[0]))\n"
   ]
  },
  {
   "cell_type": "code",
   "execution_count": 17,
   "metadata": {
    "ExecuteTime": {
     "end_time": "2021-04-21T16:46:10.974667Z",
     "start_time": "2021-04-21T16:46:10.960562Z"
    }
   },
   "outputs": [
    {
     "data": {
      "text/plain": [
       "0        [2, 152, 148, 10, 255, 1730, 9, 5, 25, 20, 3, ...\n",
       "1        [2, 323, 74, 409, 15, 4, 3, 0, 0, 0, 0, 0, 0, ...\n",
       "2        [2, 6461, 77, 8, 89, 263, 4, 226, 3, 0, 0, 0, ...\n",
       "3        [2, 13, 305, 5, 2952, 272, 107, 8, 1120, 480, ...\n",
       "4        [2, 24, 2158, 10, 112, 391, 1635, 4855, 14, 33...\n",
       "                               ...                        \n",
       "21011    [2, 4, 83, 6, 746, 4286, 3, 0, 0, 0, 0, 0, 0, ...\n",
       "21012    [2, 17, 11, 5, 35, 59, 3, 0, 0, 0, 0, 0, 0, 0,...\n",
       "21013    [2, 65, 3855, 4, 1309, 15, 13, 3, 0, 0, 0, 0, ...\n",
       "21014    [2, 1731, 18, 566, 11, 5, 66, 1503, 3, 0, 0, 0...\n",
       "21015    [2, 161, 853, 7, 4, 269, 261, 3, 0, 0, 0, 0, 0...\n",
       "Name: captions_tokenized_padded, Length: 21016, dtype: object"
      ]
     },
     "execution_count": 17,
     "metadata": {},
     "output_type": "execute_result"
    }
   ],
   "source": [
    "data_df['captions_tokenized_padded'] = pd.Series(padded_tok_captions)\n",
    "data_df['captions_tokenized_padded']"
   ]
  },
  {
   "cell_type": "code",
   "execution_count": null,
   "metadata": {
    "ExecuteTime": {
     "end_time": "2021-04-21T11:17:43.085197Z",
     "start_time": "2021-04-21T11:17:43.071201Z"
    }
   },
   "outputs": [],
   "source": []
  },
  {
   "cell_type": "code",
   "execution_count": 18,
   "metadata": {
    "ExecuteTime": {
     "end_time": "2021-04-21T16:46:11.187732Z",
     "start_time": "2021-04-21T16:46:10.976663Z"
    }
   },
   "outputs": [],
   "source": [
    "from PIL import Image\n",
    "import matplotlib.pyplot as plt\n",
    "## Loading the embeddings and tokenized caption for each image\n",
    "def load_image_index(index, meta_df, embeddings_dir):\n",
    "    row = meta_df[meta_df.global_index == index]\n",
    "    emb_path = os.path.join(embeddings_dir, str(index) + '.png' + '.npy' )\n",
    "    emb = np.load(emb_path)\n",
    "    token = row.captions_tokenized.tolist()[0]\n",
    "    path = row.image_path.tolist()[0]\n",
    "    \n",
    "    \n",
    "    \n",
    "    return emb, token, path\n",
    "    \n",
    "    \n",
    "    "
   ]
  },
  {
   "cell_type": "code",
   "execution_count": 19,
   "metadata": {
    "ExecuteTime": {
     "end_time": "2021-04-21T16:46:11.213731Z",
     "start_time": "2021-04-21T16:46:11.188732Z"
    }
   },
   "outputs": [],
   "source": [
    "index =  1435814\n",
    "emb, token, im_path = load_image_index(790196, data_df, r'data/30k_sample/inception_v3_embeddings/')"
   ]
  },
  {
   "cell_type": "code",
   "execution_count": 20,
   "metadata": {
    "ExecuteTime": {
     "end_time": "2021-04-21T16:46:11.406781Z",
     "start_time": "2021-04-21T16:46:11.215720Z"
    },
    "run_control": {
     "marked": false
    }
   },
   "outputs": [
    {
     "name": "stdout",
     "output_type": "stream",
     "text": [
      "['<start> supermodel is photographed at a portrait shoot <end>']\n",
      "(64, 2048)\n"
     ]
    },
    {
     "data": {
      "image/png": "[encoded data removed]",
      "text/plain": [
       "<Figure size 432x288 with 1 Axes>"
      ]
     },
     "metadata": {
      "needs_background": "light"
     },
     "output_type": "display_data"
    }
   ],
   "source": [
    "##making sure the right caption, image embeding pair is loaded\n",
    "im = Image.open(im_path)\n",
    "plt.imshow(im)\n",
    "print(tokenizer.sequences_to_texts([token]))\n",
    "print(emb.shape)"
   ]
  },
  {
   "cell_type": "code",
   "execution_count": 21,
   "metadata": {
    "ExecuteTime": {
     "end_time": "2021-04-21T16:46:11.411771Z",
     "start_time": "2021-04-21T16:46:11.407770Z"
    }
   },
   "outputs": [],
   "source": [
    "#a faster function that does not return the image path\n",
    "def load_emb_caption(index, meta_df, embeddings_dir):\n",
    "    row = meta_df[meta_df.global_index == index]\n",
    "    emb_path = os.path.join(embeddings_dir, str(index) + '.png' + '.npy' )\n",
    "    emb = np.load(emb_path)\n",
    "    token = row.captions_tokenized.tolist()[0]\n",
    "  \n",
    "    \n",
    "    \n",
    "    \n",
    "    return emb, token\n",
    "    "
   ]
  },
  {
   "cell_type": "markdown",
   "metadata": {},
   "source": [
    "## Batch Loading Training Data\n",
    "In this section, I have attempted to make use of tensorflows Dataset class to create functions to load our data from memory in batches in parrallel to optimize training time."
   ]
  },
  {
   "cell_type": "code",
   "execution_count": 22,
   "metadata": {
    "ExecuteTime": {
     "end_time": "2021-04-21T16:46:11.417764Z",
     "start_time": "2021-04-21T16:46:11.412763Z"
    }
   },
   "outputs": [],
   "source": [
    "def map_load_emb_caption(emb_path, caption):\n",
    "    \"\"\"\n",
    "    Purpose is to speed up and batch process loading resnet_v2 embeddings specifically from the 30k sample\n",
    "    \"\"\"\n",
    "    emb = np.load(emb_path)\n",
    "    return emb, caption"
   ]
  },
  {
   "cell_type": "code",
   "execution_count": 23,
   "metadata": {
    "ExecuteTime": {
     "end_time": "2021-04-21T16:46:11.471785Z",
     "start_time": "2021-04-21T16:46:11.418765Z"
    }
   },
   "outputs": [
    {
     "data": {
      "text/plain": [
       "'data/30k_sample/inception_v3_embeddings/225955.png.npy'"
      ]
     },
     "execution_count": 23,
     "metadata": {},
     "output_type": "execute_result"
    }
   ],
   "source": [
    "# add a coliumn in the dataframe that stores the path to the inception_resnet_v2 embedding of the imabsage\n",
    "data_df['inception_resnet_v2_emb_path'] = data_df['global_index'].apply(lambda x: os.path.join(r'data/30k_sample/inception_v3_embeddings/',str(x) + '.png' +'.npy'))\n",
    "data_df['inception_resnet_v2_emb_path'].iloc[0]"
   ]
  },
  {
   "cell_type": "code",
   "execution_count": 24,
   "metadata": {
    "ExecuteTime": {
     "end_time": "2021-04-21T16:46:11.476785Z",
     "start_time": "2021-04-21T16:46:11.472776Z"
    }
   },
   "outputs": [],
   "source": [
    "#use our dataframe to create 2 lists: one with image embedding paths and other with respective tokenized and padded captions\n",
    "image_emb_paths = data_df['inception_resnet_v2_emb_path'].tolist()\n",
    "padded_tokenized_caps = data_df['captions_tokenized_padded'].tolist()"
   ]
  },
  {
   "cell_type": "code",
   "execution_count": 25,
   "metadata": {
    "ExecuteTime": {
     "end_time": "2021-04-21T16:46:11.485782Z",
     "start_time": "2021-04-21T16:46:11.477781Z"
    }
   },
   "outputs": [
    {
     "name": "stdout",
     "output_type": "stream",
     "text": [
      "21016 21016\n"
     ]
    }
   ],
   "source": [
    "print(len(image_emb_paths), len(padded_tokenized_caps))"
   ]
  },
  {
   "cell_type": "code",
   "execution_count": 26,
   "metadata": {
    "ExecuteTime": {
     "end_time": "2021-04-21T16:46:11.497780Z",
     "start_time": "2021-04-21T16:46:11.489779Z"
    }
   },
   "outputs": [],
   "source": [
    "BATCH_SIZE = 32\n",
    "BUFFER_SIZE = 1000\n",
    "from tensorflow.data import Dataset, AUTOTUNE"
   ]
  },
  {
   "cell_type": "code",
   "execution_count": 27,
   "metadata": {
    "ExecuteTime": {
     "end_time": "2021-04-21T16:46:11.504782Z",
     "start_time": "2021-04-21T16:46:11.499780Z"
    }
   },
   "outputs": [],
   "source": [
    "\n",
    "def load_dataset(image_emb_paths, padded_tokenized_captions):\n",
    "    \"\"\"\n",
    "    Takes in list of paths to image embeddings and corresponding padded tokenized sequences and loads them into a tensorflow\n",
    "    Dataset that is batched and uses a buffer size\n",
    "    \"\"\"\n",
    "    dataset = Dataset.from_tensor_slices((image_emb_paths, padded_tokenized_captions))\n",
    "    dataset = dataset.map(lambda x,y: tf.numpy_function(map_load_emb_caption, [x,y], [tf.float32, tf.int32]),\n",
    "                         num_parallel_calls=AUTOTUNE)\n",
    "    dataset = dataset.shuffle(BUFFER_SIZE).batch(BATCH_SIZE)\n",
    "    dataset = dataset.prefetch(buffer_size=AUTOTUNE)\n",
    "    return dataset\n",
    "    \n",
    "    "
   ]
  },
  {
   "cell_type": "markdown",
   "metadata": {
    "ExecuteTime": {
     "end_time": "2021-04-21T00:24:37.171825Z",
     "start_time": "2021-04-21T00:24:37.158830Z"
    }
   },
   "source": [
    "## Model\n",
    "\n",
    "Architecture Parameters:\n",
    " - img_emb_dim: number of neurons in FC layer of Encoder that pretrained image embeddings are passed through\n",
    " - units: size of RNN hidden layer\n",
    " - word_emb_dim: size of word embeddings\n",
    " \n",
    "\n",
    "We will be using a sequence to sequence model that:\n",
    "<ol>\n",
    "    <li> ENCODER LAYER </li>\n",
    "    <ol>\n",
    "        <li> Takes in pretrained CNN embeddings with dims (64x2048): Since this is taken\n",
    "        from lower convolutional layers, each of the 64 vectors represents a 'part' of the image\n",
    "        according to the paper [Show, Attend and Tell](https://arxiv.org/pdf/1502.03044.pdf)</li>\n",
    "        <li> Passes them through an fully connected layer of output dims: (64ximg_emb_dim) </li>\n",
    "        <li> Applies Relu activation </li>\n",
    "    </ol>\n",
    "    <li> ATTENTION LAYER </li>\n",
    "    <ol>\n",
    "        <li> Sits inside the decoder model</li>\n",
    "        <li> Takes in output of encoder model and RNN's previous hidden state </li>\n",
    "        <li> Passes a concatenation of these into a Dense Layer with tanh activation with output dims:(64xunits)</li>\n",
    "        <li> Passes the output of the Dense Layer to a single neuron dense layer to get the attention weights for each of the 64 'parts' of the image. Uses softmax to normalize attention weights</li>\n",
    "        <li> Finally, each of the 64 vectors in the CNN's output are weighted by their respective attention weight to calculate\n",
    "            a 'context vector' that is the output of the Attention Layer.</li>\n",
    "    </ol>\n",
    "    <li> DECODER LAYER: LSTM </li>\n",
    "    <ol> \n",
    "        <li>Takes in a word and a context vector and outputs the next word in the caption (along with a hidden              state) </li>\n",
    "        <li>Word is first embedded using word2vec</li>\n",
    "        <li>Then, image features extracted from CNN along with the hidden state (initialized at 0 for <start> token)\n",
    "            are passed through attention layer to get context vector\n",
    "        <li> Context vector and word embedding are concatenated and passed through LSTM to get hidden state and output\n",
    "        <li> Output is passed through 2 fully connected layer, last one with vocab_size neurons\n",
    "        <li> Word with highest probability is the next word generated\n",
    "        \n",
    "        \n",
    "           \n",
    "            "
   ]
  },
  {
   "cell_type": "code",
   "execution_count": 28,
   "metadata": {
    "ExecuteTime": {
     "end_time": "2021-04-21T16:46:11.510786Z",
     "start_time": "2021-04-21T16:46:11.505782Z"
    }
   },
   "outputs": [],
   "source": [
    "from tensorflow.keras.layers import Input,Dense,LSTMCell,Embedding, Reshape, Softmax, RepeatVector, Concatenate, Dot\n",
    "from tensorflow.keras import Model"
   ]
  },
  {
   "cell_type": "code",
   "execution_count": 29,
   "metadata": {
    "ExecuteTime": {
     "end_time": "2021-04-21T16:46:11.515784Z",
     "start_time": "2021-04-21T16:46:11.512788Z"
    }
   },
   "outputs": [],
   "source": [
    "NUM_IMG_VEC = 64\n",
    "IMG_VEC_DIMS = 2048\n",
    "IMG_EMB_DIM = 256\n",
    "VOCAB_SIZE = len(tokenizer.word_index) + 1"
   ]
  },
  {
   "cell_type": "code",
   "execution_count": 30,
   "metadata": {
    "ExecuteTime": {
     "end_time": "2021-04-21T16:46:11.522789Z",
     "start_time": "2021-04-21T16:46:11.517786Z"
    }
   },
   "outputs": [],
   "source": [
    "## CNN encoder model\n",
    "\n",
    "def init_encoder(num_vectors, vector_dim, img_emb_dim):\n",
    "    \"\"\"\n",
    "    Initializes the CNN encoder model. Takes in the number of vectors outputted by the pretrained image embeddings\n",
    "    along with the size of these vecors. Also takes in the size we want to embed each vector to.\n",
    "    \n",
    "    \"\"\"\n",
    "    inputs = Input(shape=(num_vectors,vector_dim))\n",
    "    outputs = Dense(img_emb_dim, activation= 'relu')(inputs)\n",
    "    model = Model(inputs=inputs, outputs=outputs)\n",
    "    \n",
    "    return model\n",
    "\n",
    "    \n",
    "    \n",
    "    \n",
    "    \n",
    "    "
   ]
  },
  {
   "cell_type": "code",
   "execution_count": 31,
   "metadata": {
    "ExecuteTime": {
     "end_time": "2021-04-21T16:46:11.567804Z",
     "start_time": "2021-04-21T16:46:11.523787Z"
    }
   },
   "outputs": [],
   "source": [
    "encoder_model = init_encoder(NUM_IMG_VEC, IMG_VEC_DIMS, IMG_EMB_DIM)"
   ]
  },
  {
   "cell_type": "code",
   "execution_count": 32,
   "metadata": {
    "ExecuteTime": {
     "end_time": "2021-04-21T16:46:11.572799Z",
     "start_time": "2021-04-21T16:46:11.568817Z"
    }
   },
   "outputs": [
    {
     "name": "stdout",
     "output_type": "stream",
     "text": [
      "Model: \"model\"\n",
      "_________________________________________________________________\n",
      "Layer (type)                 Output Shape              Param #   \n",
      "=================================================================\n",
      "input_1 (InputLayer)         [(None, 64, 2048)]        0         \n",
      "_________________________________________________________________\n",
      "dense (Dense)                (None, 64, 256)           524544    \n",
      "=================================================================\n",
      "Total params: 524,544\n",
      "Trainable params: 524,544\n",
      "Non-trainable params: 0\n",
      "_________________________________________________________________\n"
     ]
    }
   ],
   "source": [
    "encoder_model.summary()"
   ]
  },
  {
   "cell_type": "markdown",
   "metadata": {},
   "source": [
    "Here, I am using untrainable GloVe embeddings\n",
    "Other options to experiment with include:\n",
    "<ol>\n",
    "    <li> using Word2Vec embeddings\n",
    "    <li> add a FC layer that is trainable \n",
    "    <li> initializing the embedding layer with glove weights but allowing it to be trainable\n",
    " </ol>\n",
    " All this can be done by simply swapping out this word embedding layer in the model for a different one"
   ]
  },
  {
   "cell_type": "code",
   "execution_count": 33,
   "metadata": {
    "ExecuteTime": {
     "end_time": "2021-04-21T16:46:23.434090Z",
     "start_time": "2021-04-21T16:46:11.573799Z"
    }
   },
   "outputs": [],
   "source": [
    "import pandas as pd\n",
    "import csv\n",
    "GLOVE_DIR = r'Word_Embeddings'\n",
    "words = pd.read_table(os.path.join(GLOVE_DIR, 'glove.6B.300d.txt'), sep=\" \", index_col=0, header=None, quoting=csv.QUOTE_NONE)\n"
   ]
  },
  {
   "cell_type": "code",
   "execution_count": 34,
   "metadata": {
    "ExecuteTime": {
     "end_time": "2021-04-21T16:46:23.441032Z",
     "start_time": "2021-04-21T16:46:23.434090Z"
    }
   },
   "outputs": [],
   "source": [
    "#use the tokenizer we built above to get a word index which we will use to build an embedding matrix for GloVe. Code \n",
    "#taken from the same source\n",
    "def build_embeddings_matrix( my_tokenizer, embeddings_index, EMBEDDING_DIM):\n",
    "    \"\"\"\n",
    "    Given a tokenizer created from our training set and \n",
    "    EMBEDDING DIM of a particular pretrained embedding model and\n",
    "    a dictionary of word->embedding of that model, returns an array \n",
    "    where each index of the array corresponds to the embedding of the\n",
    "    word represented by that index\n",
    "    \"\"\"\n",
    "    word_index = my_tokenizer.word_index\n",
    "    vocab_size = len(word_index) + 1\n",
    "    embedding_matrix = np.zeros((vocab_size, EMBEDDING_DIM))\n",
    "    for word, i in tqdm(word_index.items()):\n",
    "        try:\n",
    "            embedding_vector = embeddings_index.loc[word]    \n",
    "            # words not found in embedding index will be all-zeros.\n",
    "            embedding_matrix[i] = embedding_vector\n",
    "        except KeyError:\n",
    "            pass\n",
    "    return embedding_matrix"
   ]
  },
  {
   "cell_type": "code",
   "execution_count": 35,
   "metadata": {
    "ExecuteTime": {
     "end_time": "2021-04-21T16:46:23.466203Z",
     "start_time": "2021-04-21T16:46:23.442555Z"
    }
   },
   "outputs": [
    {
     "name": "stdout",
     "output_type": "stream",
     "text": [
      "10325\n"
     ]
    }
   ],
   "source": [
    "print(len(tokenizer.word_index))"
   ]
  },
  {
   "cell_type": "code",
   "execution_count": 36,
   "metadata": {
    "ExecuteTime": {
     "end_time": "2021-04-21T16:47:12.726094Z",
     "start_time": "2021-04-21T16:46:23.466203Z"
    }
   },
   "outputs": [
    {
     "name": "stderr",
     "output_type": "stream",
     "text": [
      "100%|██████████| 10325/10325 [00:49<00:00, 209.67it/s]\n"
     ]
    }
   ],
   "source": [
    "glove_embedding_matrix = build_embeddings_matrix(tokenizer, words, 300) "
   ]
  },
  {
   "cell_type": "code",
   "execution_count": 37,
   "metadata": {
    "ExecuteTime": {
     "end_time": "2021-04-21T16:47:12.732096Z",
     "start_time": "2021-04-21T16:47:12.727095Z"
    }
   },
   "outputs": [],
   "source": [
    "## word to GloVE embedding: maybe add FC layer later?\n",
    "def init_GloVe_word_embedder(GLoVe_emb_dim,glove_embedding_matrix):\n",
    "    vocab_size = glove_embedding_matrix.shape[0]\n",
    "    inputs = Input(shape=(1,))\n",
    "    \n",
    "    glove_emb = Embedding(vocab_size,\n",
    "                            GLoVe_emb_dim,\n",
    "                            weights=[glove_embedding_matrix],\n",
    "                            trainable=False, input_length=1)(inputs)\n",
    "    reshaped = Reshape((GLoVe_emb_dim,))(glove_emb)\n",
    "    #outputs = Dense(GLoVe_emb_dim,word_emb_dim)(reshaped)\n",
    "    model = Model(inputs = inputs, outputs=reshaped)\n",
    "    return model"
   ]
  },
  {
   "cell_type": "code",
   "execution_count": 38,
   "metadata": {
    "ExecuteTime": {
     "end_time": "2021-04-21T16:47:12.791179Z",
     "start_time": "2021-04-21T16:47:12.733633Z"
    }
   },
   "outputs": [],
   "source": [
    "glove_word_embedder = init_GloVe_word_embedder(300, glove_embedding_matrix)"
   ]
  },
  {
   "cell_type": "code",
   "execution_count": 39,
   "metadata": {
    "ExecuteTime": {
     "end_time": "2021-04-21T16:47:12.796162Z",
     "start_time": "2021-04-21T16:47:12.793159Z"
    }
   },
   "outputs": [
    {
     "name": "stdout",
     "output_type": "stream",
     "text": [
      "Model: \"model_1\"\n",
      "_________________________________________________________________\n",
      "Layer (type)                 Output Shape              Param #   \n",
      "=================================================================\n",
      "input_2 (InputLayer)         [(None, 1)]               0         \n",
      "_________________________________________________________________\n",
      "embedding (Embedding)        (None, 1, 300)            3097800   \n",
      "_________________________________________________________________\n",
      "reshape (Reshape)            (None, 300)               0         \n",
      "=================================================================\n",
      "Total params: 3,097,800\n",
      "Trainable params: 0\n",
      "Non-trainable params: 3,097,800\n",
      "_________________________________________________________________\n"
     ]
    }
   ],
   "source": [
    "glove_word_embedder.summary()"
   ]
  },
  {
   "cell_type": "markdown",
   "metadata": {
    "cell_style": "split"
   },
   "source": [
    "Initialize LSTM model with attention\n",
    "\n"
   ]
  },
  {
   "cell_type": "code",
   "execution_count": 40,
   "metadata": {
    "ExecuteTime": {
     "end_time": "2021-04-21T16:47:12.803162Z",
     "start_time": "2021-04-21T16:47:12.798162Z"
    }
   },
   "outputs": [],
   "source": [
    "sizes = {'vocab_size': VOCAB_SIZE,\n",
    "        'glove_emb_dim': 300,\n",
    "        'img_emb_dim': 256,\n",
    "        'img_num_vec': 64,\n",
    "        'lstm_num_units': 512\n",
    "        }"
   ]
  },
  {
   "cell_type": "code",
   "execution_count": 41,
   "metadata": {
    "ExecuteTime": {
     "end_time": "2021-04-21T16:47:12.809164Z",
     "start_time": "2021-04-21T16:47:12.805163Z"
    }
   },
   "outputs": [],
   "source": [
    "def init_attention(sizes):\n",
    "    enc_output = Input((sizes['img_num_vec'], sizes['img_emb_dim']), name='enc_output')\n",
    "    prev_hidden =  Input((sizes['lstm_num_units'],),name='prev_hidden')\n",
    "    \n",
    "    #repeat hidden so number of dims matches enc_output\n",
    "    reshaped_hidden = RepeatVector(sizes['img_num_vec'])(prev_hidden)\n",
    "    \n",
    "    #concatenate the two inputs\n",
    "    attention_inp = Concatenate(axis=-1)([enc_output, reshaped_hidden])\n",
    "    \n",
    "    #pass through 2 dense layers to calculate attention weights\n",
    "    attention_dense_1 = Dense(sizes['lstm_num_units']*2, activation = 'tanh')(attention_inp)\n",
    "    attention_dense_2 = Dense(sizes['lstm_num_units'], activation = 'tanh')(attention_dense_1)\n",
    "    \n",
    "    #get attention weights\n",
    "    attention_weights = Dense(1)(attention_dense_2)\n",
    "    \n",
    "    #normalize attention weights\n",
    "    \n",
    "    normalized_attention_weights = Softmax(axis=1)(attention_weights)\n",
    "    \n",
    "    #calculate context vector by weighting encoder output\n",
    "    context = Dot(axes = 1)([normalized_attention_weights,enc_output])\n",
    "    reshaped = Reshape((sizes['img_emb_dim'],))(context)\n",
    "    \n",
    "    model = Model(inputs=[enc_output,prev_hidden], outputs=[reshaped, normalized_attention_weights])\n",
    "    return model"
   ]
  },
  {
   "cell_type": "code",
   "execution_count": 42,
   "metadata": {
    "ExecuteTime": {
     "end_time": "2021-04-21T16:47:12.915208Z",
     "start_time": "2021-04-21T16:47:12.810166Z"
    }
   },
   "outputs": [],
   "source": [
    "attention_model = init_attention(sizes)"
   ]
  },
  {
   "cell_type": "code",
   "execution_count": 43,
   "metadata": {
    "ExecuteTime": {
     "end_time": "2021-04-21T16:47:12.922197Z",
     "start_time": "2021-04-21T16:47:12.917187Z"
    }
   },
   "outputs": [
    {
     "name": "stdout",
     "output_type": "stream",
     "text": [
      "Model: \"model_2\"\n",
      "__________________________________________________________________________________________________\n",
      "Layer (type)                    Output Shape         Param #     Connected to                     \n",
      "==================================================================================================\n",
      "prev_hidden (InputLayer)        [(None, 512)]        0                                            \n",
      "__________________________________________________________________________________________________\n",
      "enc_output (InputLayer)         [(None, 64, 256)]    0                                            \n",
      "__________________________________________________________________________________________________\n",
      "repeat_vector (RepeatVector)    (None, 64, 512)      0           prev_hidden[0][0]                \n",
      "__________________________________________________________________________________________________\n",
      "concatenate (Concatenate)       (None, 64, 768)      0           enc_output[0][0]                 \n",
      "                                                                 repeat_vector[0][0]              \n",
      "__________________________________________________________________________________________________\n",
      "dense_1 (Dense)                 (None, 64, 1024)     787456      concatenate[0][0]                \n",
      "__________________________________________________________________________________________________\n",
      "dense_2 (Dense)                 (None, 64, 512)      524800      dense_1[0][0]                    \n",
      "__________________________________________________________________________________________________\n",
      "dense_3 (Dense)                 (None, 64, 1)        513         dense_2[0][0]                    \n",
      "__________________________________________________________________________________________________\n",
      "softmax (Softmax)               (None, 64, 1)        0           dense_3[0][0]                    \n",
      "__________________________________________________________________________________________________\n",
      "dot (Dot)                       (None, 1, 256)       0           softmax[0][0]                    \n",
      "                                                                 enc_output[0][0]                 \n",
      "__________________________________________________________________________________________________\n",
      "reshape_1 (Reshape)             (None, 256)          0           dot[0][0]                        \n",
      "==================================================================================================\n",
      "Total params: 1,312,769\n",
      "Trainable params: 1,312,769\n",
      "Non-trainable params: 0\n",
      "__________________________________________________________________________________________________\n"
     ]
    }
   ],
   "source": [
    "attention_model.summary()"
   ]
  },
  {
   "cell_type": "code",
   "execution_count": 44,
   "metadata": {
    "ExecuteTime": {
     "end_time": "2021-04-21T16:47:12.928192Z",
     "start_time": "2021-04-21T16:47:12.923198Z"
    }
   },
   "outputs": [],
   "source": [
    "def init_decoder(sizes, attention_model):\n",
    "    \n",
    "    dec_input = Input((sizes['glove_emb_dim'],), name='dec_input')\n",
    "    hidden_input = Input((sizes['lstm_num_units'],), name='hiden_state')\n",
    "    attention_context = Input((sizes['img_emb_dim'],), name='attn_context')\n",
    "    cell_input = Input((sizes['lstm_num_units'],), name = 'cell_state')\n",
    "    \n",
    "    LSTM_input = Concatenate(axis=-1)([attention_context, dec_input])\n",
    "     \n",
    "    a, state = LSTMCell(sizes['lstm_num_units'])(inputs=LSTM_input, states=[hidden_input,cell_input])\n",
    "    \n",
    "    hidden_output = state[0]\n",
    "    cell_output = state[1]\n",
    "    \n",
    "    #pass through fully connected layers\n",
    "    fc_out_1 = Dense(sizes['lstm_num_units'], activation='relu')(a)\n",
    "    \n",
    "    fc_out_2 = Dense(sizes['vocab_size'], activation='softmax')(fc_out_1)\n",
    "    \n",
    "    model = Model(inputs=[dec_input,attention_context,hidden_input,cell_input], outputs =[fc_out_2, hidden_output, cell_output])\n",
    "    \n",
    "    return model\n",
    "    \n",
    "    \n",
    "    \n",
    "    \n",
    "    \n",
    "    \n",
    "    \n",
    "    \n",
    "    \n",
    "    \n",
    "    \n",
    "    "
   ]
  },
  {
   "cell_type": "code",
   "execution_count": 45,
   "metadata": {
    "ExecuteTime": {
     "end_time": "2021-04-21T16:47:13.091226Z",
     "start_time": "2021-04-21T16:47:12.929191Z"
    }
   },
   "outputs": [],
   "source": [
    "decoder_model = init_decoder(sizes, attention_model)"
   ]
  },
  {
   "cell_type": "code",
   "execution_count": 46,
   "metadata": {
    "ExecuteTime": {
     "end_time": "2021-04-21T16:47:13.098229Z",
     "start_time": "2021-04-21T16:47:13.093232Z"
    },
    "scrolled": true
   },
   "outputs": [
    {
     "name": "stdout",
     "output_type": "stream",
     "text": [
      "Model: \"model_3\"\n",
      "__________________________________________________________________________________________________\n",
      "Layer (type)                    Output Shape         Param #     Connected to                     \n",
      "==================================================================================================\n",
      "attn_context (InputLayer)       [(None, 256)]        0                                            \n",
      "__________________________________________________________________________________________________\n",
      "dec_input (InputLayer)          [(None, 300)]        0                                            \n",
      "__________________________________________________________________________________________________\n",
      "concatenate_1 (Concatenate)     (None, 556)          0           attn_context[0][0]               \n",
      "                                                                 dec_input[0][0]                  \n",
      "__________________________________________________________________________________________________\n",
      "hiden_state (InputLayer)        [(None, 512)]        0                                            \n",
      "__________________________________________________________________________________________________\n",
      "cell_state (InputLayer)         [(None, 512)]        0                                            \n",
      "__________________________________________________________________________________________________\n",
      "lstm_cell (LSTMCell)            ((None, 512), [(None 2189312     concatenate_1[0][0]              \n",
      "                                                                 hiden_state[0][0]                \n",
      "                                                                 cell_state[0][0]                 \n",
      "__________________________________________________________________________________________________\n",
      "dense_4 (Dense)                 (None, 512)          262656      lstm_cell[0][0]                  \n",
      "__________________________________________________________________________________________________\n",
      "dense_5 (Dense)                 (None, 10326)        5297238     dense_4[0][0]                    \n",
      "==================================================================================================\n",
      "Total params: 7,749,206\n",
      "Trainable params: 7,749,206\n",
      "Non-trainable params: 0\n",
      "__________________________________________________________________________________________________\n"
     ]
    }
   ],
   "source": [
    "decoder_model.summary()"
   ]
  },
  {
   "cell_type": "code",
   "execution_count": 47,
   "metadata": {
    "ExecuteTime": {
     "end_time": "2021-04-21T16:47:13.102231Z",
     "start_time": "2021-04-21T16:47:13.099229Z"
    }
   },
   "outputs": [],
   "source": [
    "#decoder_model.get_layer('lstm_cell').output_shape"
   ]
  },
  {
   "cell_type": "markdown",
   "metadata": {},
   "source": [
    "## Loss and Optimizer:\n",
    "We are using the adam optimizer with Sparse Categorical Cross entropy loss"
   ]
  },
  {
   "cell_type": "code",
   "execution_count": 48,
   "metadata": {
    "ExecuteTime": {
     "end_time": "2021-04-21T16:47:13.107232Z",
     "start_time": "2021-04-21T16:47:13.103231Z"
    }
   },
   "outputs": [],
   "source": [
    "##define optimizer and loss function, taken directly from the tensorflow official tutiorial\n",
    "\n",
    "optimizer = tf.keras.optimizers.Adam()\n",
    "loss_object = tf.keras.losses.SparseCategoricalCrossentropy(\n",
    "    from_logits=True, reduction='none')\n",
    "\n",
    "\n",
    "def loss_function(real, pred):\n",
    "    #if real caption is equal to zero (has ended), i.e padded then there is no loss\n",
    "    mask = tf.math.logical_not(tf.math.equal(real, 0))\n",
    "    loss_ = loss_object(real, pred)\n",
    "\n",
    "    mask = tf.cast(mask, dtype=loss_.dtype)\n",
    "    loss_ *= mask\n",
    "\n",
    "    return tf.reduce_mean(loss_)"
   ]
  },
  {
   "cell_type": "code",
   "execution_count": 49,
   "metadata": {
    "ExecuteTime": {
     "end_time": "2021-04-21T16:47:13.112232Z",
     "start_time": "2021-04-21T16:47:13.108231Z"
    }
   },
   "outputs": [],
   "source": [
    "#training checkpoint manager, also taken from tutorial"
   ]
  },
  {
   "cell_type": "code",
   "execution_count": 50,
   "metadata": {
    "ExecuteTime": {
     "end_time": "2021-04-21T16:47:13.118235Z",
     "start_time": "2021-04-21T16:47:13.113232Z"
    }
   },
   "outputs": [],
   "source": [
    "checkpoint_path = \"./checkpoints/train_pos\"\n",
    "ckpt = tf.train.Checkpoint(encoder_model=encoder_model,\n",
    "                           glove_word_embedder = glove_word_embedder,\n",
    "                           attention_model = attention_model,\n",
    "                           decoder_model=decoder_model,\n",
    "                           optimizer=optimizer)\n",
    "ckpt_manager = tf.train.CheckpointManager(ckpt, checkpoint_path, max_to_keep=5)"
   ]
  },
  {
   "cell_type": "code",
   "execution_count": 51,
   "metadata": {
    "ExecuteTime": {
     "end_time": "2021-04-21T16:47:13.123238Z",
     "start_time": "2021-04-21T16:47:13.119235Z"
    }
   },
   "outputs": [],
   "source": [
    "start_epoch = 0\n",
    "if ckpt_manager.latest_checkpoint:\n",
    "    start_epoch = int(ckpt_manager.latest_checkpoint.split('-')[-1])\n",
    "    # restoring the latest checkpoint in checkpoint_path\n",
    "    ckpt.restore(ckpt_manager.latest_checkpoint)"
   ]
  },
  {
   "cell_type": "code",
   "execution_count": 52,
   "metadata": {
    "ExecuteTime": {
     "end_time": "2021-04-21T16:47:13.131237Z",
     "start_time": "2021-04-21T16:47:13.124235Z"
    }
   },
   "outputs": [],
   "source": [
    "\n",
    "@tf.function\n",
    "def train_step(image_emb, target_seq):\n",
    "    \"\"\"\n",
    "    One step of training given \n",
    "    image_emb: pretrained embedding of the image \n",
    "    target_seq: tokenized and padded caption sentence\n",
    "    \"\"\"\n",
    "    loss = 0\n",
    "    batch_size = target_seq.shape[0]\n",
    "    seq_len = target_seq.shape[1]\n",
    "    lstm_hidden = tf.zeros((batch_size, sizes['lstm_num_units']))\n",
    "    lstm_cell = tf.zeros((batch_size, sizes['lstm_num_units']))\n",
    "    \n",
    "    #first token is always start token.\n",
    "    word_token = target_seq[:,0]\n",
    "    \n",
    "    with tf.GradientTape() as tape:\n",
    "        image_enc = encoder_model(image_emb)\n",
    "        #skip start token so we dont feed it in twice\n",
    "        for word_idx in range(1, seq_len):\n",
    "            target_word = target_seq[:,word_idx]\n",
    "            img_context, attn_weights = attention_model([image_enc, lstm_hidden])\n",
    "            dec_input = glove_word_embedder(word_token)\n",
    "            dec_output, lstm_hidden, lstm_cell = decoder_model((dec_input, img_context,lstm_hidden,lstm_cell))\n",
    "            loss += loss_function(target_word, dec_output)\n",
    "            \n",
    "            #we are using teacher forcing, so we will be feeding the correct word back into the \n",
    "            word_token = target_word\n",
    "            \n",
    "        #divide loss by sentence length because we do not want to penalize long sentences\n",
    "        total_loss = loss/int(seq_len)\n",
    "        trainable_variables = encoder_model.trainable_variables +  attention_model.trainable_variables + decoder_model.trainable_variables\n",
    "        \n",
    "        #gradients of trainable variables wrt to loss\n",
    "        gradients = tape.gradient(loss, trainable_variables)\n",
    "        optimizer.apply_gradients(zip(gradients,trainable_variables))\n",
    "        \n",
    "        return loss, total_loss\n",
    "        \n",
    "    \n",
    "    \n",
    "    \n",
    "    "
   ]
  },
  {
   "cell_type": "code",
   "execution_count": 53,
   "metadata": {
    "ExecuteTime": {
     "end_time": "2021-04-21T16:47:14.417802Z",
     "start_time": "2021-04-21T16:47:13.132237Z"
    }
   },
   "outputs": [],
   "source": [
    "#now, we can finally load the dataset using the pbatched funciton we defined above in section 2\n",
    "dataset = load_dataset(image_emb_paths,padded_tokenized_caps)\n",
    "num_steps = len(dataset)"
   ]
  },
  {
   "cell_type": "markdown",
   "metadata": {},
   "source": [
    "## Train!"
   ]
  },
  {
   "cell_type": "code",
   "execution_count": null,
   "metadata": {
    "ExecuteTime": {
     "start_time": "2021-04-21T16:46:06.950Z"
    },
    "scrolled": true
   },
   "outputs": [],
   "source": [
    "EPOCHS = 20\n",
    "loss_plot = []\n",
    "for epoch in range(start_epoch, EPOCHS):\n",
    "    start = time.time()\n",
    "    total_loss = 0\n",
    "\n",
    "    for (batch, (img_tensor, target)) in enumerate(dataset):\n",
    "        batch_loss, t_loss = train_step(img_tensor, target)\n",
    "        total_loss += t_loss\n",
    "\n",
    "        if batch % 100 == 0:\n",
    "            average_batch_loss = batch_loss.numpy()/int(target.shape[1])\n",
    "            print(f'Epoch {epoch+1} Batch {batch} Loss {average_batch_loss:.4f}')\n",
    "    # storing the epoch end loss value to plot later\n",
    "    loss_plot.append(total_loss / num_steps)\n",
    "\n",
    "    if epoch % 5 == 0:\n",
    "        ckpt_manager.save()\n",
    "\n",
    "    print(f'Epoch {epoch+1} Loss {total_loss/num_steps:.6f}')\n",
    "    print(f'Time taken for 1 epoch {time.time()-start:.2f} sec\\n')"
   ]
  },
  {
   "cell_type": "code",
   "execution_count": null,
   "metadata": {
    "ExecuteTime": {
     "start_time": "2021-04-21T16:18:34.171Z"
    }
   },
   "outputs": [],
   "source": []
  },
  {
   "cell_type": "code",
   "execution_count": null,
   "metadata": {
    "ExecuteTime": {
     "start_time": "2021-04-21T16:46:06.955Z"
    }
   },
   "outputs": [],
   "source": [
    "plt.plot(loss_plot)\n",
    "plt.xlabel('Epochs')\n",
    "plt.ylabel('Loss')\n",
    "plt.title('Loss Plot')\n",
    "plt.show()"
   ]
  },
  {
   "cell_type": "markdown",
   "metadata": {},
   "source": [
    "## Lets see how it does on some captions in the training set\n",
    "`"
   ]
  },
  {
   "cell_type": "code",
   "execution_count": null,
   "metadata": {
    "ExecuteTime": {
     "start_time": "2021-04-21T16:46:06.958Z"
    }
   },
   "outputs": [],
   "source": [
    "\n",
    "import nltk\n",
    "from nltk.translate.bleu_score import SmoothingFunction\n",
    "smoothie = SmoothingFunction().method4\n",
    "def get_bleu(tok_pred, tok_true):\n",
    "    \"\"\"\n",
    "    Given tokenized real and generated captions, returns bleu score\n",
    "    \"\"\"\n",
    "    #remove the end token for pred and both start and end token for true\n",
    "    tok_pred = tok_pred[:-1]\n",
    "    tok_true = tok_true[1:]\n",
    "    tok_true = tok_true[:-1]\n",
    "    tok_true = [tokenizer.index_word[tok] for tok in tok_true]\n",
    "    \n",
    "    return nltk.bleu_score.sentence_bleu([tok_true], tok_pred,smoothing_function=smoothie) "
   ]
  },
  {
   "cell_type": "code",
   "execution_count": null,
   "metadata": {},
   "outputs": [],
   "source": []
  },
  {
   "cell_type": "code",
   "execution_count": null,
   "metadata": {
    "ExecuteTime": {
     "start_time": "2021-04-21T16:46:06.963Z"
    }
   },
   "outputs": [],
   "source": [
    "def caption(image_index, embeddings_dir):\n",
    "    \"\"\"\n",
    "    Captions the image with the given index using image embeddings in the given embeddings directory\n",
    "    \"\"\"\n",
    "    embeddings_path = os.path.join(embeddings_dir, str(image_index) + '.png.npy')\n",
    "    embedding = np.load(embeddings_path)\n",
    "    embedding = tf.expand_dims(embedding, 0)\n",
    "    \n",
    "    max_len = 50\n",
    "    lstm_hidden = tf.zeros((1, sizes['lstm_num_units']))\n",
    "    lstm_cell = tf.zeros((1, sizes['lstm_num_units']))\n",
    "    #first token is always start token.\n",
    "    start_index = tokenizer.word_index['<start>']\n",
    "    word_token = np.full((1,1), start_index, dtype=np.int32)\n",
    "    \n",
    "    \n",
    "    image_enc = encoder_model(embedding)\n",
    "    \n",
    "    caption = []\n",
    "    for i in range(max_len):\n",
    "    \n",
    "        img_context, attn_weights = attention_model([image_enc, lstm_hidden])\n",
    "        dec_input = glove_word_embedder(word_token)\n",
    "        dec_output, lstm_hidden, lstm_cell = decoder_model((dec_input, img_context,lstm_hidden,lstm_cell))\n",
    "        \n",
    "        #sample a word based on the word with max probability improvement: BEAM SEARCH??\n",
    "        #we tried doing categorical sampling but it was really bad\n",
    "        word_token = tf.argmax(dec_output, 1)[0].numpy()\n",
    "\n",
    "        word = tokenizer.index_word[word_token]\n",
    "        word_token = np.full((1,1), word_token, dtype=np.int32)\n",
    "        \n",
    "        caption.append(word)\n",
    "        \n",
    "        if(word == '<end>'):\n",
    "            return caption\n",
    "        \n",
    "    return caption\n",
    "        \n",
    "    \n",
    "    \n",
    "    "
   ]
  },
  {
   "cell_type": "code",
   "execution_count": null,
   "metadata": {
    "ExecuteTime": {
     "start_time": "2021-04-21T16:46:06.966Z"
    }
   },
   "outputs": [],
   "source": [
    "### Lets look at some images and then the predicted captions\n",
    "images_dir = r'data/30k_sample/images'\n"
   ]
  },
  {
   "cell_type": "code",
   "execution_count": null,
   "metadata": {
    "ExecuteTime": {
     "start_time": "2021-04-21T16:46:06.969Z"
    },
    "run_control": {
     "marked": true
    }
   },
   "outputs": [],
   "source": [
    "img_index = 1435814\n",
    "im_path = os.path.join(images_dir, str(img_index) + '.png')\n",
    "im = Image.open(im_path)\n",
    "plt.imshow(im)"
   ]
  },
  {
   "cell_type": "code",
   "execution_count": null,
   "metadata": {
    "ExecuteTime": {
     "start_time": "2021-04-21T16:46:06.972Z"
    }
   },
   "outputs": [],
   "source": [
    "print(\"Generated Caption:\", caption(img_index, r'data/30k_sample/inception_v3_embeddings/'))\n",
    "print(\"Caption Label:\", data_df[data_df.global_index == img_index]['caption'].tolist()[0] )"
   ]
  },
  {
   "cell_type": "code",
   "execution_count": null,
   "metadata": {
    "ExecuteTime": {
     "start_time": "2021-04-21T16:46:06.975Z"
    }
   },
   "outputs": [],
   "source": [
    "img_index = 790196\n",
    "im_path = os.path.join(images_dir, str(img_index) + '.png')\n",
    "im = Image.open(im_path)\n",
    "plt.imshow(im)"
   ]
  },
  {
   "cell_type": "code",
   "execution_count": null,
   "metadata": {
    "ExecuteTime": {
     "start_time": "2021-04-21T16:46:06.979Z"
    }
   },
   "outputs": [],
   "source": [
    "print(\"Generated Caption:\", caption(img_index, r'data/30k_sample/inception_v3_embeddings/'))\n",
    "print(\"Caption Label:\", data_df[data_df.global_index == img_index]['caption'].tolist()[0] )"
   ]
  },
  {
   "cell_type": "code",
   "execution_count": null,
   "metadata": {
    "ExecuteTime": {
     "start_time": "2021-04-21T16:46:06.983Z"
    }
   },
   "outputs": [],
   "source": [
    "def display_samples(meta_df, num_samples=5, seed = 0):\n",
    "    #sample num_sample rows from the dataframe\n",
    "    samples = meta_df.sample(n=num_samples,random_state = 0)\n",
    "    for idx,row in samples.iterrows():\n",
    "        file_name = row['image_path']\n",
    "        caption = row['caption']\n",
    "        pred_caption = \" \".join(row['pred_captions'])\n",
    "        \n",
    "        title_str = f\"Actual Caption: {caption}\\n Generated Caption: {pred_caption}\"\n",
    "        \n",
    "        image = Image.open(file_name)\n",
    "        fig = plt.figure()\n",
    "        ax = fig.add_subplot(111)\n",
    "        \n",
    "                         \n",
    "        plt.xticks([])\n",
    "        plt.yticks([])\n",
    "        ax.imshow(image)        \n",
    "        plt.suptitle(title_str)\n",
    "\n",
    "        plt.xticks([])\n",
    "        plt.yticks([])\n",
    "        plt.show()"
   ]
  },
  {
   "cell_type": "code",
   "execution_count": null,
   "metadata": {
    "ExecuteTime": {
     "start_time": "2021-04-21T16:46:06.986Z"
    }
   },
   "outputs": [],
   "source": [
    "train_sample = data_df.sample(100)\n",
    "train_sample['pred_captions'] = train_sample['global_index'].apply(lambda x: caption(x, r'data/30k_sample/inception_v3_embeddings/'))\n"
   ]
  },
  {
   "cell_type": "code",
   "execution_count": null,
   "metadata": {
    "ExecuteTime": {
     "start_time": "2021-04-21T16:46:06.989Z"
    }
   },
   "outputs": [],
   "source": [
    "display_samples(train_sample)"
   ]
  },
  {
   "cell_type": "code",
   "execution_count": null,
   "metadata": {
    "ExecuteTime": {
     "start_time": "2021-04-21T16:46:06.992Z"
    }
   },
   "outputs": [],
   "source": [
    "train_sample['bleu_scores'] = train_sample.apply(lambda x: get_bleu( x.pred_captions, x.captions_tokenized), axis = 1)"
   ]
  },
  {
   "cell_type": "code",
   "execution_count": null,
   "metadata": {
    "ExecuteTime": {
     "start_time": "2021-04-21T16:46:06.994Z"
    }
   },
   "outputs": [],
   "source": [
    "train_sample['bleu_scores'].describe()"
   ]
  },
  {
   "cell_type": "markdown",
   "metadata": {},
   "source": [
    "## Evaluation"
   ]
  },
  {
   "cell_type": "markdown",
   "metadata": {},
   "source": [
    "### Evaluation methodology: Bleu score"
   ]
  },
  {
   "cell_type": "code",
   "execution_count": null,
   "metadata": {
    "ExecuteTime": {
     "start_time": "2021-04-21T16:46:06.998Z"
    }
   },
   "outputs": [],
   "source": [
    "import nltk\n",
    "from nltk.translate.bleu_score import SmoothingFunction\n",
    "smoothie = SmoothingFunction().method4"
   ]
  },
  {
   "cell_type": "code",
   "execution_count": null,
   "metadata": {
    "ExecuteTime": {
     "start_time": "2021-04-21T16:46:07.001Z"
    }
   },
   "outputs": [],
   "source": [
    "def get_bleu(tok_pred, tok_true):\n",
    "    \"\"\"\n",
    "    Given tokenized real and generated captions, returns bleu score\n",
    "    \"\"\"\n",
    "    #remove the end token for pred and both start and end token for true\n",
    "    tok_pred = tok_pred[:-1]\n",
    "    tok_true = tok_true[1:]\n",
    "    tok_true = tok_true[:-1]\n",
    "    tok_true = [tokenizer.index_word[tok] for tok in tok_true]\n",
    "    \n",
    "    return nltk.bleu_score.sentence_bleu([tok_true], tok_pred,smoothing_function=smoothie) "
   ]
  },
  {
   "cell_type": "markdown",
   "metadata": {},
   "source": [
    "### Loading test set"
   ]
  },
  {
   "cell_type": "code",
   "execution_count": null,
   "metadata": {
    "ExecuteTime": {
     "start_time": "2021-04-21T16:46:07.005Z"
    }
   },
   "outputs": [],
   "source": [
    "test_df = pd.read_csv('data/initial_sample/sent_added')"
   ]
  },
  {
   "cell_type": "code",
   "execution_count": null,
   "metadata": {
    "ExecuteTime": {
     "start_time": "2021-04-21T16:46:07.008Z"
    }
   },
   "outputs": [],
   "source": [
    "def process_test_caption(tokenizer, data_df, max_len=50):\n",
    "    \"\"\"\n",
    "    Preprocess the captions on the test set using our existing tokenizer:\n",
    "    \"\"\"\n",
    "    data_df['captions_processed'] = data_df['caption'].apply(lambda x: '<start> ' + x + ' <end>')\n",
    "    data_df['captions_tokenized'] = tokenizer.texts_to_sequences(data_df['captions_processed'])\n",
    "    list_of_tokenized_captions = data_df['captions_tokenized'].tolist()\n",
    "    padded_tok_captions = tf.keras.preprocessing.sequence.pad_sequences(list_of_tokenized_captions, padding='post', maxlen=50)\n",
    "    padded_tok_captions = padded_tok_captions.tolist()\n",
    "    data_df['captions_tokenized_padded'] = pd.Series(padded_tok_captions)\n",
    "    return data_df\n"
   ]
  },
  {
   "cell_type": "code",
   "execution_count": null,
   "metadata": {
    "ExecuteTime": {
     "start_time": "2021-04-21T16:46:07.010Z"
    }
   },
   "outputs": [],
   "source": [
    "#sample a random set of 5000 image caption pairs to evaluate on\n",
    "test_sample = test_df.sample(100)\n",
    "test_sample = process_test_caption(tokenizer, test_sample)"
   ]
  },
  {
   "cell_type": "code",
   "execution_count": null,
   "metadata": {
    "ExecuteTime": {
     "end_time": "2021-04-21T12:18:13.167420Z",
     "start_time": "2021-04-21T12:18:13.152422Z"
    }
   },
   "outputs": [],
   "source": []
  },
  {
   "cell_type": "code",
   "execution_count": null,
   "metadata": {
    "ExecuteTime": {
     "start_time": "2021-04-21T16:46:07.014Z"
    }
   },
   "outputs": [],
   "source": [
    "test_sample['pred_captions'] = test_sample['global_index'].apply(lambda x: caption(x, r'data/initial_sample/inception_v3_embeddings/'))\n"
   ]
  },
  {
   "cell_type": "markdown",
   "metadata": {
    "ExecuteTime": {
     "end_time": "2021-04-21T12:18:52.575547Z",
     "start_time": "2021-04-21T12:18:52.563711Z"
    }
   },
   "source": [
    "### Moment of truth on test data fingers crossed!"
   ]
  },
  {
   "cell_type": "code",
   "execution_count": null,
   "metadata": {
    "ExecuteTime": {
     "start_time": "2021-04-21T16:46:07.017Z"
    }
   },
   "outputs": [],
   "source": [
    "display_samples(test_sample)"
   ]
  },
  {
   "cell_type": "code",
   "execution_count": null,
   "metadata": {
    "ExecuteTime": {
     "start_time": "2021-04-21T16:46:07.020Z"
    }
   },
   "outputs": [],
   "source": [
    "test_sample['bleu_scores'] = test_sample.apply(lambda x: get_bleu( x.pred_captions, x.captions_tokenized), axis = 1)"
   ]
  },
  {
   "cell_type": "code",
   "execution_count": null,
   "metadata": {
    "ExecuteTime": {
     "start_time": "2021-04-21T16:46:07.023Z"
    }
   },
   "outputs": [],
   "source": [
    "test_sample['bleu_scores'].describe()"
   ]
  },
  {
   "cell_type": "markdown",
   "metadata": {},
   "source": [
    "## Are the captions really positive?\n"
   ]
  },
  {
   "cell_type": "code",
   "execution_count": null,
   "metadata": {
    "ExecuteTime": {
     "start_time": "2021-04-21T16:46:07.026Z"
    }
   },
   "outputs": [],
   "source": [
    "from sklearn.metrics import confusion_matrix\n"
   ]
  },
  {
   "cell_type": "code",
   "execution_count": null,
   "metadata": {
    "ExecuteTime": {
     "start_time": "2021-04-21T16:46:07.029Z"
    }
   },
   "outputs": [],
   "source": [
    "from transformers import pipeline\n",
    "hf_sent = pipeline('sentiment-analysis')"
   ]
  },
  {
   "cell_type": "code",
   "execution_count": null,
   "metadata": {
    "ExecuteTime": {
     "start_time": "2021-04-21T16:46:07.032Z"
    }
   },
   "outputs": [],
   "source": [
    "def pred_sent_on_gen(gen_caption):\n",
    "    \"\"\"\n",
    "    predict the sentiment on a generated caption and return the label\n",
    "    \"\"\"\n",
    "    tok_pred = \" \".join(gen_caption[:-1])\n",
    "    return hf_sent(gen_caption)\n",
    "\n"
   ]
  },
  {
   "cell_type": "code",
   "execution_count": null,
   "metadata": {
    "ExecuteTime": {
     "start_time": "2021-04-21T16:46:07.035Z"
    }
   },
   "outputs": [],
   "source": [
    "train_sample['hf_sent_gen'] = train_sample['pred_captions'].apply(lambda x: pred_sent_on_gen(x))\n",
    "train_sample['hf_sent_class'] = train_sample['hf_sent_gen'].apply(lambda x: x[0]['label'])\n",
    "train_sample['hf_sent_conf'] = train_sample['hf_sent_gen'].apply(lambda x: x[0]['score'])"
   ]
  },
  {
   "cell_type": "code",
   "execution_count": null,
   "metadata": {
    "ExecuteTime": {
     "start_time": "2021-04-21T16:46:07.038Z"
    }
   },
   "outputs": [],
   "source": [
    "confusion_matrix(train_sample['hf_sent'], train_sample['hf_sent_gen'])"
   ]
  },
  {
   "cell_type": "code",
   "execution_count": null,
   "metadata": {
    "ExecuteTime": {
     "start_time": "2021-04-21T16:46:07.041Z"
    }
   },
   "outputs": [],
   "source": [
    "test_sample['hf_sent_gen'] = test_sample['pred_captions'].apply(lambda x: pred_sent_on_gen(x))\n",
    "test_sample['hf_sent_class'] = test_sample['hf_sent_gen'].apply(lambda x: x[0]['label'])\n",
    "test_sample['hf_sent_conf'] = test_sample['hf_sent_gen'].apply(lambda x: x[0]['score'])"
   ]
  },
  {
   "cell_type": "code",
   "execution_count": null,
   "metadata": {
    "ExecuteTime": {
     "start_time": "2021-04-21T16:46:07.043Z"
    }
   },
   "outputs": [],
   "source": [
    "confusion_matrix(test_sample['hf_sent'], test_sample['hf_sent_gen'])"
   ]
  },
  {
   "cell_type": "code",
   "execution_count": null,
   "metadata": {},
   "outputs": [],
   "source": []
  }
 ],
 "metadata": {
  "kernelspec": {
   "display_name": "PyCharm (ML1_Final_Proj)",
   "language": "python",
   "name": "pycharm-1759dd10"
  },
  "language_info": {
   "codemirror_mode": {
    "name": "ipython",
    "version": 3
   },
   "file_extension": ".py",
   "mimetype": "text/x-python",
   "name": "python",
   "nbconvert_exporter": "python",
   "pygments_lexer": "ipython3",
   "version": "3.8.8"
  },
  "toc": {
   "base_numbering": 1,
   "nav_menu": {},
   "number_sections": true,
   "sideBar": true,
   "skip_h1_title": true,
   "title_cell": "Table of Contents",
   "title_sidebar": "Contents",
   "toc_cell": false,
   "toc_position": {
    "height": "calc(100% - 180px)",
    "left": "10px",
    "top": "150px",
    "width": "165px"
   },
   "toc_section_display": true,
   "toc_window_display": true
  },
  "varInspector": {
   "cols": {
    "lenName": 16,
    "lenType": 16,
    "lenVar": 40
   },
   "kernels_config": {
    "python": {
     "delete_cmd_postfix": "",
     "delete_cmd_prefix": "del ",
     "library": "var_list.py",
     "varRefreshCmd": "print(var_dic_list())"
    },
    "r": {
     "delete_cmd_postfix": ") ",
     "delete_cmd_prefix": "rm(",
     "library": "var_list.r",
     "varRefreshCmd": "cat(var_dic_list()) "
    }
   },
   "position": {
    "height": "893px",
    "left": "540px",
    "right": "20px",
    "top": "1209px",
    "width": "544px"
   },
   "types_to_exclude": [
    "module",
    "function",
    "builtin_function_or_method",
    "instance",
    "_Feature"
   ],
   "window_display": false
  }
 },
 "nbformat": 4,
 "nbformat_minor": 1
}
