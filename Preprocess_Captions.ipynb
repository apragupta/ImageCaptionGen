{
 "cells": [
  {
   "cell_type": "markdown",
   "id": "ac997909",
   "metadata": {
    "ExecuteTime": {
     "end_time": "2021-04-25T18:59:35.529464Z",
     "start_time": "2021-04-25T18:59:35.525465Z"
    }
   },
   "source": [
    "# Pipeline for preprocessing image captions \n",
    "\n",
    "Uses some code from [this TF Tutorial](https://www.tensorflow.org/tutorials/text/image_captioning) for tokenizing captions"
   ]
  },
  {
   "cell_type": "markdown",
   "id": "51b64384",
   "metadata": {},
   "source": []
  },
  {
   "cell_type": "code",
   "execution_count": 1,
   "id": "e3a4b097",
   "metadata": {
    "ExecuteTime": {
     "end_time": "2021-04-25T23:15:59.687199Z",
     "start_time": "2021-04-25T23:15:56.820382Z"
    }
   },
   "outputs": [
    {
     "name": "stdout",
     "output_type": "stream",
     "text": [
      "2.4.1\n"
     ]
    }
   ],
   "source": [
    "import pandas as pd \n",
    "import numpy as np\n",
    "import tensorflow as tf\n",
    "import os\n",
    "from tqdm import tqdm\n",
    "import time\n",
    "#initialization code required to make tensorflow work on my systemabs\n",
    "config = tf.compat.v1.ConfigProto()\n",
    "config.gpu_options.allow_growth = True\n",
    "session = tf.compat.v1.Session(config=config)\n",
    "print(tf.__version__)\n",
    "import pickle"
   ]
  },
  {
   "cell_type": "code",
   "execution_count": 2,
   "id": "e0d164fb",
   "metadata": {
    "ExecuteTime": {
     "end_time": "2021-04-25T23:16:00.341580Z",
     "start_time": "2021-04-25T23:16:00.338574Z"
    }
   },
   "outputs": [],
   "source": [
    "data_dir = r'data/30k_sample/'"
   ]
  },
  {
   "cell_type": "code",
   "execution_count": 3,
   "id": "b22ac4ae",
   "metadata": {
    "ExecuteTime": {
     "end_time": "2021-04-25T23:16:01.318951Z",
     "start_time": "2021-04-25T23:16:01.314943Z"
    }
   },
   "outputs": [],
   "source": [
    "#map to the dataframe with captions and path to the images and their embeddings\n",
    "path_to_train_meta = os.path.join(data_dir, r'sent_added')"
   ]
  },
  {
   "cell_type": "code",
   "execution_count": 4,
   "id": "0bf13753",
   "metadata": {
    "ExecuteTime": {
     "end_time": "2021-04-25T23:16:02.675756Z",
     "start_time": "2021-04-25T23:16:02.275250Z"
    }
   },
   "outputs": [],
   "source": [
    "data_df = pd.read_csv(path_to_train_meta)"
   ]
  },
  {
   "cell_type": "code",
   "execution_count": 5,
   "id": "05f2e7bd",
   "metadata": {
    "ExecuteTime": {
     "end_time": "2021-04-25T23:16:03.412649Z",
     "start_time": "2021-04-25T23:16:03.394707Z"
    }
   },
   "outputs": [],
   "source": [
    "#preprocess captions tpo include start and end tokens\n",
    "data_df['captions_processed'] = data_df['caption'].apply(lambda x: '<start> ' + x + ' <end>')"
   ]
  },
  {
   "cell_type": "code",
   "execution_count": 6,
   "id": "9df0ca8e",
   "metadata": {
    "ExecuteTime": {
     "end_time": "2021-04-25T23:16:04.831223Z",
     "start_time": "2021-04-25T23:16:04.507339Z"
    }
   },
   "outputs": [],
   "source": [
    "tokenizer = tf.keras.preprocessing.text.Tokenizer(oov_token=\"<unk>\",\n",
    "                                                  filters='!\"#$%&()*+.,-/:;=?@[\\]^_`{|}~ ')\n",
    "tokenizer.fit_on_texts(data_df['captions_processed'])"
   ]
  },
  {
   "cell_type": "code",
   "execution_count": 7,
   "id": "4955c704",
   "metadata": {
    "ExecuteTime": {
     "end_time": "2021-04-25T23:16:05.247249Z",
     "start_time": "2021-04-25T23:16:05.243248Z"
    }
   },
   "outputs": [],
   "source": [
    "#add a word for padding \n",
    "tokenizer.word_index['<pad>'] = 0\n",
    "tokenizer.index_word[0] = '<pad>'"
   ]
  },
  {
   "cell_type": "code",
   "execution_count": 8,
   "id": "3705b196",
   "metadata": {
    "ExecuteTime": {
     "end_time": "2021-04-25T23:16:06.043327Z",
     "start_time": "2021-04-25T23:16:06.035324Z"
    }
   },
   "outputs": [
    {
     "data": {
      "text/plain": [
       "0        <start> drum and drumsticks pattern repeat sea...\n",
       "1        <start> abstract image with bright triangles o...\n",
       "2             <start> digital art selected for the # <end>\n",
       "3        <start> girl at the computer prints royalty fr...\n",
       "4        <start> roadside home and tree , along the roa...\n",
       "                               ...                        \n",
       "29923           <start> the house of deity : mosaics <end>\n",
       "29924               <start> actor at a fashion event <end>\n",
       "29925    <start> man conducted the service for person <...\n",
       "29926    <start> supermodel is photographed at a portra...\n",
       "29927    <start> character dressed in the traditional w...\n",
       "Name: captions_processed, Length: 29928, dtype: object"
      ]
     },
     "execution_count": 8,
     "metadata": {},
     "output_type": "execute_result"
    }
   ],
   "source": [
    "data_df['captions_processed']"
   ]
  },
  {
   "cell_type": "code",
   "execution_count": null,
   "id": "1ab52bb7",
   "metadata": {
    "ExecuteTime": {
     "end_time": "2021-04-25T19:16:20.296077Z",
     "start_time": "2021-04-25T19:16:20.282084Z"
    }
   },
   "outputs": [],
   "source": []
  },
  {
   "cell_type": "code",
   "execution_count": 9,
   "id": "f77750f5",
   "metadata": {
    "ExecuteTime": {
     "end_time": "2021-04-25T23:16:08.704317Z",
     "start_time": "2021-04-25T23:16:08.684480Z"
    }
   },
   "outputs": [],
   "source": [
    "#keep only most common 10k words to limit vocab size\n",
    "num_words = 10000"
   ]
  },
  {
   "cell_type": "code",
   "execution_count": 10,
   "id": "46695d86",
   "metadata": {
    "ExecuteTime": {
     "end_time": "2021-04-25T23:16:09.713246Z",
     "start_time": "2021-04-25T23:16:09.708244Z"
    }
   },
   "outputs": [],
   "source": [
    "#limit vocab size to 10k \n",
    "tokenizer.word_index = {e:i for e,i in tokenizer.word_index.items() if i <= num_words} # <= because tokenizer is 1 indexed"
   ]
  },
  {
   "cell_type": "code",
   "execution_count": 11,
   "id": "e82a2c69",
   "metadata": {
    "ExecuteTime": {
     "end_time": "2021-04-25T23:16:10.439143Z",
     "start_time": "2021-04-25T23:16:10.418495Z"
    }
   },
   "outputs": [
    {
     "data": {
      "text/plain": [
       "10001"
      ]
     },
     "execution_count": 11,
     "metadata": {},
     "output_type": "execute_result"
    }
   ],
   "source": [
    "vocab_len = len(tokenizer.word_index)\n",
    "vocab_len"
   ]
  },
  {
   "cell_type": "code",
   "execution_count": null,
   "id": "f045adb8",
   "metadata": {
    "ExecuteTime": {
     "end_time": "2021-04-25T19:28:19.216318Z",
     "start_time": "2021-04-25T19:28:19.209323Z"
    }
   },
   "outputs": [],
   "source": []
  },
  {
   "cell_type": "code",
   "execution_count": 12,
   "id": "33fdbf7d",
   "metadata": {
    "ExecuteTime": {
     "end_time": "2021-04-25T23:16:11.676112Z",
     "start_time": "2021-04-25T23:16:11.435460Z"
    }
   },
   "outputs": [
    {
     "data": {
      "text/plain": [
       "0        [2, 5362, 9, 6457, 85, 1497, 124, 7, 47, 167, ...\n",
       "1            [2, 186, 123, 10, 335, 1918, 8, 5, 18, 17, 3]\n",
       "2                              [2, 381, 92, 574, 12, 4, 3]\n",
       "3         [2, 74, 14, 4, 542, 2405, 565, 237, 187, 874, 3]\n",
       "4                     [2, 6458, 80, 9, 86, 275, 4, 174, 3]\n",
       "                               ...                        \n",
       "29923                          [2, 4, 81, 6, 905, 5745, 3]\n",
       "29924                            [2, 20, 14, 5, 46, 87, 3]\n",
       "29925                    [2, 51, 4502, 4, 1414, 12, 13, 3]\n",
       "29926               [2, 2257, 16, 599, 14, 5, 88, 1113, 3]\n",
       "29927                     [2, 155, 857, 7, 4, 340, 253, 3]\n",
       "Name: captions_tokenized, Length: 29928, dtype: object"
      ]
     },
     "execution_count": 12,
     "metadata": {},
     "output_type": "execute_result"
    }
   ],
   "source": [
    "data_df['captions_tokenized'] = tokenizer.texts_to_sequences(data_df['captions_processed'])\n",
    "data_df['captions_tokenized'] "
   ]
  },
  {
   "cell_type": "code",
   "execution_count": 13,
   "id": "9f045cf4",
   "metadata": {
    "ExecuteTime": {
     "end_time": "2021-04-25T23:16:11.896169Z",
     "start_time": "2021-04-25T23:16:11.882647Z"
    }
   },
   "outputs": [
    {
     "name": "stdout",
     "output_type": "stream",
     "text": [
      "0        14\n",
      "1        11\n",
      "2         7\n",
      "3        11\n",
      "4         9\n",
      "         ..\n",
      "29923     7\n",
      "29924     7\n",
      "29925     8\n",
      "29926     9\n",
      "29927     8\n",
      "Name: captions_tokenized, Length: 29928, dtype: int64\n"
     ]
    }
   ],
   "source": [
    "#sannity check number of words should be same as number of tokens (with an one token removed for .)\n",
    "print(data_df['captions_tokenized'].apply(lambda x: len(x)))"
   ]
  },
  {
   "cell_type": "code",
   "execution_count": 14,
   "id": "7abe61b4",
   "metadata": {
    "ExecuteTime": {
     "end_time": "2021-04-25T23:16:12.705204Z",
     "start_time": "2021-04-25T23:16:12.667685Z"
    }
   },
   "outputs": [
    {
     "data": {
      "text/plain": [
       "0        15\n",
       "1        12\n",
       "2         8\n",
       "3        11\n",
       "4        11\n",
       "         ..\n",
       "29923     8\n",
       "29924     7\n",
       "29925     8\n",
       "29926    10\n",
       "29927     9\n",
       "Name: captions_processed, Length: 29928, dtype: int64"
      ]
     },
     "execution_count": 14,
     "metadata": {},
     "output_type": "execute_result"
    }
   ],
   "source": [
    "max_len = data_df['captions_tokenized'].apply(lambda x: len(x))\n",
    "data_df['captions_processed'].apply(lambda x: len(x.split()))"
   ]
  },
  {
   "cell_type": "code",
   "execution_count": 15,
   "id": "9430ef7c",
   "metadata": {
    "ExecuteTime": {
     "end_time": "2021-04-25T23:16:13.774900Z",
     "start_time": "2021-04-25T23:16:13.771899Z"
    }
   },
   "outputs": [],
   "source": [
    "#We will now pad the sequences \n",
    "list_of_tokenized_captions = data_df['captions_tokenized'].tolist()"
   ]
  },
  {
   "cell_type": "code",
   "execution_count": 16,
   "id": "23a03fdd",
   "metadata": {
    "ExecuteTime": {
     "end_time": "2021-04-25T23:16:14.418473Z",
     "start_time": "2021-04-25T23:16:14.219471Z"
    }
   },
   "outputs": [],
   "source": [
    "padded_tok_captions = tf.keras.preprocessing.sequence.pad_sequences(list_of_tokenized_captions, padding='post')\n",
    "padded_tok_captions = padded_tok_captions.tolist()\n"
   ]
  },
  {
   "cell_type": "code",
   "execution_count": 17,
   "id": "a3216884",
   "metadata": {
    "ExecuteTime": {
     "end_time": "2021-04-25T23:16:15.031420Z",
     "start_time": "2021-04-25T23:16:15.027419Z"
    },
    "run_control": {
     "marked": true
    }
   },
   "outputs": [
    {
     "data": {
      "text/plain": [
       "50"
      ]
     },
     "execution_count": 17,
     "metadata": {},
     "output_type": "execute_result"
    }
   ],
   "source": [
    "max_len = len(padded_tok_captions[0])\n",
    "max_len"
   ]
  },
  {
   "cell_type": "code",
   "execution_count": 18,
   "id": "e94dfd96",
   "metadata": {
    "ExecuteTime": {
     "end_time": "2021-04-25T23:16:16.883837Z",
     "start_time": "2021-04-25T23:16:16.867839Z"
    }
   },
   "outputs": [
    {
     "data": {
      "text/plain": [
       "0        [2, 5362, 9, 6457, 85, 1497, 124, 7, 47, 167, ...\n",
       "1        [2, 186, 123, 10, 335, 1918, 8, 5, 18, 17, 3, ...\n",
       "2        [2, 381, 92, 574, 12, 4, 3, 0, 0, 0, 0, 0, 0, ...\n",
       "3        [2, 74, 14, 4, 542, 2405, 565, 237, 187, 874, ...\n",
       "4        [2, 6458, 80, 9, 86, 275, 4, 174, 3, 0, 0, 0, ...\n",
       "                               ...                        \n",
       "29923    [2, 4, 81, 6, 905, 5745, 3, 0, 0, 0, 0, 0, 0, ...\n",
       "29924    [2, 20, 14, 5, 46, 87, 3, 0, 0, 0, 0, 0, 0, 0,...\n",
       "29925    [2, 51, 4502, 4, 1414, 12, 13, 3, 0, 0, 0, 0, ...\n",
       "29926    [2, 2257, 16, 599, 14, 5, 88, 1113, 3, 0, 0, 0...\n",
       "29927    [2, 155, 857, 7, 4, 340, 253, 3, 0, 0, 0, 0, 0...\n",
       "Name: captions_tokenized_padded, Length: 29928, dtype: object"
      ]
     },
     "execution_count": 18,
     "metadata": {},
     "output_type": "execute_result"
    }
   ],
   "source": [
    "data_df['captions_tokenized_padded'] = pd.Series(padded_tok_captions)\n",
    "data_df['captions_tokenized_padded']"
   ]
  },
  {
   "cell_type": "code",
   "execution_count": 19,
   "id": "f5e71c9a",
   "metadata": {
    "ExecuteTime": {
     "end_time": "2021-04-25T23:16:20.510575Z",
     "start_time": "2021-04-25T23:16:20.507581Z"
    }
   },
   "outputs": [
    {
     "data": {
      "text/plain": [
       "10001"
      ]
     },
     "execution_count": 19,
     "metadata": {},
     "output_type": "execute_result"
    }
   ],
   "source": [
    "vocab_len = len(tokenizer.word_index)\n",
    "vocab_len"
   ]
  },
  {
   "cell_type": "code",
   "execution_count": 20,
   "id": "9d2f7702",
   "metadata": {
    "ExecuteTime": {
     "end_time": "2021-04-25T23:16:21.127921Z",
     "start_time": "2021-04-25T23:16:21.123934Z"
    }
   },
   "outputs": [
    {
     "name": "stdout",
     "output_type": "stream",
     "text": [
      "0\n",
      "1\n",
      "2\n",
      "3\n"
     ]
    }
   ],
   "source": [
    "#make sure we have unk tokens etc-\n",
    "print(tokenizer.word_index['<pad>'])\n",
    "print(tokenizer.word_index['<unk>'])\n",
    "print(tokenizer.word_index['<start>'])\n",
    "print(tokenizer.word_index['<end>'])"
   ]
  },
  {
   "cell_type": "code",
   "execution_count": 21,
   "id": "a51bbf02",
   "metadata": {
    "ExecuteTime": {
     "end_time": "2021-04-25T23:16:24.705054Z",
     "start_time": "2021-04-25T23:16:23.906478Z"
    }
   },
   "outputs": [],
   "source": [
    "#save preprocessed captions\n",
    "data_df.to_csv(os.path.join(data_dir, \"tokenized_sent_added\"),index=False)"
   ]
  },
  {
   "cell_type": "code",
   "execution_count": null,
   "id": "51ec3bbe",
   "metadata": {},
   "outputs": [],
   "source": []
  },
  {
   "cell_type": "code",
   "execution_count": 22,
   "id": "90e8af28",
   "metadata": {
    "ExecuteTime": {
     "end_time": "2021-04-25T23:16:25.693432Z",
     "start_time": "2021-04-25T23:16:25.681896Z"
    }
   },
   "outputs": [],
   "source": [
    "#pickle and save tokenizer\n",
    "tokenizer_path = os.path.join(data_dir, r'tokenizer.pickle')\n",
    "\n",
    "# saving\n",
    "with open(tokenizer_path, 'wb') as handle:\n",
    "    pickle.dump(tokenizer, handle, protocol=pickle.HIGHEST_PROTOCOL)\n"
   ]
  },
  {
   "cell_type": "code",
   "execution_count": 23,
   "id": "2d162717",
   "metadata": {
    "ExecuteTime": {
     "end_time": "2021-04-25T23:16:28.706594Z",
     "start_time": "2021-04-25T23:16:28.691605Z"
    },
    "run_control": {
     "marked": true
    }
   },
   "outputs": [],
   "source": [
    "# loading\n",
    "with open(tokenizer_path, 'rb') as handle:\n",
    "    tokenizer = pickle.load(handle)"
   ]
  },
  {
   "cell_type": "code",
   "execution_count": 24,
   "id": "b2ee4d15",
   "metadata": {
    "ExecuteTime": {
     "end_time": "2021-04-25T23:16:29.591079Z",
     "start_time": "2021-04-25T23:16:29.570538Z"
    }
   },
   "outputs": [
    {
     "data": {
      "text/plain": [
       "10001"
      ]
     },
     "execution_count": 24,
     "metadata": {},
     "output_type": "execute_result"
    }
   ],
   "source": [
    "vocab_len = len(tokenizer.word_index)\n",
    "vocab_len\n"
   ]
  },
  {
   "cell_type": "code",
   "execution_count": 25,
   "id": "074763e8",
   "metadata": {
    "ExecuteTime": {
     "end_time": "2021-04-25T23:16:30.110430Z",
     "start_time": "2021-04-25T23:16:30.107429Z"
    }
   },
   "outputs": [
    {
     "name": "stdout",
     "output_type": "stream",
     "text": [
      "0\n",
      "1\n",
      "2\n",
      "3\n"
     ]
    }
   ],
   "source": [
    "#make sure we have unk tokens etc-\n",
    "print(tokenizer.word_index['<pad>'])\n",
    "print(tokenizer.word_index['<unk>'])\n",
    "print(tokenizer.word_index['<start>'])\n",
    "print(tokenizer.word_index['<end>'])"
   ]
  },
  {
   "cell_type": "code",
   "execution_count": null,
   "id": "54043e5d",
   "metadata": {},
   "outputs": [],
   "source": []
  },
  {
   "cell_type": "code",
   "execution_count": null,
   "id": "846a9aa0",
   "metadata": {},
   "outputs": [],
   "source": []
  },
  {
   "cell_type": "code",
   "execution_count": null,
   "id": "f40cf2d0",
   "metadata": {},
   "outputs": [],
   "source": []
  },
  {
   "cell_type": "code",
   "execution_count": null,
   "id": "80a71e5b",
   "metadata": {},
   "outputs": [],
   "source": []
  },
  {
   "cell_type": "code",
   "execution_count": null,
   "id": "47359db2",
   "metadata": {},
   "outputs": [],
   "source": []
  },
  {
   "cell_type": "code",
   "execution_count": null,
   "id": "0caa0a5f",
   "metadata": {},
   "outputs": [],
   "source": []
  },
  {
   "cell_type": "code",
   "execution_count": null,
   "id": "fa32e5b3",
   "metadata": {},
   "outputs": [],
   "source": []
  },
  {
   "cell_type": "code",
   "execution_count": null,
   "id": "2442a838",
   "metadata": {},
   "outputs": [],
   "source": []
  },
  {
   "cell_type": "code",
   "execution_count": null,
   "id": "4600df50",
   "metadata": {},
   "outputs": [],
   "source": []
  },
  {
   "cell_type": "code",
   "execution_count": null,
   "id": "ae5dc1ea",
   "metadata": {},
   "outputs": [],
   "source": []
  },
  {
   "cell_type": "code",
   "execution_count": null,
   "id": "e42ad660",
   "metadata": {},
   "outputs": [],
   "source": []
  },
  {
   "cell_type": "code",
   "execution_count": null,
   "id": "7d384839",
   "metadata": {},
   "outputs": [],
   "source": []
  },
  {
   "cell_type": "code",
   "execution_count": null,
   "id": "71716a8b",
   "metadata": {},
   "outputs": [],
   "source": []
  }
 ],
 "metadata": {
  "kernelspec": {
   "display_name": "PyCharm (ML1_Final_Proj)",
   "language": "python",
   "name": "pycharm-1759dd10"
  },
  "language_info": {
   "codemirror_mode": {
    "name": "ipython",
    "version": 3
   },
   "file_extension": ".py",
   "mimetype": "text/x-python",
   "name": "python",
   "nbconvert_exporter": "python",
   "pygments_lexer": "ipython3",
   "version": "3.8.8"
  },
  "toc": {
   "base_numbering": 1,
   "nav_menu": {},
   "number_sections": true,
   "sideBar": true,
   "skip_h1_title": true,
   "title_cell": "Table of Contents",
   "title_sidebar": "Contents",
   "toc_cell": false,
   "toc_position": {
    "height": "calc(100% - 180px)",
    "left": "10px",
    "top": "150px",
    "width": "490.188px"
   },
   "toc_section_display": true,
   "toc_window_display": true
  },
  "varInspector": {
   "cols": {
    "lenName": 16,
    "lenType": 16,
    "lenVar": 40
   },
   "kernels_config": {
    "python": {
     "delete_cmd_postfix": "",
     "delete_cmd_prefix": "del ",
     "library": "var_list.py",
     "varRefreshCmd": "print(var_dic_list())"
    },
    "r": {
     "delete_cmd_postfix": ") ",
     "delete_cmd_prefix": "rm(",
     "library": "var_list.r",
     "varRefreshCmd": "cat(var_dic_list()) "
    }
   },
   "types_to_exclude": [
    "module",
    "function",
    "builtin_function_or_method",
    "instance",
    "_Feature"
   ],
   "window_display": false
  }
 },
 "nbformat": 4,
 "nbformat_minor": 5
}
