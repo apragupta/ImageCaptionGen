{
 "cells": [
  {
   "cell_type": "code",
   "execution_count": 14,
   "id": "28ad2891",
   "metadata": {
    "ExecuteTime": {
     "end_time": "2021-04-25T23:00:10.183126Z",
     "start_time": "2021-04-25T23:00:10.176126Z"
    }
   },
   "outputs": [],
   "source": [
    "import pandas as pd\n",
    "import matplotlib.pyplot as plt"
   ]
  },
  {
   "cell_type": "code",
   "execution_count": 20,
   "id": "d1685652",
   "metadata": {
    "ExecuteTime": {
     "end_time": "2021-04-25T23:01:21.087841Z",
     "start_time": "2021-04-25T23:01:21.070841Z"
    }
   },
   "outputs": [],
   "source": [
    "data = pd.read_csv('results/30k_i_res_v3/metrics')"
   ]
  },
  {
   "cell_type": "code",
   "execution_count": 21,
   "id": "df61749a",
   "metadata": {
    "ExecuteTime": {
     "end_time": "2021-04-25T23:01:21.574796Z",
     "start_time": "2021-04-25T23:01:21.568794Z"
    }
   },
   "outputs": [],
   "source": [
    "data['loss'] = data['loss'].apply(lambda x: float(x[10:19]))"
   ]
  },
  {
   "cell_type": "code",
   "execution_count": 22,
   "id": "379d4a69",
   "metadata": {
    "ExecuteTime": {
     "end_time": "2021-04-25T23:01:23.245674Z",
     "start_time": "2021-04-25T23:01:23.230676Z"
    }
   },
   "outputs": [
    {
     "data": {
      "text/plain": [
       "0    1.210488\n",
       "1    0.999397\n",
       "2    0.901174\n",
       "Name: loss, dtype: float64"
      ]
     },
     "execution_count": 22,
     "metadata": {},
     "output_type": "execute_result"
    }
   ],
   "source": [
    "data['loss']"
   ]
  },
  {
   "cell_type": "code",
   "execution_count": 23,
   "id": "7c5fe79d",
   "metadata": {
    "ExecuteTime": {
     "end_time": "2021-04-25T23:01:23.907346Z",
     "start_time": "2021-04-25T23:01:23.774346Z"
    }
   },
   "outputs": [
    {
     "data": {
      "image/png": "[encoded data removed]",
      "text/plain": [
       "<Figure size 432x288 with 1 Axes>"
      ]
     },
     "metadata": {
      "needs_background": "light"
     },
     "output_type": "display_data"
    }
   ],
   "source": [
    "plt.plot(data['epoch'], data['loss'])\n",
    "plt.xlabel('Epochs')\n",
    "plt.ylabel('Loss')\n",
    "plt.title('Loss Plot')\n",
    "plt.show()"
   ]
  },
  {
   "cell_type": "code",
   "execution_count": null,
   "id": "20c519e3",
   "metadata": {},
   "outputs": [],
   "source": []
  }
 ],
 "metadata": {
  "kernelspec": {
   "display_name": "PyCharm (ML1_Final_Proj)",
   "language": "python",
   "name": "pycharm-16e37711"
  },
  "language_info": {
   "codemirror_mode": {
    "name": "ipython",
    "version": 3
   },
   "file_extension": ".py",
   "mimetype": "text/x-python",
   "name": "python",
   "nbconvert_exporter": "python",
   "pygments_lexer": "ipython3",
   "version": "3.8.0"
  },
  "toc": {
   "base_numbering": 1,
   "nav_menu": {},
   "number_sections": true,
   "sideBar": true,
   "skip_h1_title": false,
   "title_cell": "Table of Contents",
   "title_sidebar": "Contents",
   "toc_cell": false,
   "toc_position": {},
   "toc_section_display": true,
   "toc_window_display": false
  },
  "varInspector": {
   "cols": {
    "lenName": 16,
    "lenType": 16,
    "lenVar": 40
   },
   "kernels_config": {
    "python": {
     "delete_cmd_postfix": "",
     "delete_cmd_prefix": "del ",
     "library": "var_list.py",
     "varRefreshCmd": "print(var_dic_list())"
    },
    "r": {
     "delete_cmd_postfix": ") ",
     "delete_cmd_prefix": "rm(",
     "library": "var_list.r",
     "varRefreshCmd": "cat(var_dic_list()) "
    }
   },
   "types_to_exclude": [
    "module",
    "function",
    "builtin_function_or_method",
    "instance",
    "_Feature"
   ],
   "window_display": false
  }
 },
 "nbformat": 4,
 "nbformat_minor": 5
}
