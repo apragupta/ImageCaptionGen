{
 "cells": [
  {
   "cell_type": "code",
   "execution_count": 67,
   "id": "28ad2891",
   "metadata": {
    "ExecuteTime": {
     "end_time": "2021-04-26T18:05:21.042223Z",
     "start_time": "2021-04-26T18:05:21.030221Z"
    }
   },
   "outputs": [],
   "source": [
    "import pandas as pd\n",
    "import matplotlib.pyplot as plt"
   ]
  },
  {
   "cell_type": "code",
   "execution_count": 72,
   "id": "d1685652",
   "metadata": {
    "ExecuteTime": {
     "end_time": "2021-04-26T18:09:53.751022Z",
     "start_time": "2021-04-26T18:09:53.742025Z"
    }
   },
   "outputs": [],
   "source": [
    "data = pd.read_csv('results/30k_i_res_v2_pos/metrics')"
   ]
  },
  {
   "cell_type": "code",
   "execution_count": 73,
   "id": "df61749a",
   "metadata": {
    "ExecuteTime": {
     "end_time": "2021-04-26T18:09:54.112591Z",
     "start_time": "2021-04-26T18:09:54.101590Z"
    }
   },
   "outputs": [],
   "source": [
    "data['loss'] = data['loss'].apply(lambda x: float(x[10:18]))"
   ]
  },
  {
   "cell_type": "code",
   "execution_count": 74,
   "id": "379d4a69",
   "metadata": {
    "ExecuteTime": {
     "end_time": "2021-04-26T18:09:54.269888Z",
     "start_time": "2021-04-26T18:09:54.261886Z"
    }
   },
   "outputs": [
    {
     "data": {
      "text/plain": [
       "0     1.234632\n",
       "1     1.020703\n",
       "2     0.924134\n",
       "3     0.854254\n",
       "4     0.795548\n",
       "5     0.741377\n",
       "6     0.689572\n",
       "7     0.638968\n",
       "8     0.590065\n",
       "9     0.543287\n",
       "10    0.497570\n",
       "11    0.453012\n",
       "12    0.411058\n",
       "13    0.369369\n",
       "14    0.329325\n",
       "15    0.292567\n",
       "16    0.258411\n",
       "17    0.226033\n",
       "18    0.197213\n",
       "19    0.169794\n",
       "20    0.258434\n",
       "21    0.225749\n",
       "22    0.196428\n",
       "23    0.170711\n",
       "24    0.147385\n",
       "25    0.126884\n",
       "26    0.110044\n",
       "27    0.094294\n",
       "28    0.081354\n",
       "29    0.070522\n",
       "30    0.063046\n",
       "31    0.056227\n",
       "32    0.051004\n",
       "33    0.046236\n",
       "34    0.041894\n",
       "35    0.036823\n",
       "36    0.035537\n",
       "37    0.032602\n",
       "38    0.030734\n",
       "39    0.029797\n",
       "40    0.028750\n",
       "41    0.025897\n",
       "42    0.025542\n",
       "43    0.024699\n",
       "44    0.023821\n",
       "45    0.020928\n",
       "46    0.020871\n",
       "47    0.021850\n",
       "48    0.021725\n",
       "49    0.020164\n",
       "Name: loss, dtype: float64"
      ]
     },
     "execution_count": 74,
     "metadata": {},
     "output_type": "execute_result"
    }
   ],
   "source": [
    "data['loss']"
   ]
  },
  {
   "cell_type": "code",
   "execution_count": 75,
   "id": "7c5fe79d",
   "metadata": {
    "ExecuteTime": {
     "end_time": "2021-04-26T18:09:56.671415Z",
     "start_time": "2021-04-26T18:09:56.550429Z"
    }
   },
   "outputs": [
    {
     "data": {
      "image/png": "[encoded data removed]",
      "text/plain": [
       "<Figure size 432x288 with 1 Axes>"
      ]
     },
     "metadata": {
      "needs_background": "light"
     },
     "output_type": "display_data"
    }
   ],
   "source": [
    "plt.plot(data['epoch'], data['loss'])\n",
    "plt.xlabel('Epochs')\n",
    "plt.ylabel('Loss')\n",
    "plt.title('Loss Plot')\n",
    "plt.show()"
   ]
  },
  {
   "cell_type": "code",
   "execution_count": null,
   "id": "20c519e3",
   "metadata": {},
   "outputs": [],
   "source": []
  },
  {
   "cell_type": "code",
   "execution_count": null,
   "id": "3cbb2b53",
   "metadata": {},
   "outputs": [],
   "source": []
  }
 ],
 "metadata": {
  "kernelspec": {
   "display_name": "PyCharm (ML1_Final_Proj)",
   "language": "python",
   "name": "pycharm-16e37711"
  },
  "language_info": {
   "codemirror_mode": {
    "name": "ipython",
    "version": 3
   },
   "file_extension": ".py",
   "mimetype": "text/x-python",
   "name": "python",
   "nbconvert_exporter": "python",
   "pygments_lexer": "ipython3",
   "version": "3.8.0"
  },
  "toc": {
   "base_numbering": 1,
   "nav_menu": {},
   "number_sections": true,
   "sideBar": true,
   "skip_h1_title": false,
   "title_cell": "Table of Contents",
   "title_sidebar": "Contents",
   "toc_cell": false,
   "toc_position": {},
   "toc_section_display": true,
   "toc_window_display": false
  },
  "varInspector": {
   "cols": {
    "lenName": 16,
    "lenType": 16,
    "lenVar": 40
   },
   "kernels_config": {
    "python": {
     "delete_cmd_postfix": "",
     "delete_cmd_prefix": "del ",
     "library": "var_list.py",
     "varRefreshCmd": "print(var_dic_list())"
    },
    "r": {
     "delete_cmd_postfix": ") ",
     "delete_cmd_prefix": "rm(",
     "library": "var_list.r",
     "varRefreshCmd": "cat(var_dic_list()) "
    }
   },
   "types_to_exclude": [
    "module",
    "function",
    "builtin_function_or_method",
    "instance",
    "_Feature"
   ],
   "window_display": false
  }
 },
 "nbformat": 4,
 "nbformat_minor": 5
}
