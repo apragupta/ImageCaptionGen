{
 "cells": [
  {
   "cell_type": "code",
   "execution_count": 40,
   "id": "28ad2891",
   "metadata": {
    "ExecuteTime": {
     "end_time": "2021-04-26T03:51:14.186642Z",
     "start_time": "2021-04-26T03:51:14.171591Z"
    }
   },
   "outputs": [],
   "source": [
    "import pandas as pd\n",
    "import matplotlib.pyplot as plt"
   ]
  },
  {
   "cell_type": "code",
   "execution_count": 41,
   "id": "d1685652",
   "metadata": {
    "ExecuteTime": {
     "end_time": "2021-04-26T03:51:14.596143Z",
     "start_time": "2021-04-26T03:51:14.589142Z"
    }
   },
   "outputs": [],
   "source": [
    "data = pd.read_csv('results/30k_i_res_v3_neg/metrics')"
   ]
  },
  {
   "cell_type": "code",
   "execution_count": 42,
   "id": "df61749a",
   "metadata": {
    "ExecuteTime": {
     "end_time": "2021-04-26T03:51:15.116468Z",
     "start_time": "2021-04-26T03:51:15.108468Z"
    }
   },
   "outputs": [],
   "source": [
    "data['loss'] = data['loss'].apply(lambda x: float(x[10:18]))"
   ]
  },
  {
   "cell_type": "code",
   "execution_count": 43,
   "id": "379d4a69",
   "metadata": {
    "ExecuteTime": {
     "end_time": "2021-04-26T03:51:15.567880Z",
     "start_time": "2021-04-26T03:51:15.550880Z"
    }
   },
   "outputs": [
    {
     "data": {
      "text/plain": [
       "0     1.472613\n",
       "1     1.338839\n",
       "2     1.231477\n",
       "3     1.159096\n",
       "4     1.101997\n",
       "5     1.049975\n",
       "6     0.998548\n",
       "7     0.945053\n",
       "8     0.895363\n",
       "9     0.841177\n",
       "10    0.787617\n",
       "11    0.735154\n",
       "12    0.681683\n",
       "13    0.628664\n",
       "14    0.576295\n",
       "15    0.526572\n",
       "16    0.474125\n",
       "17    0.424741\n",
       "18    0.379471\n",
       "19    0.332628\n",
       "20    0.474317\n",
       "21    0.426596\n",
       "22    0.379951\n",
       "23    0.335296\n",
       "24    0.294105\n",
       "25    0.253761\n",
       "26    0.218949\n",
       "27    0.187146\n",
       "28    0.156923\n",
       "29    0.131862\n",
       "30    0.111113\n",
       "31    0.091730\n",
       "32    0.075860\n",
       "33    0.061409\n",
       "34    0.050828\n",
       "35    0.042333\n",
       "36    0.035685\n",
       "37    0.030779\n",
       "38    0.026919\n",
       "39    0.022943\n",
       "40    0.020878\n",
       "41    0.019330\n",
       "42    0.018334\n",
       "43    0.017275\n",
       "44    0.016840\n",
       "45    0.016913\n",
       "46    0.017101\n",
       "47    0.017968\n",
       "48    0.017553\n",
       "49    0.017012\n",
       "Name: loss, dtype: float64"
      ]
     },
     "execution_count": 43,
     "metadata": {},
     "output_type": "execute_result"
    }
   ],
   "source": [
    "data['loss']"
   ]
  },
  {
   "cell_type": "code",
   "execution_count": 44,
   "id": "7c5fe79d",
   "metadata": {
    "ExecuteTime": {
     "end_time": "2021-04-26T03:51:16.240463Z",
     "start_time": "2021-04-26T03:51:16.116466Z"
    }
   },
   "outputs": [
    {
     "data": {
      "image/png": "[encoded data removed]",
      "text/plain": [
       "<Figure size 432x288 with 1 Axes>"
      ]
     },
     "metadata": {
      "needs_background": "light"
     },
     "output_type": "display_data"
    }
   ],
   "source": [
    "plt.plot(data['epoch'], data['loss'])\n",
    "plt.xlabel('Epochs')\n",
    "plt.ylabel('Loss')\n",
    "plt.title('Loss Plot')\n",
    "plt.show()"
   ]
  },
  {
   "cell_type": "code",
   "execution_count": null,
   "id": "20c519e3",
   "metadata": {},
   "outputs": [],
   "source": []
  },
  {
   "cell_type": "code",
   "execution_count": null,
   "id": "ecfb48bd",
   "metadata": {},
   "outputs": [],
   "source": []
  }
 ],
 "metadata": {
  "kernelspec": {
   "display_name": "PyCharm (ML1_Final_Proj)",
   "language": "python",
   "name": "pycharm-16e37711"
  },
  "language_info": {
   "codemirror_mode": {
    "name": "ipython",
    "version": 3
   },
   "file_extension": ".py",
   "mimetype": "text/x-python",
   "name": "python",
   "nbconvert_exporter": "python",
   "pygments_lexer": "ipython3",
   "version": "3.8.0"
  },
  "toc": {
   "base_numbering": 1,
   "nav_menu": {},
   "number_sections": true,
   "sideBar": true,
   "skip_h1_title": false,
   "title_cell": "Table of Contents",
   "title_sidebar": "Contents",
   "toc_cell": false,
   "toc_position": {},
   "toc_section_display": true,
   "toc_window_display": false
  },
  "varInspector": {
   "cols": {
    "lenName": 16,
    "lenType": 16,
    "lenVar": 40
   },
   "kernels_config": {
    "python": {
     "delete_cmd_postfix": "",
     "delete_cmd_prefix": "del ",
     "library": "var_list.py",
     "varRefreshCmd": "print(var_dic_list())"
    },
    "r": {
     "delete_cmd_postfix": ") ",
     "delete_cmd_prefix": "rm(",
     "library": "var_list.r",
     "varRefreshCmd": "cat(var_dic_list()) "
    }
   },
   "types_to_exclude": [
    "module",
    "function",
    "builtin_function_or_method",
    "instance",
    "_Feature"
   ],
   "window_display": false
  }
 },
 "nbformat": 4,
 "nbformat_minor": 5
}
