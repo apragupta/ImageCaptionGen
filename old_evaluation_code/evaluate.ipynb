{
 "cells": [
  {
   "cell_type": "code",
   "execution_count": 39,
   "id": "9cd40d8c",
   "metadata": {
    "ExecuteTime": {
     "end_time": "2021-04-21T23:30:26.665868Z",
     "start_time": "2021-04-21T23:30:24.542807Z"
    }
   },
   "outputs": [],
   "source": [
    "from transformers import pipeline\n",
    "from sklearn.metrics import confusion_matrix\n",
    "\n",
    "hf_sent = pipeline('sentiment-analysis')\n",
    "\n",
    "\n",
    "import pandas as pd \n",
    "\n"
   ]
  },
  {
   "cell_type": "code",
   "execution_count": 40,
   "id": "e41bb0dd",
   "metadata": {
    "ExecuteTime": {
     "end_time": "2021-04-21T23:30:26.808867Z",
     "start_time": "2021-04-21T23:30:26.794870Z"
    },
    "run_control": {
     "marked": true
    }
   },
   "outputs": [],
   "source": [
    "def pred_sent_on_gen(gen_caption):\n",
    "    \"\"\"\n",
    "    predict the sentiment on a generated caption and return the label\n",
    "    \"\"\"\n",
    "    tok_pred = \" \".join(gen_caption[:-1])\n",
    "    return hf_sent(gen_caption)\n",
    "\n"
   ]
  },
  {
   "cell_type": "code",
   "execution_count": 54,
   "id": "6bc36fcc",
   "metadata": {
    "ExecuteTime": {
     "end_time": "2021-04-22T01:13:02.554040Z",
     "start_time": "2021-04-22T01:08:19.871270Z"
    }
   },
   "outputs": [
    {
     "name": "stdout",
     "output_type": "stream",
     "text": [
      "----POSITIVE SENTIMENT----\n",
      "----Train---\n",
      "Total:  100\n",
      "PREDICTED POSITIVE:  65\n",
      "PREDICTED NEGATIVE:  35\n",
      "----Test---\n",
      "Total:  5000\n",
      "PREDICTED POSITIVE:  3390\n",
      "PREDICTED NEGATIVE:  1610\n"
     ]
    }
   ],
   "source": [
    "t_s = pd.read_csv('positive_train_pred')\n",
    "\n",
    "train_sample = t_s\n",
    "\n",
    "train_sample['hf_sent_gen'] = train_sample['pred_captions'].apply(lambda x: pred_sent_on_gen(x))\n",
    "train_sample['hf_sent_gen_class'] = train_sample['hf_sent_gen'].apply(lambda x: x[0]['label'])\n",
    "train_sample['hf_sent_gen_conf'] = train_sample['hf_sent_gen'].apply(lambda x: x[0]['score'])\n",
    "\n",
    "tn, fp, fn, tp = confusion_matrix(train_sample['hf_sent_class'], train_sample['hf_sent_gen_class']).ravel()\n",
    "print(\"----POSITIVE SENTIMENT----\")\n",
    "print(\"----Train---\")\n",
    "print(\"Total: \", tp+tn+fp+fn)\n",
    "print(\"PREDICTED POSITIVE: \", tp+ fp)\n",
    "print(\"PREDICTED NEGATIVE: \", tn+ fn)\n",
    "t_s = pd.read_csv('positive_test_pred')\n",
    "\n",
    "test_sample = t_s\n",
    "\n",
    "test_sample['hf_sent_gen'] = test_sample['pred_captions'].apply(lambda x: pred_sent_on_gen(x))\n",
    "test_sample['hf_sent_gen_class'] = test_sample['hf_sent_gen'].apply(lambda x: x[0]['label'])\n",
    "test_sample['hf_sent_gen_conf'] = test_sample['hf_sent_gen'].apply(lambda x: x[0]['score'])\n",
    "\n",
    "tn, fp, fn, tp = confusion_matrix(test_sample['hf_sent_class'], test_sample['hf_sent_gen_class']).ravel()\n",
    "\n",
    "print(\"----Test---\")\n",
    "print(\"Total: \", tp+tn+fp+fn)\n",
    "print(\"PREDICTED POSITIVE: \", tp+ fp)\n",
    "print(\"PREDICTED NEGATIVE: \", tn+ fn)"
   ]
  },
  {
   "cell_type": "code",
   "execution_count": 55,
   "id": "777ce508",
   "metadata": {
    "ExecuteTime": {
     "end_time": "2021-04-22T01:13:02.742039Z",
     "start_time": "2021-04-22T01:13:02.728040Z"
    }
   },
   "outputs": [
    {
     "data": {
      "text/plain": [
       "POSITIVE    3390\n",
       "NEGATIVE    1610\n",
       "Name: hf_sent_gen_class, dtype: int64"
      ]
     },
     "execution_count": 55,
     "metadata": {},
     "output_type": "execute_result"
    }
   ],
   "source": [
    "test_sample['hf_sent_gen_class'].value_counts()\n",
    "\n"
   ]
  },
  {
   "cell_type": "code",
   "execution_count": 56,
   "id": "6e2a875a",
   "metadata": {
    "ExecuteTime": {
     "end_time": "2021-04-22T01:13:02.900038Z",
     "start_time": "2021-04-22T01:13:02.887045Z"
    }
   },
   "outputs": [
    {
     "data": {
      "text/plain": [
       "POSITIVE    3438\n",
       "NEGATIVE    1562\n",
       "Name: hf_sent_class, dtype: int64"
      ]
     },
     "execution_count": 56,
     "metadata": {},
     "output_type": "execute_result"
    }
   ],
   "source": [
    "test_sample['hf_sent_class'].value_counts()\n"
   ]
  },
  {
   "cell_type": "code",
   "execution_count": 57,
   "id": "c13f6d21",
   "metadata": {
    "ExecuteTime": {
     "end_time": "2021-04-22T01:13:03.153060Z",
     "start_time": "2021-04-22T01:13:03.044061Z"
    }
   },
   "outputs": [
    {
     "data": {
      "text/plain": [
       "<AxesSubplot:>"
      ]
     },
     "execution_count": 57,
     "metadata": {},
     "output_type": "execute_result"
    },
    {
     "data": {
      "image/png": "[encoded data removed]",
      "text/plain": [
       "<Figure size 432x288 with 1 Axes>"
      ]
     },
     "metadata": {
      "needs_background": "light"
     },
     "output_type": "display_data"
    }
   ],
   "source": [
    "test_sample['hf_sent_gen_class'].value_counts().plot(kind='bar')\n",
    "\n"
   ]
  },
  {
   "cell_type": "code",
   "execution_count": 58,
   "id": "ef158ae6",
   "metadata": {
    "ExecuteTime": {
     "end_time": "2021-04-22T01:13:03.389062Z",
     "start_time": "2021-04-22T01:13:03.282065Z"
    }
   },
   "outputs": [
    {
     "data": {
      "text/plain": [
       "<AxesSubplot:>"
      ]
     },
     "execution_count": 58,
     "metadata": {},
     "output_type": "execute_result"
    },
    {
     "data": {
      "image/png": "[encoded data removed]",
      "text/plain": [
       "<Figure size 432x288 with 1 Axes>"
      ]
     },
     "metadata": {
      "needs_background": "light"
     },
     "output_type": "display_data"
    }
   ],
   "source": [
    "test_sample['hf_sent_class'].value_counts().plot(kind='bar')"
   ]
  },
  {
   "cell_type": "code",
   "execution_count": 50,
   "id": "52b77035",
   "metadata": {
    "ExecuteTime": {
     "end_time": "2021-04-21T23:50:02.206782Z",
     "start_time": "2021-04-21T23:44:54.598816Z"
    }
   },
   "outputs": [
    {
     "name": "stdout",
     "output_type": "stream",
     "text": [
      "----NEGATIVE SENTIMENT----\n",
      "----Train---\n",
      "Total:  100\n",
      "PREDICTED POSITIVE:  10\n",
      "PREDICTED NEGATIVE:  90\n",
      "----Test---\n",
      "Total:  5000\n",
      "PREDICTED POSITIVE:  758\n",
      "PREDICTED NEGATIVE:  4242\n"
     ]
    }
   ],
   "source": [
    "t_s = pd.read_csv('negative_train_pred')\n",
    "\n",
    "train_sample = t_s\n",
    "\n",
    "train_sample['hf_sent_gen'] = train_sample['pred_captions'].apply(lambda x: pred_sent_on_gen(x))\n",
    "train_sample['hf_sent_gen_class'] = train_sample['hf_sent_gen'].apply(lambda x: x[0]['label'])\n",
    "train_sample['hf_sent_gen_conf'] = train_sample['hf_sent_gen'].apply(lambda x: x[0]['score'])\n",
    "\n",
    "tn, fp, fn, tp = confusion_matrix(train_sample['hf_sent_class'], train_sample['hf_sent_gen_class']).ravel()\n",
    "print(\"----NEGATIVE SENTIMENT----\")\n",
    "print(\"----Train---\")\n",
    "print(\"Total: \", tp+tn+fp+fn)\n",
    "print(\"PREDICTED POSITIVE: \", tp+ fp)\n",
    "print(\"PREDICTED NEGATIVE: \", tn+ fn)\n",
    "t_s = pd.read_csv('negative_test_pred')\n",
    "\n",
    "test_sample = t_s\n",
    "\n",
    "test_sample['hf_sent_gen'] = test_sample['pred_captions'].apply(lambda x: pred_sent_on_gen(x))\n",
    "test_sample['hf_sent_gen_class'] = test_sample['hf_sent_gen'].apply(lambda x: x[0]['label'])\n",
    "test_sample['hf_sent_gen_conf'] = test_sample['hf_sent_gen'].apply(lambda x: x[0]['score'])\n",
    "\n",
    "tn, fp, fn, tp = confusion_matrix(test_sample['hf_sent_class'], test_sample['hf_sent_gen_class']).ravel()\n",
    "\n",
    "print(\"----Test---\")\n",
    "print(\"Total: \", tp+tn+fp+fn)\n",
    "print(\"PREDICTED POSITIVE: \", tp+ fp)\n",
    "print(\"PREDICTED NEGATIVE: \", tn+ fn)"
   ]
  },
  {
   "cell_type": "code",
   "execution_count": 51,
   "id": "c4e7d276",
   "metadata": {
    "ExecuteTime": {
     "end_time": "2021-04-21T23:50:02.426782Z",
     "start_time": "2021-04-21T23:50:02.412781Z"
    }
   },
   "outputs": [
    {
     "data": {
      "text/plain": [
       "NEGATIVE    4242\n",
       "POSITIVE     758\n",
       "Name: hf_sent_gen_class, dtype: int64"
      ]
     },
     "execution_count": 51,
     "metadata": {},
     "output_type": "execute_result"
    }
   ],
   "source": [
    "test_sample['hf_sent_gen_class'].value_counts()"
   ]
  },
  {
   "cell_type": "code",
   "execution_count": 52,
   "id": "10d36959",
   "metadata": {
    "ExecuteTime": {
     "end_time": "2021-04-21T23:50:02.713782Z",
     "start_time": "2021-04-21T23:50:02.587780Z"
    }
   },
   "outputs": [
    {
     "data": {
      "text/plain": [
       "<AxesSubplot:>"
      ]
     },
     "execution_count": 52,
     "metadata": {},
     "output_type": "execute_result"
    },
    {
     "data": {
      "image/png": "[encoded data removed]",
      "text/plain": [
       "<Figure size 432x288 with 1 Axes>"
      ]
     },
     "metadata": {
      "needs_background": "light"
     },
     "output_type": "display_data"
    }
   ],
   "source": [
    "test_sample['hf_sent_gen_class'].value_counts().plot(kind='bar')"
   ]
  },
  {
   "cell_type": "code",
   "execution_count": 53,
   "id": "98be435d",
   "metadata": {
    "ExecuteTime": {
     "end_time": "2021-04-21T23:50:02.982781Z",
     "start_time": "2021-04-21T23:50:02.873783Z"
    }
   },
   "outputs": [
    {
     "data": {
      "text/plain": [
       "<AxesSubplot:>"
      ]
     },
     "execution_count": 53,
     "metadata": {},
     "output_type": "execute_result"
    },
    {
     "data": {
      "image/png": "[encoded data removed]",
      "text/plain": [
       "<Figure size 432x288 with 1 Axes>"
      ]
     },
     "metadata": {
      "needs_background": "light"
     },
     "output_type": "display_data"
    }
   ],
   "source": [
    "test_sample['hf_sent_class'].value_counts().plot(kind='bar')"
   ]
  },
  {
   "cell_type": "code",
   "execution_count": null,
   "id": "273fd6ee",
   "metadata": {},
   "outputs": [],
   "source": []
  }
 ],
 "metadata": {
  "kernelspec": {
   "display_name": "Python 3",
   "language": "python",
   "name": "python3"
  },
  "language_info": {
   "codemirror_mode": {
    "name": "ipython",
    "version": 3
   },
   "file_extension": ".py",
   "mimetype": "text/x-python",
   "name": "python",
   "nbconvert_exporter": "python",
   "pygments_lexer": "ipython3",
   "version": "3.8.0"
  },
  "toc": {
   "base_numbering": 1,
   "nav_menu": {},
   "number_sections": true,
   "sideBar": true,
   "skip_h1_title": false,
   "title_cell": "Table of Contents",
   "title_sidebar": "Contents",
   "toc_cell": false,
   "toc_position": {},
   "toc_section_display": true,
   "toc_window_display": false
  },
  "varInspector": {
   "cols": {
    "lenName": 16,
    "lenType": 16,
    "lenVar": 40
   },
   "kernels_config": {
    "python": {
     "delete_cmd_postfix": "",
     "delete_cmd_prefix": "del ",
     "library": "var_list.py",
     "varRefreshCmd": "print(var_dic_list())"
    },
    "r": {
     "delete_cmd_postfix": ") ",
     "delete_cmd_prefix": "rm(",
     "library": "var_list.r",
     "varRefreshCmd": "cat(var_dic_list()) "
    }
   },
   "types_to_exclude": [
    "module",
    "function",
    "builtin_function_or_method",
    "instance",
    "_Feature"
   ],
   "window_display": false
  }
 },
 "nbformat": 4,
 "nbformat_minor": 5
}
