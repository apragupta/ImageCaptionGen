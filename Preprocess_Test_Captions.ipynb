{
 "cells": [
  {
   "cell_type": "markdown",
   "id": "ac997909",
   "metadata": {
    "ExecuteTime": {
     "end_time": "2021-04-25T18:59:35.529464Z",
     "start_time": "2021-04-25T18:59:35.525465Z"
    }
   },
   "source": [
    "# Pipeline for preprocessing image captions : Test set\n",
    "\n",
    "Uses some code from [this TF Tutorial](https://www.tensorflow.org/tutorials/text/image_captioning) for tokenizing captions"
   ]
  },
  {
   "cell_type": "markdown",
   "id": "51b64384",
   "metadata": {},
   "source": []
  },
  {
   "cell_type": "code",
   "execution_count": 45,
   "id": "e3a4b097",
   "metadata": {
    "ExecuteTime": {
     "end_time": "2021-04-26T09:30:31.472476Z",
     "start_time": "2021-04-26T09:30:31.464477Z"
    }
   },
   "outputs": [
    {
     "name": "stdout",
     "output_type": "stream",
     "text": [
      "2.4.1\n"
     ]
    }
   ],
   "source": [
    "import pandas as pd \n",
    "import numpy as np\n",
    "import tensorflow as tf\n",
    "import os\n",
    "from tqdm import tqdm\n",
    "import time\n",
    "#initialization code required to make tensorflow work on my systemabs\n",
    "config = tf.compat.v1.ConfigProto()\n",
    "config.gpu_options.allow_growth = True\n",
    "session = tf.compat.v1.Session(config=config)\n",
    "print(tf.__version__)\n",
    "import pickle"
   ]
  },
  {
   "cell_type": "code",
   "execution_count": 46,
   "id": "e0d164fb",
   "metadata": {
    "ExecuteTime": {
     "end_time": "2021-04-26T09:30:31.869479Z",
     "start_time": "2021-04-26T09:30:31.863481Z"
    }
   },
   "outputs": [],
   "source": [
    "test_data_dir = r'data/initial_sample/'\n",
    "train_data_dir = r'data/30k_sample/'"
   ]
  },
  {
   "cell_type": "code",
   "execution_count": 47,
   "id": "b22ac4ae",
   "metadata": {
    "ExecuteTime": {
     "end_time": "2021-04-26T09:30:32.202480Z",
     "start_time": "2021-04-26T09:30:32.184479Z"
    },
    "run_control": {
     "marked": true
    }
   },
   "outputs": [],
   "source": [
    "#map to the dataframe with captions and path to the images and their embeddings\n",
    "path_to_train_meta = os.path.join(test_data_dir, r'sent_added')"
   ]
  },
  {
   "cell_type": "code",
   "execution_count": 48,
   "id": "0bf13753",
   "metadata": {
    "ExecuteTime": {
     "end_time": "2021-04-26T09:30:32.598476Z",
     "start_time": "2021-04-26T09:30:32.448480Z"
    }
   },
   "outputs": [],
   "source": [
    "data_df = pd.read_csv(path_to_train_meta)"
   ]
  },
  {
   "cell_type": "code",
   "execution_count": 49,
   "id": "05f2e7bd",
   "metadata": {
    "ExecuteTime": {
     "end_time": "2021-04-26T09:30:32.755476Z",
     "start_time": "2021-04-26T09:30:32.741480Z"
    }
   },
   "outputs": [],
   "source": [
    "#preprocess captions tpo include start and end tokens\n",
    "data_df['captions_processed'] = data_df['caption'].apply(lambda x: '<start> ' + x + ' <end>')"
   ]
  },
  {
   "cell_type": "code",
   "execution_count": 50,
   "id": "frozen-pickup",
   "metadata": {
    "ExecuteTime": {
     "end_time": "2021-04-26T09:30:33.277476Z",
     "start_time": "2021-04-26T09:30:33.265477Z"
    }
   },
   "outputs": [],
   "source": [
    "#path to tokenizer for this test set \n",
    "tokenizer_file = r'tokenizer_neg.pickle'\n",
    "tokenizer_path = os.path.join(train_data_dir, tokenizer_file)"
   ]
  },
  {
   "cell_type": "code",
   "execution_count": 51,
   "id": "familiar-shaft",
   "metadata": {
    "ExecuteTime": {
     "end_time": "2021-04-26T09:30:33.769476Z",
     "start_time": "2021-04-26T09:30:33.751478Z"
    }
   },
   "outputs": [],
   "source": [
    "# loading\n",
    "with open(tokenizer_path, 'rb') as handle:\n",
    "    tokenizer = pickle.load(handle)"
   ]
  },
  {
   "cell_type": "code",
   "execution_count": 52,
   "id": "33fdbf7d",
   "metadata": {
    "ExecuteTime": {
     "end_time": "2021-04-26T09:30:34.369476Z",
     "start_time": "2021-04-26T09:30:34.223479Z"
    }
   },
   "outputs": [
    {
     "data": {
      "text/plain": [
       "0                              [2, 1671, 8, 4, 51, 15, 3]\n",
       "1       [2, 719, 7762, 9, 39, 32, 6000, 52, 5, 219, 76...\n",
       "2       [2, 519, 237, 6, 86, 26, 1008, 5, 54, 18, 4, 3...\n",
       "3                       [2, 4, 1930, 250, 74, 22, 780, 3]\n",
       "4       [2, 5, 1, 1, 693, 9, 19, 110, 29, 59, 427, 310...\n",
       "                              ...                        \n",
       "9291                          [2, 1, 303, 11, 5, 5796, 3]\n",
       "9292           [2, 1871, 10, 3441, 160, 62, 2434, 198, 3]\n",
       "9293    [2, 1025, 59, 209, 165, 88, 9, 2145, 7, 542, 1...\n",
       "9294              [2, 210, 6, 4, 912, 796, 7, 5, 1392, 3]\n",
       "9295      [2, 4436, 10, 39, 545, 6, 1, 2908, 10, 1342, 3]\n",
       "Name: captions_tokenized, Length: 9296, dtype: object"
      ]
     },
     "execution_count": 52,
     "metadata": {},
     "output_type": "execute_result"
    }
   ],
   "source": [
    "data_df['captions_tokenized'] = tokenizer.texts_to_sequences(data_df['captions_processed'])\n",
    "data_df['captions_tokenized'] "
   ]
  },
  {
   "cell_type": "code",
   "execution_count": 53,
   "id": "9f045cf4",
   "metadata": {
    "ExecuteTime": {
     "end_time": "2021-04-26T09:30:34.559477Z",
     "start_time": "2021-04-26T09:30:34.545477Z"
    }
   },
   "outputs": [
    {
     "name": "stdout",
     "output_type": "stream",
     "text": [
      "0        7\n",
      "1       20\n",
      "2       13\n",
      "3        8\n",
      "4       26\n",
      "        ..\n",
      "9291     7\n",
      "9292     9\n",
      "9293    12\n",
      "9294    10\n",
      "9295    11\n",
      "Name: captions_tokenized, Length: 9296, dtype: int64\n"
     ]
    }
   ],
   "source": [
    "#sannity check number of words should be same as number of tokens (with an one token removed for .)\n",
    "print(data_df['captions_tokenized'].apply(lambda x: len(x)))"
   ]
  },
  {
   "cell_type": "code",
   "execution_count": 54,
   "id": "7abe61b4",
   "metadata": {
    "ExecuteTime": {
     "end_time": "2021-04-26T09:30:35.335477Z",
     "start_time": "2021-04-26T09:30:35.312478Z"
    }
   },
   "outputs": [
    {
     "data": {
      "text/plain": [
       "0        7\n",
       "1       22\n",
       "2       15\n",
       "3        9\n",
       "4       30\n",
       "        ..\n",
       "9291     8\n",
       "9292     9\n",
       "9293    13\n",
       "9294    11\n",
       "9295    11\n",
       "Name: captions_processed, Length: 9296, dtype: int64"
      ]
     },
     "execution_count": 54,
     "metadata": {},
     "output_type": "execute_result"
    }
   ],
   "source": [
    "max_len = data_df['captions_tokenized'].apply(lambda x: len(x))\n",
    "data_df['captions_processed'].apply(lambda x: len(x.split()))"
   ]
  },
  {
   "cell_type": "code",
   "execution_count": 55,
   "id": "9430ef7c",
   "metadata": {
    "ExecuteTime": {
     "end_time": "2021-04-26T09:30:35.539481Z",
     "start_time": "2021-04-26T09:30:35.535477Z"
    }
   },
   "outputs": [],
   "source": [
    "#We will now pad the sequences \n",
    "list_of_tokenized_captions = data_df['captions_tokenized'].tolist()"
   ]
  },
  {
   "cell_type": "code",
   "execution_count": 56,
   "id": "23a03fdd",
   "metadata": {
    "ExecuteTime": {
     "end_time": "2021-04-26T09:30:36.517476Z",
     "start_time": "2021-04-26T09:30:36.464478Z"
    }
   },
   "outputs": [],
   "source": [
    "padded_tok_captions = tf.keras.preprocessing.sequence.pad_sequences(list_of_tokenized_captions, padding='post')\n",
    "padded_tok_captions = padded_tok_captions.tolist()\n"
   ]
  },
  {
   "cell_type": "code",
   "execution_count": 57,
   "id": "a3216884",
   "metadata": {
    "ExecuteTime": {
     "end_time": "2021-04-26T09:30:37.106477Z",
     "start_time": "2021-04-26T09:30:37.095479Z"
    },
    "run_control": {
     "marked": true
    }
   },
   "outputs": [
    {
     "data": {
      "text/plain": [
       "41"
      ]
     },
     "execution_count": 57,
     "metadata": {},
     "output_type": "execute_result"
    }
   ],
   "source": [
    "max_len = len(padded_tok_captions[0])\n",
    "max_len"
   ]
  },
  {
   "cell_type": "code",
   "execution_count": 58,
   "id": "e94dfd96",
   "metadata": {
    "ExecuteTime": {
     "end_time": "2021-04-26T09:30:37.578487Z",
     "start_time": "2021-04-26T09:30:37.560478Z"
    }
   },
   "outputs": [
    {
     "data": {
      "text/plain": [
       "0       [2, 1671, 8, 4, 51, 15, 3, 0, 0, 0, 0, 0, 0, 0...\n",
       "1       [2, 719, 7762, 9, 39, 32, 6000, 52, 5, 219, 76...\n",
       "2       [2, 519, 237, 6, 86, 26, 1008, 5, 54, 18, 4, 3...\n",
       "3       [2, 4, 1930, 250, 74, 22, 780, 3, 0, 0, 0, 0, ...\n",
       "4       [2, 5, 1, 1, 693, 9, 19, 110, 29, 59, 427, 310...\n",
       "                              ...                        \n",
       "9291    [2, 1, 303, 11, 5, 5796, 3, 0, 0, 0, 0, 0, 0, ...\n",
       "9292    [2, 1871, 10, 3441, 160, 62, 2434, 198, 3, 0, ...\n",
       "9293    [2, 1025, 59, 209, 165, 88, 9, 2145, 7, 542, 1...\n",
       "9294    [2, 210, 6, 4, 912, 796, 7, 5, 1392, 3, 0, 0, ...\n",
       "9295    [2, 4436, 10, 39, 545, 6, 1, 2908, 10, 1342, 3...\n",
       "Name: captions_tokenized_padded, Length: 9296, dtype: object"
      ]
     },
     "execution_count": 58,
     "metadata": {},
     "output_type": "execute_result"
    }
   ],
   "source": [
    "data_df['captions_tokenized_padded'] = pd.Series(padded_tok_captions)\n",
    "data_df['captions_tokenized_padded']"
   ]
  },
  {
   "cell_type": "code",
   "execution_count": 59,
   "id": "f5e71c9a",
   "metadata": {
    "ExecuteTime": {
     "end_time": "2021-04-26T09:30:38.294476Z",
     "start_time": "2021-04-26T09:30:38.279478Z"
    }
   },
   "outputs": [
    {
     "data": {
      "text/plain": [
       "8001"
      ]
     },
     "execution_count": 59,
     "metadata": {},
     "output_type": "execute_result"
    }
   ],
   "source": [
    "vocab_len = len(tokenizer.word_index)\n",
    "vocab_len"
   ]
  },
  {
   "cell_type": "code",
   "execution_count": 60,
   "id": "9d2f7702",
   "metadata": {
    "ExecuteTime": {
     "end_time": "2021-04-26T09:30:38.843477Z",
     "start_time": "2021-04-26T09:30:38.832479Z"
    }
   },
   "outputs": [
    {
     "name": "stdout",
     "output_type": "stream",
     "text": [
      "0\n",
      "1\n",
      "2\n",
      "3\n"
     ]
    }
   ],
   "source": [
    "#make sure we have unk tokens etc-\n",
    "print(tokenizer.word_index['<pad>'])\n",
    "print(tokenizer.word_index['<unk>'])\n",
    "print(tokenizer.word_index['<start>'])\n",
    "print(tokenizer.word_index['<end>'])"
   ]
  },
  {
   "cell_type": "code",
   "execution_count": 61,
   "id": "a51bbf02",
   "metadata": {
    "ExecuteTime": {
     "end_time": "2021-04-26T09:30:40.702476Z",
     "start_time": "2021-04-26T09:30:40.375478Z"
    }
   },
   "outputs": [],
   "source": [
    "#save preprocessed captions\n",
    "data_df.to_csv(os.path.join(test_data_dir, \"tokenized_sent_added_neg\"),index=False)"
   ]
  },
  {
   "cell_type": "code",
   "execution_count": null,
   "id": "51ec3bbe",
   "metadata": {},
   "outputs": [],
   "source": []
  },
  {
   "cell_type": "code",
   "execution_count": null,
   "id": "54043e5d",
   "metadata": {},
   "outputs": [],
   "source": []
  },
  {
   "cell_type": "code",
   "execution_count": null,
   "id": "846a9aa0",
   "metadata": {},
   "outputs": [],
   "source": []
  },
  {
   "cell_type": "code",
   "execution_count": null,
   "id": "f40cf2d0",
   "metadata": {},
   "outputs": [],
   "source": []
  },
  {
   "cell_type": "code",
   "execution_count": null,
   "id": "80a71e5b",
   "metadata": {},
   "outputs": [],
   "source": []
  },
  {
   "cell_type": "code",
   "execution_count": null,
   "id": "47359db2",
   "metadata": {},
   "outputs": [],
   "source": []
  },
  {
   "cell_type": "code",
   "execution_count": null,
   "id": "0caa0a5f",
   "metadata": {},
   "outputs": [],
   "source": []
  },
  {
   "cell_type": "code",
   "execution_count": null,
   "id": "fa32e5b3",
   "metadata": {},
   "outputs": [],
   "source": []
  },
  {
   "cell_type": "code",
   "execution_count": null,
   "id": "2442a838",
   "metadata": {},
   "outputs": [],
   "source": []
  },
  {
   "cell_type": "code",
   "execution_count": null,
   "id": "4600df50",
   "metadata": {},
   "outputs": [],
   "source": []
  },
  {
   "cell_type": "code",
   "execution_count": null,
   "id": "ae5dc1ea",
   "metadata": {},
   "outputs": [],
   "source": []
  },
  {
   "cell_type": "code",
   "execution_count": null,
   "id": "e42ad660",
   "metadata": {},
   "outputs": [],
   "source": []
  },
  {
   "cell_type": "code",
   "execution_count": null,
   "id": "7d384839",
   "metadata": {},
   "outputs": [],
   "source": []
  },
  {
   "cell_type": "code",
   "execution_count": null,
   "id": "71716a8b",
   "metadata": {},
   "outputs": [],
   "source": []
  }
 ],
 "metadata": {
  "kernelspec": {
   "display_name": "PyCharm (ML1_Final_Proj)",
   "language": "python",
   "name": "pycharm-16e37711"
  },
  "language_info": {
   "codemirror_mode": {
    "name": "ipython",
    "version": 3
   },
   "file_extension": ".py",
   "mimetype": "text/x-python",
   "name": "python",
   "nbconvert_exporter": "python",
   "pygments_lexer": "ipython3",
   "version": "3.8.0"
  },
  "toc": {
   "base_numbering": 1,
   "nav_menu": {},
   "number_sections": true,
   "sideBar": true,
   "skip_h1_title": true,
   "title_cell": "Table of Contents",
   "title_sidebar": "Contents",
   "toc_cell": false,
   "toc_position": {
    "height": "calc(100% - 180px)",
    "left": "10px",
    "top": "150px",
    "width": "165px"
   },
   "toc_section_display": true,
   "toc_window_display": true
  },
  "varInspector": {
   "cols": {
    "lenName": 16,
    "lenType": 16,
    "lenVar": 40
   },
   "kernels_config": {
    "python": {
     "delete_cmd_postfix": "",
     "delete_cmd_prefix": "del ",
     "library": "var_list.py",
     "varRefreshCmd": "print(var_dic_list())"
    },
    "r": {
     "delete_cmd_postfix": ") ",
     "delete_cmd_prefix": "rm(",
     "library": "var_list.r",
     "varRefreshCmd": "cat(var_dic_list()) "
    }
   },
   "types_to_exclude": [
    "module",
    "function",
    "builtin_function_or_method",
    "instance",
    "_Feature"
   ],
   "window_display": false
  }
 },
 "nbformat": 4,
 "nbformat_minor": 5
}
