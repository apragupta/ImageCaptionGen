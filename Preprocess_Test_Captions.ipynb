{
 "cells": [
  {
   "cell_type": "markdown",
   "id": "ac997909",
   "metadata": {
    "ExecuteTime": {
     "end_time": "2021-04-25T18:59:35.529464Z",
     "start_time": "2021-04-25T18:59:35.525465Z"
    }
   },
   "source": [
    "# Pipeline for preprocessing image captions : Test set\n",
    "\n",
    "Uses some code from [this TF Tutorial](https://www.tensorflow.org/tutorials/text/image_captioning) for tokenizing captions"
   ]
  },
  {
   "cell_type": "markdown",
   "id": "51b64384",
   "metadata": {},
   "source": []
  },
  {
   "cell_type": "code",
   "execution_count": 54,
   "id": "e3a4b097",
   "metadata": {
    "ExecuteTime": {
     "end_time": "2021-04-26T08:06:42.482819Z",
     "start_time": "2021-04-26T08:06:42.474573Z"
    }
   },
   "outputs": [
    {
     "name": "stdout",
     "output_type": "stream",
     "text": [
      "2.4.1\n"
     ]
    }
   ],
   "source": [
    "import pandas as pd \n",
    "import numpy as np\n",
    "import tensorflow as tf\n",
    "import os\n",
    "from tqdm import tqdm\n",
    "import time\n",
    "#initialization code required to make tensorflow work on my systemabs\n",
    "config = tf.compat.v1.ConfigProto()\n",
    "config.gpu_options.allow_growth = True\n",
    "session = tf.compat.v1.Session(config=config)\n",
    "print(tf.__version__)\n",
    "import pickle"
   ]
  },
  {
   "cell_type": "code",
   "execution_count": 55,
   "id": "e0d164fb",
   "metadata": {
    "ExecuteTime": {
     "end_time": "2021-04-26T08:06:42.612852Z",
     "start_time": "2021-04-26T08:06:42.610855Z"
    }
   },
   "outputs": [],
   "source": [
    "test_data_dir = r'data/initial_sample/'\n",
    "train_data_dir = r'data/30k_sample/'"
   ]
  },
  {
   "cell_type": "code",
   "execution_count": 56,
   "id": "b22ac4ae",
   "metadata": {
    "ExecuteTime": {
     "end_time": "2021-04-26T08:06:42.926005Z",
     "start_time": "2021-04-26T08:06:42.921997Z"
    }
   },
   "outputs": [],
   "source": [
    "#map to the dataframe with captions and path to the images and their embeddings\n",
    "path_to_train_meta = os.path.join(test_data_dir, r'sent_added')"
   ]
  },
  {
   "cell_type": "code",
   "execution_count": 57,
   "id": "0bf13753",
   "metadata": {
    "ExecuteTime": {
     "end_time": "2021-04-26T08:06:43.318530Z",
     "start_time": "2021-04-26T08:06:43.211495Z"
    }
   },
   "outputs": [],
   "source": [
    "data_df = pd.read_csv(path_to_train_meta)"
   ]
  },
  {
   "cell_type": "code",
   "execution_count": 58,
   "id": "05f2e7bd",
   "metadata": {
    "ExecuteTime": {
     "end_time": "2021-04-26T08:06:43.420534Z",
     "start_time": "2021-04-26T08:06:43.413539Z"
    }
   },
   "outputs": [],
   "source": [
    "#preprocess captions tpo include start and end tokens\n",
    "data_df['captions_processed'] = data_df['caption'].apply(lambda x: '<start> ' + x + ' <end>')"
   ]
  },
  {
   "cell_type": "code",
   "execution_count": 59,
   "id": "frozen-pickup",
   "metadata": {
    "ExecuteTime": {
     "end_time": "2021-04-26T08:06:43.613889Z",
     "start_time": "2021-04-26T08:06:43.609880Z"
    }
   },
   "outputs": [],
   "source": [
    "#path to tokenizer for this test set \n",
    "tokenizer_file = r'tokenizer_old_pos.pickle'\n",
    "tokenizer_path = os.path.join(train_data_dir, tokenizer_file)"
   ]
  },
  {
   "cell_type": "code",
   "execution_count": 60,
   "id": "familiar-shaft",
   "metadata": {
    "ExecuteTime": {
     "end_time": "2021-04-26T08:06:43.819794Z",
     "start_time": "2021-04-26T08:06:43.810780Z"
    }
   },
   "outputs": [],
   "source": [
    "# loading\n",
    "with open(tokenizer_path, 'rb') as handle:\n",
    "    tokenizer = pickle.load(handle)"
   ]
  },
  {
   "cell_type": "code",
   "execution_count": 61,
   "id": "33fdbf7d",
   "metadata": {
    "ExecuteTime": {
     "end_time": "2021-04-26T08:06:44.133586Z",
     "start_time": "2021-04-26T08:06:44.043029Z"
    }
   },
   "outputs": [
    {
     "data": {
      "text/plain": [
       "0                              [2, 1288, 9, 5, 73, 20, 3]\n",
       "1       [2, 289, 111, 10, 37, 31, 747, 61, 4, 212, 146...\n",
       "2       [2, 270, 328, 6, 242, 27, 1374, 4, 97, 12, 5, ...\n",
       "3                        [2, 5, 411, 210, 46, 23, 306, 3]\n",
       "4       [2, 4, 3893, 1, 1092, 10, 24, 16, 34, 127, 346...\n",
       "                              ...                        \n",
       "9298                       [2, 5323, 338, 14, 4, 1752, 3]\n",
       "9299           [2, 7321, 8, 6757, 214, 103, 3821, 227, 3]\n",
       "9300    [2, 112, 127, 320, 117, 85, 10, 1334, 7, 202, ...\n",
       "9301               [2, 36, 6, 5, 1493, 559, 7, 4, 369, 3]\n",
       "9302       [2, 10322, 8, 37, 298, 6, 1, 5630, 8, 2882, 3]\n",
       "Name: captions_tokenized, Length: 9303, dtype: object"
      ]
     },
     "execution_count": 61,
     "metadata": {},
     "output_type": "execute_result"
    }
   ],
   "source": [
    "data_df['captions_tokenized'] = tokenizer.texts_to_sequences(data_df['captions_processed'])\n",
    "data_df['captions_tokenized'] "
   ]
  },
  {
   "cell_type": "code",
   "execution_count": 62,
   "id": "9f045cf4",
   "metadata": {
    "ExecuteTime": {
     "end_time": "2021-04-26T08:06:44.385891Z",
     "start_time": "2021-04-26T08:06:44.378882Z"
    }
   },
   "outputs": [
    {
     "name": "stdout",
     "output_type": "stream",
     "text": [
      "0        7\n",
      "1       20\n",
      "2       13\n",
      "3        8\n",
      "4       26\n",
      "        ..\n",
      "9298     7\n",
      "9299     9\n",
      "9300    12\n",
      "9301    10\n",
      "9302    11\n",
      "Name: captions_tokenized, Length: 9303, dtype: int64\n"
     ]
    }
   ],
   "source": [
    "#sannity check number of words should be same as number of tokens (with an one token removed for .)\n",
    "print(data_df['captions_tokenized'].apply(lambda x: len(x)))"
   ]
  },
  {
   "cell_type": "code",
   "execution_count": 63,
   "id": "7abe61b4",
   "metadata": {
    "ExecuteTime": {
     "end_time": "2021-04-26T08:06:44.954331Z",
     "start_time": "2021-04-26T08:06:44.938320Z"
    }
   },
   "outputs": [
    {
     "data": {
      "text/plain": [
       "0        7\n",
       "1       22\n",
       "2       15\n",
       "3        9\n",
       "4       30\n",
       "        ..\n",
       "9298     8\n",
       "9299     9\n",
       "9300    13\n",
       "9301    11\n",
       "9302    11\n",
       "Name: captions_processed, Length: 9303, dtype: int64"
      ]
     },
     "execution_count": 63,
     "metadata": {},
     "output_type": "execute_result"
    }
   ],
   "source": [
    "max_len = data_df['captions_tokenized'].apply(lambda x: len(x))\n",
    "data_df['captions_processed'].apply(lambda x: len(x.split()))"
   ]
  },
  {
   "cell_type": "code",
   "execution_count": 64,
   "id": "9430ef7c",
   "metadata": {
    "ExecuteTime": {
     "end_time": "2021-04-26T08:06:45.271247Z",
     "start_time": "2021-04-26T08:06:45.266233Z"
    }
   },
   "outputs": [],
   "source": [
    "#We will now pad the sequences \n",
    "list_of_tokenized_captions = data_df['captions_tokenized'].tolist()"
   ]
  },
  {
   "cell_type": "code",
   "execution_count": 65,
   "id": "23a03fdd",
   "metadata": {
    "ExecuteTime": {
     "end_time": "2021-04-26T08:06:45.577186Z",
     "start_time": "2021-04-26T08:06:45.538160Z"
    }
   },
   "outputs": [],
   "source": [
    "padded_tok_captions = tf.keras.preprocessing.sequence.pad_sequences(list_of_tokenized_captions, padding='post')\n",
    "padded_tok_captions = padded_tok_captions.tolist()\n"
   ]
  },
  {
   "cell_type": "code",
   "execution_count": 66,
   "id": "a3216884",
   "metadata": {
    "ExecuteTime": {
     "end_time": "2021-04-26T08:06:45.895378Z",
     "start_time": "2021-04-26T08:06:45.890380Z"
    },
    "run_control": {
     "marked": true
    }
   },
   "outputs": [
    {
     "data": {
      "text/plain": [
       "41"
      ]
     },
     "execution_count": 66,
     "metadata": {},
     "output_type": "execute_result"
    }
   ],
   "source": [
    "max_len = len(padded_tok_captions[0])\n",
    "max_len"
   ]
  },
  {
   "cell_type": "code",
   "execution_count": 67,
   "id": "e94dfd96",
   "metadata": {
    "ExecuteTime": {
     "end_time": "2021-04-26T08:06:47.869231Z",
     "start_time": "2021-04-26T08:06:47.857226Z"
    }
   },
   "outputs": [
    {
     "data": {
      "text/plain": [
       "0       [2, 1288, 9, 5, 73, 20, 3, 0, 0, 0, 0, 0, 0, 0...\n",
       "1       [2, 289, 111, 10, 37, 31, 747, 61, 4, 212, 146...\n",
       "2       [2, 270, 328, 6, 242, 27, 1374, 4, 97, 12, 5, ...\n",
       "3       [2, 5, 411, 210, 46, 23, 306, 3, 0, 0, 0, 0, 0...\n",
       "4       [2, 4, 3893, 1, 1092, 10, 24, 16, 34, 127, 346...\n",
       "                              ...                        \n",
       "9298    [2, 5323, 338, 14, 4, 1752, 3, 0, 0, 0, 0, 0, ...\n",
       "9299    [2, 7321, 8, 6757, 214, 103, 3821, 227, 3, 0, ...\n",
       "9300    [2, 112, 127, 320, 117, 85, 10, 1334, 7, 202, ...\n",
       "9301    [2, 36, 6, 5, 1493, 559, 7, 4, 369, 3, 0, 0, 0...\n",
       "9302    [2, 10322, 8, 37, 298, 6, 1, 5630, 8, 2882, 3,...\n",
       "Name: captions_tokenized_padded, Length: 9303, dtype: object"
      ]
     },
     "execution_count": 67,
     "metadata": {},
     "output_type": "execute_result"
    }
   ],
   "source": [
    "data_df['captions_tokenized_padded'] = pd.Series(padded_tok_captions)\n",
    "data_df['captions_tokenized_padded']"
   ]
  },
  {
   "cell_type": "code",
   "execution_count": 68,
   "id": "f5e71c9a",
   "metadata": {
    "ExecuteTime": {
     "end_time": "2021-04-26T08:06:48.312914Z",
     "start_time": "2021-04-26T08:06:48.306874Z"
    }
   },
   "outputs": [
    {
     "data": {
      "text/plain": [
       "10325"
      ]
     },
     "execution_count": 68,
     "metadata": {},
     "output_type": "execute_result"
    }
   ],
   "source": [
    "vocab_len = len(tokenizer.word_index)\n",
    "vocab_len"
   ]
  },
  {
   "cell_type": "code",
   "execution_count": 69,
   "id": "9d2f7702",
   "metadata": {
    "ExecuteTime": {
     "end_time": "2021-04-26T08:06:51.262863Z",
     "start_time": "2021-04-26T08:06:51.258869Z"
    }
   },
   "outputs": [
    {
     "name": "stdout",
     "output_type": "stream",
     "text": [
      "0\n",
      "1\n",
      "2\n",
      "3\n"
     ]
    }
   ],
   "source": [
    "#make sure we have unk tokens etc-\n",
    "print(tokenizer.word_index['<pad>'])\n",
    "print(tokenizer.word_index['<unk>'])\n",
    "print(tokenizer.word_index['<start>'])\n",
    "print(tokenizer.word_index['<end>'])"
   ]
  },
  {
   "cell_type": "code",
   "execution_count": 70,
   "id": "a51bbf02",
   "metadata": {
    "ExecuteTime": {
     "end_time": "2021-04-26T08:06:53.145892Z",
     "start_time": "2021-04-26T08:06:52.922420Z"
    }
   },
   "outputs": [],
   "source": [
    "#save preprocessed captions\n",
    "data_df.to_csv(os.path.join(test_data_dir, \"tokenized_old_sent_added_pos\"),index=False)"
   ]
  },
  {
   "cell_type": "code",
   "execution_count": null,
   "id": "51ec3bbe",
   "metadata": {},
   "outputs": [],
   "source": []
  },
  {
   "cell_type": "code",
   "execution_count": null,
   "id": "54043e5d",
   "metadata": {},
   "outputs": [],
   "source": []
  },
  {
   "cell_type": "code",
   "execution_count": null,
   "id": "846a9aa0",
   "metadata": {},
   "outputs": [],
   "source": []
  },
  {
   "cell_type": "code",
   "execution_count": null,
   "id": "f40cf2d0",
   "metadata": {},
   "outputs": [],
   "source": []
  },
  {
   "cell_type": "code",
   "execution_count": null,
   "id": "80a71e5b",
   "metadata": {},
   "outputs": [],
   "source": []
  },
  {
   "cell_type": "code",
   "execution_count": null,
   "id": "47359db2",
   "metadata": {},
   "outputs": [],
   "source": []
  },
  {
   "cell_type": "code",
   "execution_count": null,
   "id": "0caa0a5f",
   "metadata": {},
   "outputs": [],
   "source": []
  },
  {
   "cell_type": "code",
   "execution_count": null,
   "id": "fa32e5b3",
   "metadata": {},
   "outputs": [],
   "source": []
  },
  {
   "cell_type": "code",
   "execution_count": null,
   "id": "2442a838",
   "metadata": {},
   "outputs": [],
   "source": []
  },
  {
   "cell_type": "code",
   "execution_count": null,
   "id": "4600df50",
   "metadata": {},
   "outputs": [],
   "source": []
  },
  {
   "cell_type": "code",
   "execution_count": null,
   "id": "ae5dc1ea",
   "metadata": {},
   "outputs": [],
   "source": []
  },
  {
   "cell_type": "code",
   "execution_count": null,
   "id": "e42ad660",
   "metadata": {},
   "outputs": [],
   "source": []
  },
  {
   "cell_type": "code",
   "execution_count": null,
   "id": "7d384839",
   "metadata": {},
   "outputs": [],
   "source": []
  },
  {
   "cell_type": "code",
   "execution_count": null,
   "id": "71716a8b",
   "metadata": {},
   "outputs": [],
   "source": []
  }
 ],
 "metadata": {
  "kernelspec": {
   "display_name": "PyCharm (ML1_Final_Proj)",
   "language": "python",
   "name": "pycharm-1759dd10"
  },
  "language_info": {
   "codemirror_mode": {
    "name": "ipython",
    "version": 3
   },
   "file_extension": ".py",
   "mimetype": "text/x-python",
   "name": "python",
   "nbconvert_exporter": "python",
   "pygments_lexer": "ipython3",
   "version": "3.8.8"
  },
  "toc": {
   "base_numbering": 1,
   "nav_menu": {},
   "number_sections": true,
   "sideBar": true,
   "skip_h1_title": true,
   "title_cell": "Table of Contents",
   "title_sidebar": "Contents",
   "toc_cell": false,
   "toc_position": {
    "height": "calc(100% - 180px)",
    "left": "10px",
    "top": "150px",
    "width": "165px"
   },
   "toc_section_display": true,
   "toc_window_display": true
  },
  "varInspector": {
   "cols": {
    "lenName": 16,
    "lenType": 16,
    "lenVar": 40
   },
   "kernels_config": {
    "python": {
     "delete_cmd_postfix": "",
     "delete_cmd_prefix": "del ",
     "library": "var_list.py",
     "varRefreshCmd": "print(var_dic_list())"
    },
    "r": {
     "delete_cmd_postfix": ") ",
     "delete_cmd_prefix": "rm(",
     "library": "var_list.r",
     "varRefreshCmd": "cat(var_dic_list()) "
    }
   },
   "types_to_exclude": [
    "module",
    "function",
    "builtin_function_or_method",
    "instance",
    "_Feature"
   ],
   "window_display": false
  }
 },
 "nbformat": 4,
 "nbformat_minor": 5
}
