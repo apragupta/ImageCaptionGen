{
 "cells": [
  {
   "cell_type": "markdown",
   "id": "ac997909",
   "metadata": {
    "ExecuteTime": {
     "end_time": "2021-04-25T18:59:35.529464Z",
     "start_time": "2021-04-25T18:59:35.525465Z"
    }
   },
   "source": [
    "# Pipeline for preprocessing image captions : Test set\n",
    "\n",
    "Uses some code from [this TF Tutorial](https://www.tensorflow.org/tutorials/text/image_captioning) for tokenizing captions"
   ]
  },
  {
   "cell_type": "markdown",
   "id": "51b64384",
   "metadata": {},
   "source": []
  },
  {
   "cell_type": "code",
   "execution_count": 1,
   "id": "e3a4b097",
   "metadata": {
    "ExecuteTime": {
     "end_time": "2021-04-26T01:05:13.050280Z",
     "start_time": "2021-04-26T01:05:10.306194Z"
    }
   },
   "outputs": [
    {
     "name": "stdout",
     "output_type": "stream",
     "text": [
      "2.4.1\n"
     ]
    }
   ],
   "source": [
    "import pandas as pd \n",
    "import numpy as np\n",
    "import tensorflow as tf\n",
    "import os\n",
    "from tqdm import tqdm\n",
    "import time\n",
    "#initialization code required to make tensorflow work on my systemabs\n",
    "config = tf.compat.v1.ConfigProto()\n",
    "config.gpu_options.allow_growth = True\n",
    "session = tf.compat.v1.Session(config=config)\n",
    "print(tf.__version__)\n",
    "import pickle"
   ]
  },
  {
   "cell_type": "code",
   "execution_count": 15,
   "id": "e0d164fb",
   "metadata": {
    "ExecuteTime": {
     "end_time": "2021-04-26T01:07:10.040383Z",
     "start_time": "2021-04-26T01:07:10.037381Z"
    }
   },
   "outputs": [],
   "source": [
    "test_data_dir = r'data/initial_sample/'\n",
    "train_data_dir = r'data/30k_sample/'"
   ]
  },
  {
   "cell_type": "code",
   "execution_count": 16,
   "id": "b22ac4ae",
   "metadata": {
    "ExecuteTime": {
     "end_time": "2021-04-26T01:07:10.425037Z",
     "start_time": "2021-04-26T01:07:10.422055Z"
    }
   },
   "outputs": [],
   "source": [
    "#map to the dataframe with captions and path to the images and their embeddings\n",
    "path_to_train_meta = os.path.join(test_data_dir, r'sent_added')"
   ]
  },
  {
   "cell_type": "code",
   "execution_count": 17,
   "id": "0bf13753",
   "metadata": {
    "ExecuteTime": {
     "end_time": "2021-04-26T01:07:10.944503Z",
     "start_time": "2021-04-26T01:07:10.837085Z"
    }
   },
   "outputs": [],
   "source": [
    "data_df = pd.read_csv(path_to_train_meta)"
   ]
  },
  {
   "cell_type": "code",
   "execution_count": 18,
   "id": "05f2e7bd",
   "metadata": {
    "ExecuteTime": {
     "end_time": "2021-04-26T01:07:11.306771Z",
     "start_time": "2021-04-26T01:07:11.300775Z"
    }
   },
   "outputs": [],
   "source": [
    "#preprocess captions tpo include start and end tokens\n",
    "data_df['captions_processed'] = data_df['caption'].apply(lambda x: '<start> ' + x + ' <end>')"
   ]
  },
  {
   "cell_type": "code",
   "execution_count": 19,
   "id": "frozen-pickup",
   "metadata": {
    "ExecuteTime": {
     "end_time": "2021-04-26T01:07:12.152796Z",
     "start_time": "2021-04-26T01:07:12.149801Z"
    }
   },
   "outputs": [],
   "source": [
    "#path to tokenizer for this test set \n",
    "tokenizer_file = r'tokenizer_old.pickle'\n",
    "tokenizer_path = os.path.join(train_data_dir, tokenizer_file)"
   ]
  },
  {
   "cell_type": "code",
   "execution_count": 20,
   "id": "familiar-shaft",
   "metadata": {
    "ExecuteTime": {
     "end_time": "2021-04-26T01:07:12.882339Z",
     "start_time": "2021-04-26T01:07:12.869350Z"
    }
   },
   "outputs": [],
   "source": [
    "# loading\n",
    "with open(tokenizer_path, 'rb') as handle:\n",
    "    tokenizer = pickle.load(handle)"
   ]
  },
  {
   "cell_type": "code",
   "execution_count": 21,
   "id": "33fdbf7d",
   "metadata": {
    "ExecuteTime": {
     "end_time": "2021-04-26T01:07:13.480582Z",
     "start_time": "2021-04-26T01:07:13.390017Z"
    }
   },
   "outputs": [
    {
     "data": {
      "text/plain": [
       "0                              [2, 1392, 8, 5, 60, 17, 3]\n",
       "1       [2, 344, 168, 10, 34, 32, 1005, 55, 4, 228, 21...\n",
       "2       [2, 306, 296, 6, 157, 26, 1234, 4, 82, 15, 5, ...\n",
       "3                        [2, 5, 545, 236, 52, 24, 362, 3]\n",
       "4       [2, 4, 5269, 1, 928, 10, 22, 21, 30, 99, 363, ...\n",
       "                              ...                        \n",
       "9298                       [2, 5845, 326, 11, 4, 2287, 3]\n",
       "9299            [2, 3531, 9, 4814, 200, 91, 3167, 226, 3]\n",
       "9300    [2, 159, 99, 279, 124, 85, 10, 1496, 7, 272, 8...\n",
       "9301               [2, 44, 6, 5, 1248, 612, 7, 4, 466, 3]\n",
       "9302        [2, 6219, 9, 34, 338, 6, 1, 4178, 9, 2078, 3]\n",
       "Name: captions_tokenized, Length: 9303, dtype: object"
      ]
     },
     "execution_count": 21,
     "metadata": {},
     "output_type": "execute_result"
    }
   ],
   "source": [
    "data_df['captions_tokenized'] = tokenizer.texts_to_sequences(data_df['captions_processed'])\n",
    "data_df['captions_tokenized'] "
   ]
  },
  {
   "cell_type": "code",
   "execution_count": 22,
   "id": "9f045cf4",
   "metadata": {
    "ExecuteTime": {
     "end_time": "2021-04-26T01:07:18.619289Z",
     "start_time": "2021-04-26T01:07:18.612290Z"
    }
   },
   "outputs": [
    {
     "name": "stdout",
     "output_type": "stream",
     "text": [
      "0        7\n",
      "1       20\n",
      "2       13\n",
      "3        8\n",
      "4       26\n",
      "        ..\n",
      "9298     7\n",
      "9299     9\n",
      "9300    12\n",
      "9301    10\n",
      "9302    11\n",
      "Name: captions_tokenized, Length: 9303, dtype: int64\n"
     ]
    }
   ],
   "source": [
    "#sannity check number of words should be same as number of tokens (with an one token removed for .)\n",
    "print(data_df['captions_tokenized'].apply(lambda x: len(x)))"
   ]
  },
  {
   "cell_type": "code",
   "execution_count": 23,
   "id": "7abe61b4",
   "metadata": {
    "ExecuteTime": {
     "end_time": "2021-04-26T01:07:19.732409Z",
     "start_time": "2021-04-26T01:07:19.717418Z"
    }
   },
   "outputs": [
    {
     "data": {
      "text/plain": [
       "0        7\n",
       "1       22\n",
       "2       15\n",
       "3        9\n",
       "4       30\n",
       "        ..\n",
       "9298     8\n",
       "9299     9\n",
       "9300    13\n",
       "9301    11\n",
       "9302    11\n",
       "Name: captions_processed, Length: 9303, dtype: int64"
      ]
     },
     "execution_count": 23,
     "metadata": {},
     "output_type": "execute_result"
    }
   ],
   "source": [
    "max_len = data_df['captions_tokenized'].apply(lambda x: len(x))\n",
    "data_df['captions_processed'].apply(lambda x: len(x.split()))"
   ]
  },
  {
   "cell_type": "code",
   "execution_count": 24,
   "id": "9430ef7c",
   "metadata": {
    "ExecuteTime": {
     "end_time": "2021-04-26T01:07:26.704127Z",
     "start_time": "2021-04-26T01:07:26.701126Z"
    }
   },
   "outputs": [],
   "source": [
    "#We will now pad the sequences \n",
    "list_of_tokenized_captions = data_df['captions_tokenized'].tolist()"
   ]
  },
  {
   "cell_type": "code",
   "execution_count": 25,
   "id": "23a03fdd",
   "metadata": {
    "ExecuteTime": {
     "end_time": "2021-04-26T01:07:30.782431Z",
     "start_time": "2021-04-26T01:07:30.741416Z"
    }
   },
   "outputs": [],
   "source": [
    "padded_tok_captions = tf.keras.preprocessing.sequence.pad_sequences(list_of_tokenized_captions, padding='post')\n",
    "padded_tok_captions = padded_tok_captions.tolist()\n"
   ]
  },
  {
   "cell_type": "code",
   "execution_count": 26,
   "id": "a3216884",
   "metadata": {
    "ExecuteTime": {
     "end_time": "2021-04-26T01:07:31.217821Z",
     "start_time": "2021-04-26T01:07:31.213820Z"
    },
    "run_control": {
     "marked": true
    }
   },
   "outputs": [
    {
     "data": {
      "text/plain": [
       "41"
      ]
     },
     "execution_count": 26,
     "metadata": {},
     "output_type": "execute_result"
    }
   ],
   "source": [
    "max_len = len(padded_tok_captions[0])\n",
    "max_len"
   ]
  },
  {
   "cell_type": "code",
   "execution_count": 27,
   "id": "e94dfd96",
   "metadata": {
    "ExecuteTime": {
     "end_time": "2021-04-26T01:07:31.905418Z",
     "start_time": "2021-04-26T01:07:31.894419Z"
    }
   },
   "outputs": [
    {
     "data": {
      "text/plain": [
       "0       [2, 1392, 8, 5, 60, 17, 3, 0, 0, 0, 0, 0, 0, 0...\n",
       "1       [2, 344, 168, 10, 34, 32, 1005, 55, 4, 228, 21...\n",
       "2       [2, 306, 296, 6, 157, 26, 1234, 4, 82, 15, 5, ...\n",
       "3       [2, 5, 545, 236, 52, 24, 362, 3, 0, 0, 0, 0, 0...\n",
       "4       [2, 4, 5269, 1, 928, 10, 22, 21, 30, 99, 363, ...\n",
       "                              ...                        \n",
       "9298    [2, 5845, 326, 11, 4, 2287, 3, 0, 0, 0, 0, 0, ...\n",
       "9299    [2, 3531, 9, 4814, 200, 91, 3167, 226, 3, 0, 0...\n",
       "9300    [2, 159, 99, 279, 124, 85, 10, 1496, 7, 272, 8...\n",
       "9301    [2, 44, 6, 5, 1248, 612, 7, 4, 466, 3, 0, 0, 0...\n",
       "9302    [2, 6219, 9, 34, 338, 6, 1, 4178, 9, 2078, 3, ...\n",
       "Name: captions_tokenized_padded, Length: 9303, dtype: object"
      ]
     },
     "execution_count": 27,
     "metadata": {},
     "output_type": "execute_result"
    }
   ],
   "source": [
    "data_df['captions_tokenized_padded'] = pd.Series(padded_tok_captions)\n",
    "data_df['captions_tokenized_padded']"
   ]
  },
  {
   "cell_type": "code",
   "execution_count": 28,
   "id": "f5e71c9a",
   "metadata": {
    "ExecuteTime": {
     "end_time": "2021-04-26T01:07:35.329943Z",
     "start_time": "2021-04-26T01:07:35.324931Z"
    }
   },
   "outputs": [
    {
     "data": {
      "text/plain": [
       "12942"
      ]
     },
     "execution_count": 28,
     "metadata": {},
     "output_type": "execute_result"
    }
   ],
   "source": [
    "vocab_len = len(tokenizer.word_index)\n",
    "vocab_len"
   ]
  },
  {
   "cell_type": "code",
   "execution_count": 29,
   "id": "9d2f7702",
   "metadata": {
    "ExecuteTime": {
     "end_time": "2021-04-26T01:07:36.314591Z",
     "start_time": "2021-04-26T01:07:36.309596Z"
    }
   },
   "outputs": [
    {
     "name": "stdout",
     "output_type": "stream",
     "text": [
      "0\n",
      "1\n",
      "2\n",
      "3\n"
     ]
    }
   ],
   "source": [
    "#make sure we have unk tokens etc-\n",
    "print(tokenizer.word_index['<pad>'])\n",
    "print(tokenizer.word_index['<unk>'])\n",
    "print(tokenizer.word_index['<start>'])\n",
    "print(tokenizer.word_index['<end>'])"
   ]
  },
  {
   "cell_type": "code",
   "execution_count": 30,
   "id": "a51bbf02",
   "metadata": {
    "ExecuteTime": {
     "end_time": "2021-04-26T01:07:50.677764Z",
     "start_time": "2021-04-26T01:07:50.453595Z"
    }
   },
   "outputs": [],
   "source": [
    "#save preprocessed captions\n",
    "data_df.to_csv(os.path.join(test_data_dir, \"tokenized_sent_added\"),index=False)"
   ]
  },
  {
   "cell_type": "code",
   "execution_count": null,
   "id": "51ec3bbe",
   "metadata": {},
   "outputs": [],
   "source": []
  },
  {
   "cell_type": "code",
   "execution_count": null,
   "id": "54043e5d",
   "metadata": {},
   "outputs": [],
   "source": []
  },
  {
   "cell_type": "code",
   "execution_count": null,
   "id": "846a9aa0",
   "metadata": {},
   "outputs": [],
   "source": []
  },
  {
   "cell_type": "code",
   "execution_count": null,
   "id": "f40cf2d0",
   "metadata": {},
   "outputs": [],
   "source": []
  },
  {
   "cell_type": "code",
   "execution_count": null,
   "id": "80a71e5b",
   "metadata": {},
   "outputs": [],
   "source": []
  },
  {
   "cell_type": "code",
   "execution_count": null,
   "id": "47359db2",
   "metadata": {},
   "outputs": [],
   "source": []
  },
  {
   "cell_type": "code",
   "execution_count": null,
   "id": "0caa0a5f",
   "metadata": {},
   "outputs": [],
   "source": []
  },
  {
   "cell_type": "code",
   "execution_count": null,
   "id": "fa32e5b3",
   "metadata": {},
   "outputs": [],
   "source": []
  },
  {
   "cell_type": "code",
   "execution_count": null,
   "id": "2442a838",
   "metadata": {},
   "outputs": [],
   "source": []
  },
  {
   "cell_type": "code",
   "execution_count": null,
   "id": "4600df50",
   "metadata": {},
   "outputs": [],
   "source": []
  },
  {
   "cell_type": "code",
   "execution_count": null,
   "id": "ae5dc1ea",
   "metadata": {},
   "outputs": [],
   "source": []
  },
  {
   "cell_type": "code",
   "execution_count": null,
   "id": "e42ad660",
   "metadata": {},
   "outputs": [],
   "source": []
  },
  {
   "cell_type": "code",
   "execution_count": null,
   "id": "7d384839",
   "metadata": {},
   "outputs": [],
   "source": []
  },
  {
   "cell_type": "code",
   "execution_count": null,
   "id": "71716a8b",
   "metadata": {},
   "outputs": [],
   "source": []
  }
 ],
 "metadata": {
  "kernelspec": {
   "display_name": "PyCharm (ML1_Final_Proj)",
   "language": "python",
   "name": "pycharm-1759dd10"
  },
  "language_info": {
   "codemirror_mode": {
    "name": "ipython",
    "version": 3
   },
   "file_extension": ".py",
   "mimetype": "text/x-python",
   "name": "python",
   "nbconvert_exporter": "python",
   "pygments_lexer": "ipython3",
   "version": "3.8.8"
  },
  "toc": {
   "base_numbering": 1,
   "nav_menu": {},
   "number_sections": true,
   "sideBar": true,
   "skip_h1_title": true,
   "title_cell": "Table of Contents",
   "title_sidebar": "Contents",
   "toc_cell": false,
   "toc_position": {
    "height": "calc(100% - 180px)",
    "left": "10px",
    "top": "150px",
    "width": "165px"
   },
   "toc_section_display": true,
   "toc_window_display": true
  },
  "varInspector": {
   "cols": {
    "lenName": 16,
    "lenType": 16,
    "lenVar": 40
   },
   "kernels_config": {
    "python": {
     "delete_cmd_postfix": "",
     "delete_cmd_prefix": "del ",
     "library": "var_list.py",
     "varRefreshCmd": "print(var_dic_list())"
    },
    "r": {
     "delete_cmd_postfix": ") ",
     "delete_cmd_prefix": "rm(",
     "library": "var_list.r",
     "varRefreshCmd": "cat(var_dic_list()) "
    }
   },
   "types_to_exclude": [
    "module",
    "function",
    "builtin_function_or_method",
    "instance",
    "_Feature"
   ],
   "window_display": false
  }
 },
 "nbformat": 4,
 "nbformat_minor": 5
}
