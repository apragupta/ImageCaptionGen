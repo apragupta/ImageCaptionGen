{
 "cells": [
  {
   "cell_type": "markdown",
   "id": "6ee022de",
   "metadata": {},
   "source": [
    "# Pipeline to save paths to embeddings of each image"
   ]
  },
  {
   "cell_type": "code",
   "execution_count": 1,
   "id": "1c563a43",
   "metadata": {
    "ExecuteTime": {
     "end_time": "2021-04-25T23:16:47.993722Z",
     "start_time": "2021-04-25T23:16:47.731642Z"
    }
   },
   "outputs": [],
   "source": [
    "import os\n",
    "import pandas as pd \n",
    "import numpy as np"
   ]
  },
  {
   "cell_type": "code",
   "execution_count": 2,
   "id": "f063fc5d",
   "metadata": {
    "ExecuteTime": {
     "end_time": "2021-04-25T23:16:48.254915Z",
     "start_time": "2021-04-25T23:16:48.251914Z"
    }
   },
   "outputs": [],
   "source": [
    "data_dir = r'data/30k_sample/'"
   ]
  },
  {
   "cell_type": "code",
   "execution_count": 3,
   "id": "f004b7e5",
   "metadata": {
    "ExecuteTime": {
     "end_time": "2021-04-25T23:16:48.693545Z",
     "start_time": "2021-04-25T23:16:48.690563Z"
    }
   },
   "outputs": [],
   "source": [
    "df_file = r'tokenized_sent_added'"
   ]
  },
  {
   "cell_type": "code",
   "execution_count": 4,
   "id": "d93a8c58",
   "metadata": {
    "ExecuteTime": {
     "end_time": "2021-04-25T23:16:49.148993Z",
     "start_time": "2021-04-25T23:16:49.145992Z"
    }
   },
   "outputs": [],
   "source": [
    "path_to_train_meta = os.path.join(data_dir, df_file)"
   ]
  },
  {
   "cell_type": "code",
   "execution_count": 5,
   "id": "0c0caaa0",
   "metadata": {
    "ExecuteTime": {
     "end_time": "2021-04-25T23:16:50.048236Z",
     "start_time": "2021-04-25T23:16:49.490772Z"
    }
   },
   "outputs": [],
   "source": [
    "data_df = pd.read_csv(path_to_train_meta)"
   ]
  },
  {
   "cell_type": "code",
   "execution_count": 6,
   "id": "80ad0c20",
   "metadata": {
    "ExecuteTime": {
     "end_time": "2021-04-25T23:16:50.168823Z",
     "start_time": "2021-04-25T23:16:50.098253Z"
    }
   },
   "outputs": [],
   "source": [
    "#save inception v3 embeddings as a path \n",
    "inception_v3_embeddings_dir = r'inception_v3_embeddings'\n",
    "inception_v3_embeddings_dir_path = os.path.join(data_dir, inception_v3_embeddings_dir)\n",
    "data_df['i_v3_embed_path'] = data_df['global_index'].apply(lambda x: os.path.join(inception_v3_embeddings_dir_path, str(x) + '.png' + '.npy' ))"
   ]
  },
  {
   "cell_type": "code",
   "execution_count": 7,
   "id": "fe2a42db",
   "metadata": {
    "ExecuteTime": {
     "end_time": "2021-04-25T23:16:50.364834Z",
     "start_time": "2021-04-25T23:16:50.289801Z"
    }
   },
   "outputs": [],
   "source": [
    "#save inception resnet v2 embeddings as a path \n",
    "inception_res_v2_embeddings_dir = r'inception_resnet_v2_embeddings'\n",
    "inception_res_v2_embeddings_dir_path = os.path.join(data_dir, inception_res_v2_embeddings_dir)\n",
    "data_df['i_resnet_v2_embed_path'] = data_df['global_index'].apply(lambda x: os.path.join(inception_res_v2_embeddings_dir_path, str(x) + '.png' + '.npy' ))\n"
   ]
  },
  {
   "cell_type": "code",
   "execution_count": 8,
   "id": "36c79e0e",
   "metadata": {
    "ExecuteTime": {
     "end_time": "2021-04-25T23:16:50.710394Z",
     "start_time": "2021-04-25T23:16:50.706394Z"
    }
   },
   "outputs": [],
   "source": [
    "#save in a file in the same directory\n",
    "save_path = os.path.join(data_dir,'tokenized_sent_added_emb')"
   ]
  },
  {
   "cell_type": "code",
   "execution_count": 9,
   "id": "ff87827a",
   "metadata": {
    "ExecuteTime": {
     "end_time": "2021-04-25T23:16:52.788343Z",
     "start_time": "2021-04-25T23:16:52.075065Z"
    }
   },
   "outputs": [],
   "source": [
    "data_df.to_csv(save_path,index=False)"
   ]
  },
  {
   "cell_type": "code",
   "execution_count": null,
   "id": "7deaf757",
   "metadata": {},
   "outputs": [],
   "source": []
  }
 ],
 "metadata": {
  "kernelspec": {
   "display_name": "PyCharm (ML1_Final_Proj)",
   "language": "python",
   "name": "pycharm-1759dd10"
  },
  "language_info": {
   "codemirror_mode": {
    "name": "ipython",
    "version": 3
   },
   "file_extension": ".py",
   "mimetype": "text/x-python",
   "name": "python",
   "nbconvert_exporter": "python",
   "pygments_lexer": "ipython3",
   "version": "3.8.8"
  },
  "toc": {
   "base_numbering": 1,
   "nav_menu": {},
   "number_sections": true,
   "sideBar": true,
   "skip_h1_title": false,
   "title_cell": "Table of Contents",
   "title_sidebar": "Contents",
   "toc_cell": false,
   "toc_position": {},
   "toc_section_display": true,
   "toc_window_display": true
  },
  "varInspector": {
   "cols": {
    "lenName": 16,
    "lenType": 16,
    "lenVar": 40
   },
   "kernels_config": {
    "python": {
     "delete_cmd_postfix": "",
     "delete_cmd_prefix": "del ",
     "library": "var_list.py",
     "varRefreshCmd": "print(var_dic_list())"
    },
    "r": {
     "delete_cmd_postfix": ") ",
     "delete_cmd_prefix": "rm(",
     "library": "var_list.r",
     "varRefreshCmd": "cat(var_dic_list()) "
    }
   },
   "types_to_exclude": [
    "module",
    "function",
    "builtin_function_or_method",
    "instance",
    "_Feature"
   ],
   "window_display": false
  }
 },
 "nbformat": 4,
 "nbformat_minor": 5
}
