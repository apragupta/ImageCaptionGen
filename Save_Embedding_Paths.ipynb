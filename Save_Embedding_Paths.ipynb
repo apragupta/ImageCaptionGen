{
 "cells": [
  {
   "cell_type": "markdown",
   "id": "6ee022de",
   "metadata": {},
   "source": [
    "# Pipeline to save paths to embeddings of each image"
   ]
  },
  {
   "cell_type": "code",
   "execution_count": 11,
   "id": "1c563a43",
   "metadata": {
    "ExecuteTime": {
     "end_time": "2021-04-26T02:40:26.339012Z",
     "start_time": "2021-04-26T02:40:26.335011Z"
    }
   },
   "outputs": [],
   "source": [
    "import os\n",
    "import pandas as pd \n",
    "import numpy as np"
   ]
  },
  {
   "cell_type": "code",
   "execution_count": 12,
   "id": "f063fc5d",
   "metadata": {
    "ExecuteTime": {
     "end_time": "2021-04-26T02:40:26.843666Z",
     "start_time": "2021-04-26T02:40:26.837667Z"
    }
   },
   "outputs": [],
   "source": [
    "data_dir = r'data/30k_sample/'"
   ]
  },
  {
   "cell_type": "code",
   "execution_count": 13,
   "id": "f004b7e5",
   "metadata": {
    "ExecuteTime": {
     "end_time": "2021-04-26T02:40:27.253015Z",
     "start_time": "2021-04-26T02:40:27.246015Z"
    }
   },
   "outputs": [],
   "source": [
    "df_file = r'tokenized_sent_added_neg'"
   ]
  },
  {
   "cell_type": "code",
   "execution_count": 14,
   "id": "d93a8c58",
   "metadata": {
    "ExecuteTime": {
     "end_time": "2021-04-26T02:40:27.804659Z",
     "start_time": "2021-04-26T02:40:27.790659Z"
    }
   },
   "outputs": [],
   "source": [
    "path_to_train_meta = os.path.join(data_dir, df_file)"
   ]
  },
  {
   "cell_type": "code",
   "execution_count": 15,
   "id": "0c0caaa0",
   "metadata": {
    "ExecuteTime": {
     "end_time": "2021-04-26T02:40:28.467160Z",
     "start_time": "2021-04-26T02:40:28.286159Z"
    }
   },
   "outputs": [],
   "source": [
    "data_df = pd.read_csv(path_to_train_meta)"
   ]
  },
  {
   "cell_type": "code",
   "execution_count": 16,
   "id": "dfafe9b3",
   "metadata": {
    "ExecuteTime": {
     "end_time": "2021-04-26T02:40:29.046557Z",
     "start_time": "2021-04-26T02:40:29.029556Z"
    }
   },
   "outputs": [
    {
     "data": {
      "text/plain": [
       "8912"
      ]
     },
     "execution_count": 16,
     "metadata": {},
     "output_type": "execute_result"
    }
   ],
   "source": [
    "len(data_df)"
   ]
  },
  {
   "cell_type": "code",
   "execution_count": 17,
   "id": "80ad0c20",
   "metadata": {
    "ExecuteTime": {
     "end_time": "2021-04-26T02:40:29.756649Z",
     "start_time": "2021-04-26T02:40:29.709651Z"
    }
   },
   "outputs": [],
   "source": [
    "#save inception v3 embeddings as a path \n",
    "inception_v3_embeddings_dir = r'inception_v3_embeddings'\n",
    "inception_v3_embeddings_dir_path = os.path.join(data_dir, inception_v3_embeddings_dir)\n",
    "data_df['i_v3_embed_path'] = data_df['global_index'].apply(lambda x: os.path.join(inception_v3_embeddings_dir_path, str(x) + '.png' + '.npy' ))"
   ]
  },
  {
   "cell_type": "code",
   "execution_count": 18,
   "id": "fe2a42db",
   "metadata": {
    "ExecuteTime": {
     "end_time": "2021-04-26T02:40:30.650084Z",
     "start_time": "2021-04-26T02:40:30.598043Z"
    }
   },
   "outputs": [],
   "source": [
    "#save inception resnet v2 embeddings as a path \n",
    "inception_res_v2_embeddings_dir = r'inception_resnet_v2_embeddings'\n",
    "inception_res_v2_embeddings_dir_path = os.path.join(data_dir, inception_res_v2_embeddings_dir)\n",
    "data_df['i_resnet_v2_embed_path'] = data_df['global_index'].apply(lambda x: os.path.join(inception_res_v2_embeddings_dir_path, str(x) + '.png' + '.npy' ))\n"
   ]
  },
  {
   "cell_type": "code",
   "execution_count": 20,
   "id": "36c79e0e",
   "metadata": {
    "ExecuteTime": {
     "end_time": "2021-04-26T02:40:39.473622Z",
     "start_time": "2021-04-26T02:40:39.469621Z"
    }
   },
   "outputs": [],
   "source": [
    "#save in a file in the same directory\n",
    "save_path = os.path.join(data_dir,'tokenized_sent_added_emb_neg')"
   ]
  },
  {
   "cell_type": "code",
   "execution_count": 21,
   "id": "ff87827a",
   "metadata": {
    "ExecuteTime": {
     "end_time": "2021-04-26T02:40:40.337984Z",
     "start_time": "2021-04-26T02:40:40.077985Z"
    }
   },
   "outputs": [],
   "source": [
    "data_df.to_csv(save_path,index=False)"
   ]
  },
  {
   "cell_type": "code",
   "execution_count": null,
   "id": "7deaf757",
   "metadata": {},
   "outputs": [],
   "source": []
  }
 ],
 "metadata": {
  "kernelspec": {
   "display_name": "PyCharm (ML1_Final_Proj)",
   "language": "python",
   "name": "pycharm-16e37711"
  },
  "language_info": {
   "codemirror_mode": {
    "name": "ipython",
    "version": 3
   },
   "file_extension": ".py",
   "mimetype": "text/x-python",
   "name": "python",
   "nbconvert_exporter": "python",
   "pygments_lexer": "ipython3",
   "version": "3.8.0"
  },
  "toc": {
   "base_numbering": 1,
   "nav_menu": {},
   "number_sections": true,
   "sideBar": true,
   "skip_h1_title": false,
   "title_cell": "Table of Contents",
   "title_sidebar": "Contents",
   "toc_cell": false,
   "toc_position": {},
   "toc_section_display": true,
   "toc_window_display": true
  },
  "varInspector": {
   "cols": {
    "lenName": 16,
    "lenType": 16,
    "lenVar": 40
   },
   "kernels_config": {
    "python": {
     "delete_cmd_postfix": "",
     "delete_cmd_prefix": "del ",
     "library": "var_list.py",
     "varRefreshCmd": "print(var_dic_list())"
    },
    "r": {
     "delete_cmd_postfix": ") ",
     "delete_cmd_prefix": "rm(",
     "library": "var_list.r",
     "varRefreshCmd": "cat(var_dic_list()) "
    }
   },
   "types_to_exclude": [
    "module",
    "function",
    "builtin_function_or_method",
    "instance",
    "_Feature"
   ],
   "window_display": false
  }
 },
 "nbformat": 4,
 "nbformat_minor": 5
}
