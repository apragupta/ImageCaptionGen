{
 "cells": [
  {
   "cell_type": "markdown",
   "id": "2d9843f1",
   "metadata": {},
   "source": [
    "# Dividing Training set into positive and negative sentiment data"
   ]
  },
  {
   "cell_type": "code",
   "execution_count": 1,
   "id": "62a7af05",
   "metadata": {
    "ExecuteTime": {
     "end_time": "2021-04-26T02:30:02.952602Z",
     "start_time": "2021-04-26T02:29:59.040604Z"
    }
   },
   "outputs": [],
   "source": [
    "import pandas as pd \n",
    "import numpy as np\n",
    "import tensorflow as tf\n",
    "import os\n",
    "from tqdm import tqdm\n",
    "import time"
   ]
  },
  {
   "cell_type": "code",
   "execution_count": 4,
   "id": "1c4db43f",
   "metadata": {
    "ExecuteTime": {
     "end_time": "2021-04-26T02:31:05.019400Z",
     "start_time": "2021-04-26T02:31:05.016401Z"
    }
   },
   "outputs": [],
   "source": [
    "df_name = 'sent_added'\n",
    "data_dir = r'data/30k_sample/'"
   ]
  },
  {
   "cell_type": "code",
   "execution_count": 7,
   "id": "1eb89cd7",
   "metadata": {
    "ExecuteTime": {
     "end_time": "2021-04-26T02:32:11.593912Z",
     "start_time": "2021-04-26T02:32:11.160196Z"
    }
   },
   "outputs": [],
   "source": [
    "data_df = pd.read_csv(os.path.join(data_dir,df_name))"
   ]
  },
  {
   "cell_type": "markdown",
   "id": "9d839f41",
   "metadata": {
    "ExecuteTime": {
     "end_time": "2021-04-26T02:30:19.080539Z",
     "start_time": "2021-04-26T02:30:19.068553Z"
    }
   },
   "source": [
    "## Split and save positive sentiment labels"
   ]
  },
  {
   "cell_type": "code",
   "execution_count": 8,
   "id": "fcd4283d",
   "metadata": {
    "ExecuteTime": {
     "end_time": "2021-04-26T02:32:14.498156Z",
     "start_time": "2021-04-26T02:32:14.464169Z"
    }
   },
   "outputs": [],
   "source": [
    "#filter out only to include positive sentiment captions\n",
    "data_df.drop(data_df.loc[data_df['hf_sent_class']==\"NEGATIVE\"].index, inplace=True)\n",
    "data_df.reset_index(inplace=True)"
   ]
  },
  {
   "cell_type": "code",
   "execution_count": 9,
   "id": "c1f54095",
   "metadata": {
    "ExecuteTime": {
     "end_time": "2021-04-26T02:32:22.299498Z",
     "start_time": "2021-04-26T02:32:22.288498Z"
    }
   },
   "outputs": [
    {
     "data": {
      "text/plain": [
       "21016"
      ]
     },
     "execution_count": 9,
     "metadata": {},
     "output_type": "execute_result"
    }
   ],
   "source": [
    "len(data_df)"
   ]
  },
  {
   "cell_type": "code",
   "execution_count": 10,
   "id": "a10a0ea8",
   "metadata": {
    "ExecuteTime": {
     "end_time": "2021-04-26T02:33:02.615784Z",
     "start_time": "2021-04-26T02:33:02.607786Z"
    }
   },
   "outputs": [],
   "source": [
    "pos_df_name = df_name + \"_pos\""
   ]
  },
  {
   "cell_type": "code",
   "execution_count": 12,
   "id": "996e217c",
   "metadata": {
    "ExecuteTime": {
     "end_time": "2021-04-26T02:33:48.479616Z",
     "start_time": "2021-04-26T02:33:48.039618Z"
    }
   },
   "outputs": [],
   "source": [
    "data_df.to_csv(os.path.join(data_dir, pos_df_name))"
   ]
  },
  {
   "cell_type": "markdown",
   "id": "57dcc816",
   "metadata": {},
   "source": [
    "## Split and save positive sentiment labels\n",
    "\n",
    "\n",
    "\n"
   ]
  },
  {
   "cell_type": "code",
   "execution_count": 13,
   "id": "100c34a9",
   "metadata": {
    "ExecuteTime": {
     "end_time": "2021-04-26T02:34:44.562149Z",
     "start_time": "2021-04-26T02:34:44.140160Z"
    }
   },
   "outputs": [],
   "source": [
    "#reread original frameabs\n",
    "data_df = pd.read_csv(os.path.join(data_dir,df_name))"
   ]
  },
  {
   "cell_type": "code",
   "execution_count": 14,
   "id": "991a521e",
   "metadata": {
    "ExecuteTime": {
     "end_time": "2021-04-26T02:34:51.378180Z",
     "start_time": "2021-04-26T02:34:51.367184Z"
    }
   },
   "outputs": [
    {
     "data": {
      "text/plain": [
       "29928"
      ]
     },
     "execution_count": 14,
     "metadata": {},
     "output_type": "execute_result"
    }
   ],
   "source": [
    "len(data_df)"
   ]
  },
  {
   "cell_type": "code",
   "execution_count": 15,
   "id": "dbcba564",
   "metadata": {
    "ExecuteTime": {
     "end_time": "2021-04-26T02:35:17.464985Z",
     "start_time": "2021-04-26T02:35:17.431594Z"
    }
   },
   "outputs": [],
   "source": [
    "#filter out only to include negative sentiment captions\n",
    "data_df.drop(data_df.loc[data_df['hf_sent_class']==\"POSITIVE\"].index, inplace=True)\n",
    "data_df.reset_index(inplace=True)\n",
    "\n"
   ]
  },
  {
   "cell_type": "code",
   "execution_count": 16,
   "id": "5e14a7d6",
   "metadata": {
    "ExecuteTime": {
     "end_time": "2021-04-26T02:35:22.421616Z",
     "start_time": "2021-04-26T02:35:22.407617Z"
    }
   },
   "outputs": [
    {
     "data": {
      "text/plain": [
       "8912"
      ]
     },
     "execution_count": 16,
     "metadata": {},
     "output_type": "execute_result"
    }
   ],
   "source": [
    "len(data_df)\n",
    "\n"
   ]
  },
  {
   "cell_type": "code",
   "execution_count": 17,
   "id": "f1c8a28c",
   "metadata": {
    "ExecuteTime": {
     "end_time": "2021-04-26T02:35:24.218602Z",
     "start_time": "2021-04-26T02:35:24.023601Z"
    }
   },
   "outputs": [],
   "source": [
    "neg_df_name = df_name + \"_neg\"\n",
    "\n",
    "data_df.to_csv(os.path.join(data_dir, neg_df_name))"
   ]
  },
  {
   "cell_type": "code",
   "execution_count": null,
   "id": "e9cdd59d",
   "metadata": {},
   "outputs": [],
   "source": []
  }
 ],
 "metadata": {
  "kernelspec": {
   "display_name": "PyCharm (ML1_Final_Proj)",
   "language": "python",
   "name": "pycharm-16e37711"
  },
  "language_info": {
   "codemirror_mode": {
    "name": "ipython",
    "version": 3
   },
   "file_extension": ".py",
   "mimetype": "text/x-python",
   "name": "python",
   "nbconvert_exporter": "python",
   "pygments_lexer": "ipython3",
   "version": "3.8.0"
  },
  "toc": {
   "base_numbering": 1,
   "nav_menu": {},
   "number_sections": true,
   "sideBar": true,
   "skip_h1_title": true,
   "title_cell": "Table of Contents",
   "title_sidebar": "Contents",
   "toc_cell": false,
   "toc_position": {},
   "toc_section_display": true,
   "toc_window_display": true
  },
  "varInspector": {
   "cols": {
    "lenName": 16,
    "lenType": 16,
    "lenVar": 40
   },
   "kernels_config": {
    "python": {
     "delete_cmd_postfix": "",
     "delete_cmd_prefix": "del ",
     "library": "var_list.py",
     "varRefreshCmd": "print(var_dic_list())"
    },
    "r": {
     "delete_cmd_postfix": ") ",
     "delete_cmd_prefix": "rm(",
     "library": "var_list.r",
     "varRefreshCmd": "cat(var_dic_list()) "
    }
   },
   "types_to_exclude": [
    "module",
    "function",
    "builtin_function_or_method",
    "instance",
    "_Feature"
   ],
   "window_display": false
  }
 },
 "nbformat": 4,
 "nbformat_minor": 5
}
