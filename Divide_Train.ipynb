{
 "cells": [
  {
   "cell_type": "markdown",
   "id": "2d9843f1",
   "metadata": {},
   "source": [
    "# Dividing Training set into positive and negative sentiment data"
   ]
  },
  {
   "cell_type": "code",
   "execution_count": 1,
   "id": "62a7af05",
   "metadata": {
    "ExecuteTime": {
     "end_time": "2021-04-26T07:49:33.138338Z",
     "start_time": "2021-04-26T07:49:30.733516Z"
    }
   },
   "outputs": [],
   "source": [
    "import pandas as pd \n",
    "import numpy as np\n",
    "import tensorflow as tf\n",
    "import os\n",
    "from tqdm import tqdm\n",
    "import time"
   ]
  },
  {
   "cell_type": "code",
   "execution_count": 6,
   "id": "1c4db43f",
   "metadata": {
    "ExecuteTime": {
     "end_time": "2021-04-26T07:50:29.215001Z",
     "start_time": "2021-04-26T07:50:29.212015Z"
    }
   },
   "outputs": [],
   "source": [
    "df_name = 'sent_added'\n",
    "data_dir = r'data/30k_sample/'"
   ]
  },
  {
   "cell_type": "code",
   "execution_count": 7,
   "id": "1eb89cd7",
   "metadata": {
    "ExecuteTime": {
     "end_time": "2021-04-26T07:50:30.654535Z",
     "start_time": "2021-04-26T07:50:30.251532Z"
    }
   },
   "outputs": [],
   "source": [
    "data_df = pd.read_csv(os.path.join(data_dir,df_name))"
   ]
  },
  {
   "cell_type": "markdown",
   "id": "9d839f41",
   "metadata": {
    "ExecuteTime": {
     "end_time": "2021-04-26T02:30:19.080539Z",
     "start_time": "2021-04-26T02:30:19.068553Z"
    }
   },
   "source": [
    "## Split and save positive sentiment labels"
   ]
  },
  {
   "cell_type": "code",
   "execution_count": 8,
   "id": "fcd4283d",
   "metadata": {
    "ExecuteTime": {
     "end_time": "2021-04-26T07:50:31.582186Z",
     "start_time": "2021-04-26T07:50:31.554162Z"
    }
   },
   "outputs": [],
   "source": [
    "#filter out only to include positive sentiment captions\n",
    "data_df.drop(data_df.loc[data_df['hf_sent_class']==\"NEGATIVE\"].index, inplace=True)\n",
    "data_df.reset_index(inplace=True)"
   ]
  },
  {
   "cell_type": "code",
   "execution_count": 9,
   "id": "c1f54095",
   "metadata": {
    "ExecuteTime": {
     "end_time": "2021-04-26T07:50:31.873215Z",
     "start_time": "2021-04-26T07:50:31.868219Z"
    }
   },
   "outputs": [
    {
     "data": {
      "text/plain": [
       "21016"
      ]
     },
     "execution_count": 9,
     "metadata": {},
     "output_type": "execute_result"
    }
   ],
   "source": [
    "len(data_df)"
   ]
  },
  {
   "cell_type": "code",
   "execution_count": 10,
   "id": "a10a0ea8",
   "metadata": {
    "ExecuteTime": {
     "end_time": "2021-04-26T07:50:36.302102Z",
     "start_time": "2021-04-26T07:50:36.299101Z"
    }
   },
   "outputs": [],
   "source": [
    "pos_df_name = df_name + \"_pos\""
   ]
  },
  {
   "cell_type": "code",
   "execution_count": 11,
   "id": "996e217c",
   "metadata": {
    "ExecuteTime": {
     "end_time": "2021-04-26T07:50:45.921535Z",
     "start_time": "2021-04-26T07:50:45.514111Z"
    }
   },
   "outputs": [],
   "source": [
    "data_df.to_csv(os.path.join(data_dir, pos_df_name))"
   ]
  },
  {
   "cell_type": "markdown",
   "id": "57dcc816",
   "metadata": {},
   "source": [
    "## Split and save positive sentiment labels\n",
    "\n",
    "\n",
    "\n"
   ]
  },
  {
   "cell_type": "code",
   "execution_count": 12,
   "id": "100c34a9",
   "metadata": {
    "ExecuteTime": {
     "end_time": "2021-04-26T07:50:48.053836Z",
     "start_time": "2021-04-26T07:50:47.633368Z"
    }
   },
   "outputs": [],
   "source": [
    "#reread original frameabs\n",
    "data_df = pd.read_csv(os.path.join(data_dir,df_name))"
   ]
  },
  {
   "cell_type": "code",
   "execution_count": 13,
   "id": "991a521e",
   "metadata": {
    "ExecuteTime": {
     "end_time": "2021-04-26T07:50:48.671935Z",
     "start_time": "2021-04-26T07:50:48.666926Z"
    }
   },
   "outputs": [
    {
     "data": {
      "text/plain": [
       "29928"
      ]
     },
     "execution_count": 13,
     "metadata": {},
     "output_type": "execute_result"
    }
   ],
   "source": [
    "len(data_df)"
   ]
  },
  {
   "cell_type": "code",
   "execution_count": 14,
   "id": "dbcba564",
   "metadata": {
    "ExecuteTime": {
     "end_time": "2021-04-26T07:50:51.493636Z",
     "start_time": "2021-04-26T07:50:51.459216Z"
    }
   },
   "outputs": [],
   "source": [
    "#filter out only to include negative sentiment captions\n",
    "data_df.drop(data_df.loc[data_df['hf_sent_class']==\"POSITIVE\"].index, inplace=True)\n",
    "data_df.reset_index(inplace=True)\n",
    "\n"
   ]
  },
  {
   "cell_type": "code",
   "execution_count": 15,
   "id": "5e14a7d6",
   "metadata": {
    "ExecuteTime": {
     "end_time": "2021-04-26T07:50:51.895919Z",
     "start_time": "2021-04-26T07:50:51.891928Z"
    }
   },
   "outputs": [
    {
     "data": {
      "text/plain": [
       "8912"
      ]
     },
     "execution_count": 15,
     "metadata": {},
     "output_type": "execute_result"
    }
   ],
   "source": [
    "len(data_df)\n",
    "\n"
   ]
  },
  {
   "cell_type": "code",
   "execution_count": 16,
   "id": "f1c8a28c",
   "metadata": {
    "ExecuteTime": {
     "end_time": "2021-04-26T07:50:54.858825Z",
     "start_time": "2021-04-26T07:50:54.677169Z"
    }
   },
   "outputs": [],
   "source": [
    "neg_df_name = df_name + \"_neg\"\n",
    "\n",
    "data_df.to_csv(os.path.join(data_dir, neg_df_name))"
   ]
  },
  {
   "cell_type": "code",
   "execution_count": null,
   "id": "e9cdd59d",
   "metadata": {},
   "outputs": [],
   "source": []
  }
 ],
 "metadata": {
  "kernelspec": {
   "display_name": "PyCharm (ML1_Final_Proj)",
   "language": "python",
   "name": "pycharm-1759dd10"
  },
  "language_info": {
   "codemirror_mode": {
    "name": "ipython",
    "version": 3
   },
   "file_extension": ".py",
   "mimetype": "text/x-python",
   "name": "python",
   "nbconvert_exporter": "python",
   "pygments_lexer": "ipython3",
   "version": "3.8.8"
  },
  "toc": {
   "base_numbering": 1,
   "nav_menu": {},
   "number_sections": true,
   "sideBar": true,
   "skip_h1_title": true,
   "title_cell": "Table of Contents",
   "title_sidebar": "Contents",
   "toc_cell": false,
   "toc_position": {},
   "toc_section_display": true,
   "toc_window_display": true
  },
  "varInspector": {
   "cols": {
    "lenName": 16,
    "lenType": 16,
    "lenVar": 40
   },
   "kernels_config": {
    "python": {
     "delete_cmd_postfix": "",
     "delete_cmd_prefix": "del ",
     "library": "var_list.py",
     "varRefreshCmd": "print(var_dic_list())"
    },
    "r": {
     "delete_cmd_postfix": ") ",
     "delete_cmd_prefix": "rm(",
     "library": "var_list.r",
     "varRefreshCmd": "cat(var_dic_list()) "
    }
   },
   "types_to_exclude": [
    "module",
    "function",
    "builtin_function_or_method",
    "instance",
    "_Feature"
   ],
   "window_display": false
  }
 },
 "nbformat": 4,
 "nbformat_minor": 5
}
