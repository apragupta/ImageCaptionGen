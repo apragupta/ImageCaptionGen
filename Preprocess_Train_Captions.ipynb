{
 "cells": [
  {
   "cell_type": "markdown",
   "id": "ac997909",
   "metadata": {
    "ExecuteTime": {
     "end_time": "2021-04-25T18:59:35.529464Z",
     "start_time": "2021-04-25T18:59:35.525465Z"
    }
   },
   "source": [
    "# Pipeline for preprocessing image captions \n",
    "\n",
    "Uses some code from [this TF Tutorial](https://www.tensorflow.org/tutorials/text/image_captioning) for tokenizing captions"
   ]
  },
  {
   "cell_type": "markdown",
   "id": "51b64384",
   "metadata": {},
   "source": []
  },
  {
   "cell_type": "code",
   "execution_count": 45,
   "id": "e3a4b097",
   "metadata": {
    "ExecuteTime": {
     "end_time": "2021-04-26T07:54:01.733106Z",
     "start_time": "2021-04-26T07:54:01.717013Z"
    }
   },
   "outputs": [
    {
     "name": "stdout",
     "output_type": "stream",
     "text": [
      "2.4.1\n"
     ]
    }
   ],
   "source": [
    "import pandas as pd \n",
    "import numpy as np\n",
    "import tensorflow as tf\n",
    "import os\n",
    "from tqdm import tqdm\n",
    "import time\n",
    "#initialization code required to make tensorflow work on my systemabs\n",
    "config = tf.compat.v1.ConfigProto()\n",
    "config.gpu_options.allow_growth = True\n",
    "session = tf.compat.v1.Session(config=config)\n",
    "print(tf.__version__)\n",
    "import pickle"
   ]
  },
  {
   "cell_type": "code",
   "execution_count": 46,
   "id": "e0d164fb",
   "metadata": {
    "ExecuteTime": {
     "end_time": "2021-04-26T07:54:02.043941Z",
     "start_time": "2021-04-26T07:54:02.040949Z"
    }
   },
   "outputs": [],
   "source": [
    "data_dir = r'data/30k_sample/'"
   ]
  },
  {
   "cell_type": "code",
   "execution_count": 47,
   "id": "b22ac4ae",
   "metadata": {
    "ExecuteTime": {
     "end_time": "2021-04-26T07:54:02.414518Z",
     "start_time": "2021-04-26T07:54:02.411528Z"
    }
   },
   "outputs": [],
   "source": [
    "#map to the dataframe with captions and path to the images and their embeddings\n",
    "path_to_train_meta = os.path.join(data_dir, r'sent_added_neg')"
   ]
  },
  {
   "cell_type": "code",
   "execution_count": 48,
   "id": "0bf13753",
   "metadata": {
    "ExecuteTime": {
     "end_time": "2021-04-26T07:54:03.199763Z",
     "start_time": "2021-04-26T07:54:03.059774Z"
    }
   },
   "outputs": [],
   "source": [
    "data_df = pd.read_csv(path_to_train_meta)"
   ]
  },
  {
   "cell_type": "code",
   "execution_count": 49,
   "id": "05f2e7bd",
   "metadata": {
    "ExecuteTime": {
     "end_time": "2021-04-26T07:54:03.439754Z",
     "start_time": "2021-04-26T07:54:03.431752Z"
    }
   },
   "outputs": [],
   "source": [
    "#preprocess captions tpo include start and end tokens\n",
    "data_df['captions_processed'] = data_df['caption'].apply(lambda x: '<start> ' + x + ' <end>')"
   ]
  },
  {
   "cell_type": "code",
   "execution_count": 50,
   "id": "9df0ca8e",
   "metadata": {
    "ExecuteTime": {
     "end_time": "2021-04-26T07:54:03.786049Z",
     "start_time": "2021-04-26T07:54:03.678344Z"
    }
   },
   "outputs": [],
   "source": [
    "tokenizer = tf.keras.preprocessing.text.Tokenizer(oov_token=\"<unk>\",\n",
    "                                                  filters='!\"#$%&()*+.,-/:;=?@[\\]^_`{|}~ ')\n",
    "tokenizer.fit_on_texts(data_df['captions_processed'])"
   ]
  },
  {
   "cell_type": "code",
   "execution_count": 51,
   "id": "4955c704",
   "metadata": {
    "ExecuteTime": {
     "end_time": "2021-04-26T07:54:04.166376Z",
     "start_time": "2021-04-26T07:54:04.162388Z"
    }
   },
   "outputs": [],
   "source": [
    "#add a word for padding \n",
    "tokenizer.word_index['<pad>'] = 0\n",
    "tokenizer.index_word[0] = '<pad>'"
   ]
  },
  {
   "cell_type": "code",
   "execution_count": 52,
   "id": "3705b196",
   "metadata": {
    "ExecuteTime": {
     "end_time": "2021-04-26T07:54:04.745236Z",
     "start_time": "2021-04-26T07:54:04.739240Z"
    }
   },
   "outputs": [
    {
     "data": {
      "text/plain": [
       "0       <start> drum and drumsticks pattern repeat sea...\n",
       "1       <start> girl at the computer prints royalty fr...\n",
       "2             <start> shades of purple in the lobby <end>\n",
       "3       <start> lupine plants thrive in the deep fores...\n",
       "4       <start> the abstract figure of the smoke on a ...\n",
       "                              ...                        \n",
       "8907    <start> everyone needs a deck -- a place cover...\n",
       "8908    <start> vector image on the white background <...\n",
       "8909    <start> little girl studying in classroom with...\n",
       "8910    <start> dagger with skulls and a vector art il...\n",
       "8911         <start> man picking fruit over a fence <end>\n",
       "Name: captions_processed, Length: 8912, dtype: object"
      ]
     },
     "execution_count": 52,
     "metadata": {},
     "output_type": "execute_result"
    }
   ],
   "source": [
    "data_df['captions_processed']"
   ]
  },
  {
   "cell_type": "code",
   "execution_count": null,
   "id": "1ab52bb7",
   "metadata": {
    "ExecuteTime": {
     "end_time": "2021-04-25T19:16:20.296077Z",
     "start_time": "2021-04-25T19:16:20.282084Z"
    }
   },
   "outputs": [],
   "source": []
  },
  {
   "cell_type": "code",
   "execution_count": 53,
   "id": "f77750f5",
   "metadata": {
    "ExecuteTime": {
     "end_time": "2021-04-26T07:54:05.613488Z",
     "start_time": "2021-04-26T07:54:05.610478Z"
    }
   },
   "outputs": [],
   "source": [
    "#keep only most common 10k words to limit vocab size\n",
    "num_words = 10000"
   ]
  },
  {
   "cell_type": "code",
   "execution_count": 12,
   "id": "46695d86",
   "metadata": {
    "ExecuteTime": {
     "end_time": "2021-04-26T07:52:02.976729Z",
     "start_time": "2021-04-26T07:52:02.971689Z"
    },
    "deletable": false,
    "editable": false,
    "run_control": {
     "frozen": true
    }
   },
   "outputs": [],
   "source": [
    "#limit vocab size to 10k \n",
    "tokenizer.word_index = {e:i for e,i in tokenizer.word_index.items() if i <= num_words} # <= because tokenizer is 1 indexed"
   ]
  },
  {
   "cell_type": "code",
   "execution_count": 54,
   "id": "e82a2c69",
   "metadata": {
    "ExecuteTime": {
     "end_time": "2021-04-26T07:54:06.735798Z",
     "start_time": "2021-04-26T07:54:06.731816Z"
    }
   },
   "outputs": [
    {
     "data": {
      "text/plain": [
       "8624"
      ]
     },
     "execution_count": 54,
     "metadata": {},
     "output_type": "execute_result"
    }
   ],
   "source": [
    "vocab_len = len(tokenizer.word_index)\n",
    "vocab_len"
   ]
  },
  {
   "cell_type": "code",
   "execution_count": null,
   "id": "f045adb8",
   "metadata": {
    "ExecuteTime": {
     "end_time": "2021-04-25T19:28:19.216318Z",
     "start_time": "2021-04-25T19:28:19.209323Z"
    }
   },
   "outputs": [],
   "source": []
  },
  {
   "cell_type": "code",
   "execution_count": 55,
   "id": "33fdbf7d",
   "metadata": {
    "ExecuteTime": {
     "end_time": "2021-04-26T07:54:14.382208Z",
     "start_time": "2021-04-26T07:54:14.299981Z"
    }
   },
   "outputs": [
    {
     "data": {
      "text/plain": [
       "0       [2, 3485, 10, 3486, 88, 869, 165, 7, 28, 197, ...\n",
       "1         [2, 82, 17, 5, 246, 2239, 277, 123, 57, 708, 3]\n",
       "2                        [2, 1443, 6, 449, 7, 5, 2240, 3]\n",
       "3       [2, 4940, 450, 4941, 7, 5, 1078, 4942, 234, 5,...\n",
       "4           [2, 5, 290, 1079, 6, 5, 803, 8, 4, 14, 15, 3]\n",
       "                              ...                        \n",
       "8907    [2, 1068, 773, 4, 1604, 4, 306, 359, 9, 58, 22...\n",
       "8908                         [2, 24, 83, 8, 5, 14, 15, 3]\n",
       "8909    [2, 143, 82, 1616, 7, 1172, 9, 875, 17, 5, 79,...\n",
       "8910            [2, 4380, 9, 1566, 10, 4, 24, 158, 21, 3]\n",
       "8911                   [2, 41, 1985, 1011, 62, 4, 506, 3]\n",
       "Name: captions_tokenized, Length: 8912, dtype: object"
      ]
     },
     "execution_count": 55,
     "metadata": {},
     "output_type": "execute_result"
    }
   ],
   "source": [
    "data_df['captions_tokenized'] = tokenizer.texts_to_sequences(data_df['captions_processed'])\n",
    "data_df['captions_tokenized'] "
   ]
  },
  {
   "cell_type": "code",
   "execution_count": 56,
   "id": "9f045cf4",
   "metadata": {
    "ExecuteTime": {
     "end_time": "2021-04-26T07:54:16.682590Z",
     "start_time": "2021-04-26T07:54:16.673603Z"
    }
   },
   "outputs": [
    {
     "name": "stdout",
     "output_type": "stream",
     "text": [
      "0       14\n",
      "1       11\n",
      "2        8\n",
      "3       13\n",
      "4       12\n",
      "        ..\n",
      "8907    20\n",
      "8908     8\n",
      "8909    14\n",
      "8910    10\n",
      "8911     8\n",
      "Name: captions_tokenized, Length: 8912, dtype: int64\n"
     ]
    }
   ],
   "source": [
    "#sannity check number of words should be same as number of tokens (with an one token removed for .)\n",
    "print(data_df['captions_tokenized'].apply(lambda x: len(x)))"
   ]
  },
  {
   "cell_type": "code",
   "execution_count": 57,
   "id": "7abe61b4",
   "metadata": {
    "ExecuteTime": {
     "end_time": "2021-04-26T07:54:17.355283Z",
     "start_time": "2021-04-26T07:54:17.338272Z"
    }
   },
   "outputs": [
    {
     "data": {
      "text/plain": [
       "0       15\n",
       "1       11\n",
       "2        8\n",
       "3       13\n",
       "4       12\n",
       "        ..\n",
       "8907    22\n",
       "8908     8\n",
       "8909    15\n",
       "8910    10\n",
       "8911     8\n",
       "Name: captions_processed, Length: 8912, dtype: int64"
      ]
     },
     "execution_count": 57,
     "metadata": {},
     "output_type": "execute_result"
    }
   ],
   "source": [
    "max_len = data_df['captions_tokenized'].apply(lambda x: len(x))\n",
    "data_df['captions_processed'].apply(lambda x: len(x.split()))"
   ]
  },
  {
   "cell_type": "code",
   "execution_count": 58,
   "id": "9430ef7c",
   "metadata": {
    "ExecuteTime": {
     "end_time": "2021-04-26T07:54:18.431107Z",
     "start_time": "2021-04-26T07:54:18.427107Z"
    }
   },
   "outputs": [],
   "source": [
    "#We will now pad the sequences \n",
    "list_of_tokenized_captions = data_df['captions_tokenized'].tolist()"
   ]
  },
  {
   "cell_type": "code",
   "execution_count": 59,
   "id": "23a03fdd",
   "metadata": {
    "ExecuteTime": {
     "end_time": "2021-04-26T07:54:19.094799Z",
     "start_time": "2021-04-26T07:54:19.058251Z"
    }
   },
   "outputs": [],
   "source": [
    "padded_tok_captions = tf.keras.preprocessing.sequence.pad_sequences(list_of_tokenized_captions, padding='post')\n",
    "padded_tok_captions = padded_tok_captions.tolist()\n"
   ]
  },
  {
   "cell_type": "code",
   "execution_count": 60,
   "id": "a3216884",
   "metadata": {
    "ExecuteTime": {
     "end_time": "2021-04-26T07:54:20.183358Z",
     "start_time": "2021-04-26T07:54:20.179364Z"
    },
    "run_control": {
     "marked": true
    }
   },
   "outputs": [
    {
     "data": {
      "text/plain": [
       "50"
      ]
     },
     "execution_count": 60,
     "metadata": {},
     "output_type": "execute_result"
    }
   ],
   "source": [
    "max_len = len(padded_tok_captions[0])\n",
    "max_len"
   ]
  },
  {
   "cell_type": "code",
   "execution_count": 61,
   "id": "e94dfd96",
   "metadata": {
    "ExecuteTime": {
     "end_time": "2021-04-26T07:54:21.795538Z",
     "start_time": "2021-04-26T07:54:21.770236Z"
    }
   },
   "outputs": [
    {
     "data": {
      "text/plain": [
       "0       [2, 3485, 10, 3486, 88, 869, 165, 7, 28, 197, ...\n",
       "1       [2, 82, 17, 5, 246, 2239, 277, 123, 57, 708, 3...\n",
       "2       [2, 1443, 6, 449, 7, 5, 2240, 3, 0, 0, 0, 0, 0...\n",
       "3       [2, 4940, 450, 4941, 7, 5, 1078, 4942, 234, 5,...\n",
       "4       [2, 5, 290, 1079, 6, 5, 803, 8, 4, 14, 15, 3, ...\n",
       "                              ...                        \n",
       "8907    [2, 1068, 773, 4, 1604, 4, 306, 359, 9, 58, 22...\n",
       "8908    [2, 24, 83, 8, 5, 14, 15, 3, 0, 0, 0, 0, 0, 0,...\n",
       "8909    [2, 143, 82, 1616, 7, 1172, 9, 875, 17, 5, 79,...\n",
       "8910    [2, 4380, 9, 1566, 10, 4, 24, 158, 21, 3, 0, 0...\n",
       "8911    [2, 41, 1985, 1011, 62, 4, 506, 3, 0, 0, 0, 0,...\n",
       "Name: captions_tokenized_padded, Length: 8912, dtype: object"
      ]
     },
     "execution_count": 61,
     "metadata": {},
     "output_type": "execute_result"
    }
   ],
   "source": [
    "data_df['captions_tokenized_padded'] = pd.Series(padded_tok_captions)\n",
    "data_df['captions_tokenized_padded']"
   ]
  },
  {
   "cell_type": "code",
   "execution_count": 62,
   "id": "f5e71c9a",
   "metadata": {
    "ExecuteTime": {
     "end_time": "2021-04-26T07:54:23.632283Z",
     "start_time": "2021-04-26T07:54:23.627278Z"
    }
   },
   "outputs": [
    {
     "data": {
      "text/plain": [
       "8624"
      ]
     },
     "execution_count": 62,
     "metadata": {},
     "output_type": "execute_result"
    }
   ],
   "source": [
    "vocab_len = len(tokenizer.word_index)\n",
    "vocab_len"
   ]
  },
  {
   "cell_type": "code",
   "execution_count": 63,
   "id": "9d2f7702",
   "metadata": {
    "ExecuteTime": {
     "end_time": "2021-04-26T07:54:39.664041Z",
     "start_time": "2021-04-26T07:54:39.659034Z"
    }
   },
   "outputs": [
    {
     "name": "stdout",
     "output_type": "stream",
     "text": [
      "0\n",
      "1\n",
      "2\n",
      "3\n"
     ]
    }
   ],
   "source": [
    "#make sure we have unk tokens etc-\n",
    "print(tokenizer.word_index['<pad>'])\n",
    "print(tokenizer.word_index['<unk>'])\n",
    "print(tokenizer.word_index['<start>'])\n",
    "print(tokenizer.word_index['<end>'])"
   ]
  },
  {
   "cell_type": "code",
   "execution_count": 64,
   "id": "a51bbf02",
   "metadata": {
    "ExecuteTime": {
     "end_time": "2021-04-26T07:54:40.425675Z",
     "start_time": "2021-04-26T07:54:40.177909Z"
    }
   },
   "outputs": [],
   "source": [
    "#save preprocessed captions\n",
    "data_df.to_csv(os.path.join(data_dir, \"tokenized_old_sent_added_neg\"),index=False)"
   ]
  },
  {
   "cell_type": "code",
   "execution_count": null,
   "id": "51ec3bbe",
   "metadata": {},
   "outputs": [],
   "source": []
  },
  {
   "cell_type": "code",
   "execution_count": 65,
   "id": "90e8af28",
   "metadata": {
    "ExecuteTime": {
     "end_time": "2021-04-26T07:54:42.853887Z",
     "start_time": "2021-04-26T07:54:42.842892Z"
    }
   },
   "outputs": [],
   "source": [
    "#pickle and save tokenizer\n",
    "tokenizer_path = os.path.join(data_dir, r'tokenizer_old_neg.pickle')\n",
    "\n",
    "# saving\n",
    "with open(tokenizer_path, 'wb') as handle:\n",
    "    pickle.dump(tokenizer, handle, protocol=pickle.HIGHEST_PROTOCOL)\n"
   ]
  },
  {
   "cell_type": "code",
   "execution_count": 66,
   "id": "2d162717",
   "metadata": {
    "ExecuteTime": {
     "end_time": "2021-04-26T07:54:43.563730Z",
     "start_time": "2021-04-26T07:54:43.539712Z"
    },
    "run_control": {
     "marked": true
    }
   },
   "outputs": [],
   "source": [
    "# loading\n",
    "with open(tokenizer_path, 'rb') as handle:\n",
    "    tokenizer = pickle.load(handle)"
   ]
  },
  {
   "cell_type": "code",
   "execution_count": 67,
   "id": "b2ee4d15",
   "metadata": {
    "ExecuteTime": {
     "end_time": "2021-04-26T07:54:44.350855Z",
     "start_time": "2021-04-26T07:54:44.346850Z"
    }
   },
   "outputs": [
    {
     "data": {
      "text/plain": [
       "8624"
      ]
     },
     "execution_count": 67,
     "metadata": {},
     "output_type": "execute_result"
    }
   ],
   "source": [
    "vocab_len = len(tokenizer.word_index)\n",
    "vocab_len\n"
   ]
  },
  {
   "cell_type": "code",
   "execution_count": 68,
   "id": "074763e8",
   "metadata": {
    "ExecuteTime": {
     "end_time": "2021-04-26T07:54:44.975355Z",
     "start_time": "2021-04-26T07:54:44.971351Z"
    }
   },
   "outputs": [
    {
     "name": "stdout",
     "output_type": "stream",
     "text": [
      "0\n",
      "1\n",
      "2\n",
      "3\n"
     ]
    }
   ],
   "source": [
    "#make sure we have unk tokens etc-\n",
    "print(tokenizer.word_index['<pad>'])\n",
    "print(tokenizer.word_index['<unk>'])\n",
    "print(tokenizer.word_index['<start>'])\n",
    "print(tokenizer.word_index['<end>'])"
   ]
  },
  {
   "cell_type": "code",
   "execution_count": null,
   "id": "54043e5d",
   "metadata": {},
   "outputs": [],
   "source": []
  },
  {
   "cell_type": "code",
   "execution_count": null,
   "id": "846a9aa0",
   "metadata": {},
   "outputs": [],
   "source": []
  },
  {
   "cell_type": "code",
   "execution_count": null,
   "id": "f40cf2d0",
   "metadata": {},
   "outputs": [],
   "source": []
  },
  {
   "cell_type": "code",
   "execution_count": null,
   "id": "80a71e5b",
   "metadata": {},
   "outputs": [],
   "source": []
  },
  {
   "cell_type": "code",
   "execution_count": null,
   "id": "47359db2",
   "metadata": {},
   "outputs": [],
   "source": []
  },
  {
   "cell_type": "code",
   "execution_count": null,
   "id": "0caa0a5f",
   "metadata": {},
   "outputs": [],
   "source": []
  },
  {
   "cell_type": "code",
   "execution_count": null,
   "id": "fa32e5b3",
   "metadata": {},
   "outputs": [],
   "source": []
  },
  {
   "cell_type": "code",
   "execution_count": null,
   "id": "2442a838",
   "metadata": {},
   "outputs": [],
   "source": []
  },
  {
   "cell_type": "code",
   "execution_count": null,
   "id": "4600df50",
   "metadata": {},
   "outputs": [],
   "source": []
  },
  {
   "cell_type": "code",
   "execution_count": null,
   "id": "ae5dc1ea",
   "metadata": {},
   "outputs": [],
   "source": []
  },
  {
   "cell_type": "code",
   "execution_count": null,
   "id": "e42ad660",
   "metadata": {},
   "outputs": [],
   "source": []
  },
  {
   "cell_type": "code",
   "execution_count": null,
   "id": "7d384839",
   "metadata": {},
   "outputs": [],
   "source": []
  },
  {
   "cell_type": "code",
   "execution_count": null,
   "id": "71716a8b",
   "metadata": {},
   "outputs": [],
   "source": []
  }
 ],
 "metadata": {
  "kernelspec": {
   "display_name": "PyCharm (ML1_Final_Proj)",
   "language": "python",
   "name": "pycharm-1759dd10"
  },
  "language_info": {
   "codemirror_mode": {
    "name": "ipython",
    "version": 3
   },
   "file_extension": ".py",
   "mimetype": "text/x-python",
   "name": "python",
   "nbconvert_exporter": "python",
   "pygments_lexer": "ipython3",
   "version": "3.8.8"
  },
  "toc": {
   "base_numbering": 1,
   "nav_menu": {},
   "number_sections": true,
   "sideBar": true,
   "skip_h1_title": true,
   "title_cell": "Table of Contents",
   "title_sidebar": "Contents",
   "toc_cell": false,
   "toc_position": {
    "height": "calc(100% - 180px)",
    "left": "10px",
    "top": "150px",
    "width": "165px"
   },
   "toc_section_display": true,
   "toc_window_display": true
  },
  "varInspector": {
   "cols": {
    "lenName": 16,
    "lenType": 16,
    "lenVar": 40
   },
   "kernels_config": {
    "python": {
     "delete_cmd_postfix": "",
     "delete_cmd_prefix": "del ",
     "library": "var_list.py",
     "varRefreshCmd": "print(var_dic_list())"
    },
    "r": {
     "delete_cmd_postfix": ") ",
     "delete_cmd_prefix": "rm(",
     "library": "var_list.r",
     "varRefreshCmd": "cat(var_dic_list()) "
    }
   },
   "types_to_exclude": [
    "module",
    "function",
    "builtin_function_or_method",
    "instance",
    "_Feature"
   ],
   "window_display": false
  }
 },
 "nbformat": 4,
 "nbformat_minor": 5
}
